{
 "cells": [
  {
   "cell_type": "code",
   "execution_count": 1,
   "id": "de0478ea",
   "metadata": {},
   "outputs": [],
   "source": [
    "import pandas as pd\n",
    "import numpy as np\n",
    "from sklearn.preprocessing import StandardScaler\n",
    "from sklearn.decomposition import PCA as sklearnPCA\n",
    "import matplotlib.pyplot as plt"
   ]
  },
  {
   "cell_type": "code",
   "execution_count": 2,
   "id": "d3d2950c",
   "metadata": {},
   "outputs": [],
   "source": [
    "data = pd.read_csv('.\\electric_motor.csv')"
   ]
  },
  {
   "cell_type": "code",
   "execution_count": 3,
   "id": "ef5d462b",
   "metadata": {},
   "outputs": [
    {
     "name": "stdout",
     "output_type": "stream",
     "text": [
      "         Brand  AccelSec  TopSpeedKmH  RangeKm  EfficiencyWhKm  FastChargeKmH  \\\n",
      "0       Tesla        4.6          233      450             161          940.0   \n",
      "1  Volkswagen       10.0          160      270             167          250.0   \n",
      "2    Polestar        4.7          210      400             181          620.0   \n",
      "3         BMW        6.8          180      360             206          560.0   \n",
      "4       Honda        9.5          145      170             168          190.0   \n",
      "\n",
      "   Seats  PriceEuro  RapidCharge  \n",
      "0      5      55480            1  \n",
      "1      5      30000            1  \n",
      "2      5      56440            1  \n",
      "3      5      68040            1  \n",
      "4      4      32997            1  \n"
     ]
    }
   ],
   "source": [
    "print(data.head()) #Data information "
   ]
  },
  {
   "cell_type": "code",
   "execution_count": 4,
   "id": "e8fb7c47",
   "metadata": {},
   "outputs": [
    {
     "name": "stdout",
     "output_type": "stream",
     "text": [
      "<bound method DataFrame.info of            Brand  AccelSec  TopSpeedKmH  RangeKm  EfficiencyWhKm  \\\n",
      "0         Tesla        4.6          233      450             161   \n",
      "1    Volkswagen       10.0          160      270             167   \n",
      "2      Polestar        4.7          210      400             181   \n",
      "3           BMW        6.8          180      360             206   \n",
      "4         Honda        9.5          145      170             168   \n",
      "..           ...       ...          ...      ...             ...   \n",
      "98       Nissan        7.5          160      330             191   \n",
      "99         Audi        4.5          210      335             258   \n",
      "100      Nissan        5.9          200      325             194   \n",
      "101      Nissan        5.1          200      375             232   \n",
      "102       Byton        7.5          190      400             238   \n",
      "\n",
      "     FastChargeKmH  Seats  PriceEuro  RapidCharge  \n",
      "0            940.0      5      55480            1  \n",
      "1            250.0      5      30000            1  \n",
      "2            620.0      5      56440            1  \n",
      "3            560.0      5      68040            1  \n",
      "4            190.0      4      32997            1  \n",
      "..             ...    ...        ...          ...  \n",
      "98           440.0      5      45000            1  \n",
      "99           540.0      5      96050            1  \n",
      "100          440.0      5      50000            1  \n",
      "101          450.0      5      65000            1  \n",
      "102          480.0      5      62000            1  \n",
      "\n",
      "[103 rows x 9 columns]>\n"
     ]
    }
   ],
   "source": [
    "print(data.info)"
   ]
  },
  {
   "cell_type": "code",
   "execution_count": 6,
   "id": "a9033b26",
   "metadata": {},
   "outputs": [
    {
     "name": "stdout",
     "output_type": "stream",
     "text": [
      "         AccelSec  TopSpeedKmH     RangeKm  EfficiencyWhKm  FastChargeKmH  \\\n",
      "count  103.000000   103.000000  103.000000      103.000000      98.000000   \n",
      "mean     7.396117   179.194175  338.786408      189.165049     456.734694   \n",
      "std      3.017430    43.573030  126.014444       29.566839     201.262897   \n",
      "min      2.100000   123.000000   95.000000      104.000000     170.000000   \n",
      "25%      5.100000   150.000000  250.000000      168.000000     275.000000   \n",
      "50%      7.300000   160.000000  340.000000      180.000000     440.000000   \n",
      "75%      9.000000   200.000000  400.000000      203.000000     560.000000   \n",
      "max     22.400000   410.000000  970.000000      273.000000     940.000000   \n",
      "\n",
      "            Seats      PriceEuro  RapidCharge  \n",
      "count  103.000000     103.000000   103.000000  \n",
      "mean     4.883495   55811.563107     1.048544  \n",
      "std      0.795834   34134.665280     0.215963  \n",
      "min      2.000000   20129.000000     1.000000  \n",
      "25%      5.000000   34429.500000     1.000000  \n",
      "50%      5.000000   45000.000000     1.000000  \n",
      "75%      5.000000   65000.000000     1.000000  \n",
      "max      7.000000  215000.000000     2.000000  \n"
     ]
    }
   ],
   "source": [
    "print(data.describe())"
   ]
  },
  {
   "cell_type": "code",
   "execution_count": 10,
   "id": "76c5deb7",
   "metadata": {},
   "outputs": [
    {
     "data": {
      "text/plain": [
       "Index(['Brand', 'AccelSec', 'TopSpeedKmH', 'RangeKm', 'EfficiencyWhKm',\n",
       "       'FastChargeKmH', 'Seats', 'PriceEuro', 'RapidCharge'],\n",
       "      dtype='object')"
      ]
     },
     "execution_count": 10,
     "metadata": {},
     "output_type": "execute_result"
    }
   ],
   "source": [
    "data.columns"
   ]
  },
  {
   "cell_type": "code",
   "execution_count": 12,
   "id": "750806f6",
   "metadata": {},
   "outputs": [
    {
     "name": "stdout",
     "output_type": "stream",
     "text": [
      "['Brand', 'AccelSec', 'TopSpeedKmH', 'RangeKm', 'EfficiencyWhKm', 'FastChargeKmH', 'Seats', 'PriceEuro', 'RapidCharge']\n",
      "\n",
      "\n"
     ]
    }
   ],
   "source": [
    "electric_column_data_list = list(data.columns)\n",
    "print(electric_column_data_list)\n",
    "print('\\n')"
   ]
  },
  {
   "cell_type": "code",
   "execution_count": 14,
   "id": "109bfac5",
   "metadata": {},
   "outputs": [
    {
     "data": {
      "text/plain": [
       "Brand             False\n",
       "AccelSec          False\n",
       "TopSpeedKmH       False\n",
       "RangeKm           False\n",
       "EfficiencyWhKm    False\n",
       "FastChargeKmH      True\n",
       "Seats             False\n",
       "PriceEuro         False\n",
       "RapidCharge       False\n",
       "dtype: bool"
      ]
     },
     "execution_count": 14,
     "metadata": {},
     "output_type": "execute_result"
    }
   ],
   "source": [
    "# Finding null columns\n",
    "data.isnull().any()"
   ]
  },
  {
   "cell_type": "code",
   "execution_count": 29,
   "id": "1d8ebd7d",
   "metadata": {},
   "outputs": [
    {
     "name": "stdout",
     "output_type": "stream",
     "text": [
      "456.734693877551\n"
     ]
    }
   ],
   "source": [
    "print(data['FastChargeKmH'].mean())\n",
    "#Filling mean value to the missing value \n",
    "data['FastChargeKmH'].fillna(data['FastChargeKmH'].mean(),inplace=True)"
   ]
  },
  {
   "cell_type": "code",
   "execution_count": 30,
   "id": "c24f6542",
   "metadata": {},
   "outputs": [
    {
     "data": {
      "text/plain": [
       "False"
      ]
     },
     "execution_count": 30,
     "metadata": {},
     "output_type": "execute_result"
    }
   ],
   "source": [
    "# Is any null value present in column\n",
    "data['FastChargeKmH'].isnull().any()"
   ]
  },
  {
   "cell_type": "code",
   "execution_count": 31,
   "id": "6d123820",
   "metadata": {},
   "outputs": [
    {
     "data": {
      "text/plain": [
       "78     360.000000\n",
       "79     810.000000\n",
       "80     470.000000\n",
       "81     480.000000\n",
       "82     456.734694\n",
       "83     380.000000\n",
       "84     290.000000\n",
       "85     330.000000\n",
       "86     740.000000\n",
       "87     470.000000\n",
       "88     540.000000\n",
       "89     440.000000\n",
       "90     510.000000\n",
       "91     456.734694\n",
       "92     320.000000\n",
       "93     500.000000\n",
       "94     330.000000\n",
       "95     470.000000\n",
       "96     220.000000\n",
       "97     420.000000\n",
       "98     440.000000\n",
       "99     540.000000\n",
       "100    440.000000\n",
       "101    450.000000\n",
       "102    480.000000\n",
       "Name: FastChargeKmH, dtype: float64"
      ]
     },
     "execution_count": 31,
     "metadata": {},
     "output_type": "execute_result"
    }
   ],
   "source": [
    "data['FastChargeKmH'].tail(25)"
   ]
  },
  {
   "cell_type": "code",
   "execution_count": 35,
   "id": "47b8e4fb",
   "metadata": {},
   "outputs": [],
   "source": [
    "data=data.drop(['Brand'],axis=1)"
   ]
  },
  {
   "cell_type": "code",
   "execution_count": 36,
   "id": "493a3f74",
   "metadata": {},
   "outputs": [
    {
     "data": {
      "text/plain": [
       "Index(['AccelSec', 'TopSpeedKmH', 'RangeKm', 'EfficiencyWhKm', 'FastChargeKmH',\n",
       "       'Seats', 'PriceEuro', 'RapidCharge'],\n",
       "      dtype='object')"
      ]
     },
     "execution_count": 36,
     "metadata": {},
     "output_type": "execute_result"
    }
   ],
   "source": [
    "data.columns"
   ]
  },
  {
   "cell_type": "code",
   "execution_count": 37,
   "id": "601cbacd",
   "metadata": {},
   "outputs": [
    {
     "data": {
      "text/plain": [
       "False"
      ]
     },
     "execution_count": 37,
     "metadata": {},
     "output_type": "execute_result"
    }
   ],
   "source": [
    "data.columns.isnull().any()"
   ]
  },
  {
   "cell_type": "code",
   "execution_count": 40,
   "id": "c4a18841",
   "metadata": {},
   "outputs": [
    {
     "data": {
      "text/plain": [
       "['Seats',\n",
       " 'AccelSec',\n",
       " 'FastChargeKmH',\n",
       " 'RapidCharge',\n",
       " 'PriceEuro',\n",
       " 'TopSpeedKmH',\n",
       " 'RangeKm',\n",
       " 'EfficiencyWhKm']"
      ]
     },
     "execution_count": 40,
     "metadata": {},
     "output_type": "execute_result"
    }
   ],
   "source": [
    "input_column_list = list(set(electric_column_data_list)-set(['Brand']))\n",
    "input_column_list"
   ]
  },
  {
   "cell_type": "code",
   "execution_count": 41,
   "id": "1e7dcf1b",
   "metadata": {},
   "outputs": [
    {
     "name": "stdout",
     "output_type": "stream",
     "text": [
      "['RapidCharge']\n"
     ]
    }
   ],
   "source": [
    "output_list = list(['RapidCharge'])\n",
    "print(output_list)"
   ]
  },
  {
   "cell_type": "code",
   "execution_count": 44,
   "id": "ae5b8ec1",
   "metadata": {},
   "outputs": [
    {
     "name": "stdout",
     "output_type": "stream",
     "text": [
      "     AccelSec  TopSpeedKmH  RangeKm  EfficiencyWhKm  FastChargeKmH  Seats  \\\n",
      "0       -0.93         1.24     0.89           -0.96           2.47   0.15   \n",
      "1        0.87        -0.44    -0.55           -0.75          -1.06   0.15   \n",
      "2       -0.90         0.71     0.49           -0.28           0.84   0.15   \n",
      "3       -0.20         0.02     0.17            0.57           0.53   0.15   \n",
      "4        0.70        -0.79    -1.35           -0.72          -1.37  -1.12   \n",
      "..        ...          ...      ...             ...            ...    ...   \n",
      "98       0.03        -0.44    -0.07            0.06          -0.09   0.15   \n",
      "99      -0.96         0.71    -0.03            2.34           0.43   0.15   \n",
      "100     -0.50         0.48    -0.11            0.16          -0.09   0.15   \n",
      "101     -0.76         0.48     0.29            1.46          -0.03   0.15   \n",
      "102      0.03         0.25     0.49            1.66           0.12   0.15   \n",
      "\n",
      "     PriceEuro  RapidCharge  \n",
      "0        -0.01        -0.23  \n",
      "1        -0.76        -0.23  \n",
      "2         0.02        -0.23  \n",
      "3         0.36        -0.23  \n",
      "4        -0.67        -0.23  \n",
      "..         ...          ...  \n",
      "98       -0.32        -0.23  \n",
      "99        1.18        -0.23  \n",
      "100      -0.17        -0.23  \n",
      "101       0.27        -0.23  \n",
      "102       0.18        -0.23  \n",
      "\n",
      "[103 rows x 8 columns]\n"
     ]
    }
   ],
   "source": [
    "scaler = StandardScaler()\n",
    "data[input_column_list]=scaler.fit_transform(data[input_column_list])\n",
    "print(round(data,2))"
   ]
  },
  {
   "cell_type": "code",
   "execution_count": 48,
   "id": "dc5208b4",
   "metadata": {},
   "outputs": [
    {
     "name": "stdout",
     "output_type": "stream",
     "text": [
      "                Seats  AccelSec  FastChargeKmH  RapidCharge  PriceEuro  \\\n",
      "Seats            1.01     -0.18           0.08        -0.43       0.02   \n",
      "AccelSec        -0.18      1.01          -0.62         0.52      -0.63   \n",
      "FastChargeKmH    0.08     -0.62           1.01         0.00       0.64   \n",
      "RapidCharge     -0.43      0.52           0.00         1.01      -0.20   \n",
      "PriceEuro        0.02     -0.63           0.64        -0.20       1.01   \n",
      "TopSpeedKmH      0.13     -0.79           0.75        -0.25       0.84   \n",
      "RangeKm          0.30     -0.68           0.64        -0.41       0.68   \n",
      "EfficiencyWhKm   0.30     -0.39           0.31        -0.11       0.40   \n",
      "\n",
      "                TopSpeedKmH  RangeKm  EfficiencyWhKm  \n",
      "Seats                  0.13     0.30            0.30  \n",
      "AccelSec              -0.79    -0.68           -0.39  \n",
      "FastChargeKmH          0.75     0.64            0.31  \n",
      "RapidCharge           -0.25    -0.41           -0.11  \n",
      "PriceEuro              0.84     0.68            0.40  \n",
      "TopSpeedKmH            1.01     0.75            0.36  \n",
      "RangeKm                0.75     1.01            0.32  \n",
      "EfficiencyWhKm         0.36     0.32            1.01  \n"
     ]
    }
   ],
   "source": [
    "# Computing covariance matrix\n",
    "input_data = data[input_column_list]\n",
    "covariance_matrix = input_data.cov()\n",
    "print(round(covariance_matrix,2))"
   ]
  },
  {
   "cell_type": "code",
   "execution_count": 53,
   "id": "41c7ef10",
   "metadata": {},
   "outputs": [],
   "source": [
    "# Computing eigen value and eigenvector\n",
    "eig_val,eig_vec = np.linalg.eig(covariance_matrix.to_numpy())\n",
    "len(eig_val)\n",
    "eig_pairs = [(np.abs(eig_val[i]),eig_vec[:,i])for i in range(len(eig_val))]"
   ]
  },
  {
   "cell_type": "code",
   "execution_count": 55,
   "id": "01f3d941",
   "metadata": {},
   "outputs": [
    {
     "name": "stdout",
     "output_type": "stream",
     "text": [
      "Eigen value in descending order\n",
      "\n",
      "4.235923439548401\n",
      "1.4196853662162119\n",
      "0.913583389364097\n",
      "0.6069057972628527\n",
      "0.3639516500978206\n",
      "0.25971535644721644\n",
      "0.1819772391411559\n",
      "0.0966891344712704\n"
     ]
    }
   ],
   "source": [
    "# Absolute Value\n",
    "eig_pairs.sort(key = lambda x: x[0],reverse=True)\n",
    "print('Eigen value in descending order\\n')\n",
    "for i in eig_pairs:\n",
    "    print(i[0])\n"
   ]
  },
  {
   "cell_type": "code",
   "execution_count": 56,
   "id": "0e3a3988",
   "metadata": {},
   "outputs": [],
   "source": [
    "# Setting Threshold value is 95%\n",
    "threshold = 0.95"
   ]
  },
  {
   "cell_type": "code",
   "execution_count": 57,
   "id": "98a93990",
   "metadata": {},
   "outputs": [
    {
     "name": "stdout",
     "output_type": "stream",
     "text": [
      "Explain Variance in Percentage \n",
      "\n"
     ]
    }
   ],
   "source": [
    "# Computing number of PC's required to capture specific variance\n",
    "print('Explain Variance in Percentage \\n')\n",
    "total_variance = 0.0\n",
    "count = 0\n",
    "eig_sum = np.sum(eig_val)"
   ]
  },
  {
   "cell_type": "code",
   "execution_count": 59,
   "id": "7275c01b",
   "metadata": {},
   "outputs": [
    {
     "name": "stdout",
     "output_type": "stream",
     "text": [
      "eigenvalue 1: 52.43497461576899\n",
      "eigenvalue 2: 17.57377516432688\n",
      "eigenvalue 3: 11.308920596497307\n",
      "eigenvalue 4: 7.512668849612976\n",
      "eigenvalue 5: 4.505226736647776\n",
      "eigenvalue 6: 3.214923101652434\n",
      "0.9655048906450636\n"
     ]
    }
   ],
   "source": [
    "for i,j in enumerate (eig_pairs):\n",
    "    variance_explained = (j[0]/eig_sum).real\n",
    "    print('eigenvalue {}: {}'.format(i+1, (j[0]/eig_sum).real*100))\n",
    "    total_variance = total_variance+variance_explained\n",
    "    count = count+1\n",
    "    if(total_variance>threshold):\n",
    "        break\n",
    "print(total_variance)"
   ]
  },
  {
   "cell_type": "code",
   "execution_count": 65,
   "id": "09ed3e14",
   "metadata": {},
   "outputs": [
    {
     "data": {
      "text/plain": [
       "6"
      ]
     },
     "execution_count": 65,
     "metadata": {},
     "output_type": "execute_result"
    }
   ],
   "source": [
    "len(eig_vec)\n",
    "count\n"
   ]
  },
  {
   "cell_type": "code",
   "execution_count": 67,
   "id": "96b510c0",
   "metadata": {},
   "outputs": [],
   "source": [
    "# Select required Pc's based on count projection matrix w=d*k\n",
    "reduced_dimension = np.zeros((len(eig_vec),count))\n",
    "for i   in range(count):\n",
    "    reduced_dimension[:,i] = eig_pairs[i][1]"
   ]
  },
  {
   "cell_type": "code",
   "execution_count": 69,
   "id": "4982bebc",
   "metadata": {},
   "outputs": [
    {
     "ename": "ValueError",
     "evalue": "Shape of passed values is (103, 6), indices imply (103, 2)",
     "output_type": "error",
     "traceback": [
      "\u001b[1;31m---------------------------------------------------------------------------\u001b[0m",
      "\u001b[1;31mValueError\u001b[0m                                Traceback (most recent call last)",
      "\u001b[1;32mC:\\ProgramData\\Anaconda3\\lib\\site-packages\\pandas\\core\\internals\\managers.py\u001b[0m in \u001b[0;36mcreate_block_manager_from_blocks\u001b[1;34m(blocks, axes)\u001b[0m\n\u001b[0;32m   1674\u001b[0m                 blocks = [\n\u001b[1;32m-> 1675\u001b[1;33m                     make_block(\n\u001b[0m\u001b[0;32m   1676\u001b[0m                         \u001b[0mvalues\u001b[0m\u001b[1;33m=\u001b[0m\u001b[0mblocks\u001b[0m\u001b[1;33m[\u001b[0m\u001b[1;36m0\u001b[0m\u001b[1;33m]\u001b[0m\u001b[1;33m,\u001b[0m \u001b[0mplacement\u001b[0m\u001b[1;33m=\u001b[0m\u001b[0mslice\u001b[0m\u001b[1;33m(\u001b[0m\u001b[1;36m0\u001b[0m\u001b[1;33m,\u001b[0m \u001b[0mlen\u001b[0m\u001b[1;33m(\u001b[0m\u001b[0maxes\u001b[0m\u001b[1;33m[\u001b[0m\u001b[1;36m0\u001b[0m\u001b[1;33m]\u001b[0m\u001b[1;33m)\u001b[0m\u001b[1;33m)\u001b[0m\u001b[1;33m,\u001b[0m \u001b[0mndim\u001b[0m\u001b[1;33m=\u001b[0m\u001b[1;36m2\u001b[0m\u001b[1;33m\u001b[0m\u001b[1;33m\u001b[0m\u001b[0m\n",
      "\u001b[1;32mC:\\ProgramData\\Anaconda3\\lib\\site-packages\\pandas\\core\\internals\\blocks.py\u001b[0m in \u001b[0;36mmake_block\u001b[1;34m(values, placement, klass, ndim, dtype)\u001b[0m\n\u001b[0;32m   2741\u001b[0m \u001b[1;33m\u001b[0m\u001b[0m\n\u001b[1;32m-> 2742\u001b[1;33m     \u001b[1;32mreturn\u001b[0m \u001b[0mklass\u001b[0m\u001b[1;33m(\u001b[0m\u001b[0mvalues\u001b[0m\u001b[1;33m,\u001b[0m \u001b[0mndim\u001b[0m\u001b[1;33m=\u001b[0m\u001b[0mndim\u001b[0m\u001b[1;33m,\u001b[0m \u001b[0mplacement\u001b[0m\u001b[1;33m=\u001b[0m\u001b[0mplacement\u001b[0m\u001b[1;33m)\u001b[0m\u001b[1;33m\u001b[0m\u001b[1;33m\u001b[0m\u001b[0m\n\u001b[0m\u001b[0;32m   2743\u001b[0m \u001b[1;33m\u001b[0m\u001b[0m\n",
      "\u001b[1;32mC:\\ProgramData\\Anaconda3\\lib\\site-packages\\pandas\\core\\internals\\blocks.py\u001b[0m in \u001b[0;36m__init__\u001b[1;34m(self, values, placement, ndim)\u001b[0m\n\u001b[0;32m    141\u001b[0m         \u001b[1;32mif\u001b[0m \u001b[0mself\u001b[0m\u001b[1;33m.\u001b[0m\u001b[0m_validate_ndim\u001b[0m \u001b[1;32mand\u001b[0m \u001b[0mself\u001b[0m\u001b[1;33m.\u001b[0m\u001b[0mndim\u001b[0m \u001b[1;32mand\u001b[0m \u001b[0mlen\u001b[0m\u001b[1;33m(\u001b[0m\u001b[0mself\u001b[0m\u001b[1;33m.\u001b[0m\u001b[0mmgr_locs\u001b[0m\u001b[1;33m)\u001b[0m \u001b[1;33m!=\u001b[0m \u001b[0mlen\u001b[0m\u001b[1;33m(\u001b[0m\u001b[0mself\u001b[0m\u001b[1;33m.\u001b[0m\u001b[0mvalues\u001b[0m\u001b[1;33m)\u001b[0m\u001b[1;33m:\u001b[0m\u001b[1;33m\u001b[0m\u001b[1;33m\u001b[0m\u001b[0m\n\u001b[1;32m--> 142\u001b[1;33m             raise ValueError(\n\u001b[0m\u001b[0;32m    143\u001b[0m                 \u001b[1;34mf\"Wrong number of items passed {len(self.values)}, \"\u001b[0m\u001b[1;33m\u001b[0m\u001b[1;33m\u001b[0m\u001b[0m\n",
      "\u001b[1;31mValueError\u001b[0m: Wrong number of items passed 6, placement implies 2",
      "\nDuring handling of the above exception, another exception occurred:\n",
      "\u001b[1;31mValueError\u001b[0m                                Traceback (most recent call last)",
      "\u001b[1;32m<ipython-input-69-02316eadb8b2>\u001b[0m in \u001b[0;36m<module>\u001b[1;34m\u001b[0m\n\u001b[0;32m      1\u001b[0m \u001b[1;31m# Projecting the scale data into reduced space\u001b[0m\u001b[1;33m\u001b[0m\u001b[1;33m\u001b[0m\u001b[1;33m\u001b[0m\u001b[0m\n\u001b[0;32m      2\u001b[0m \u001b[0mprojected_data\u001b[0m \u001b[1;33m=\u001b[0m \u001b[0mdata\u001b[0m\u001b[1;33m[\u001b[0m\u001b[0minput_column_list\u001b[0m\u001b[1;33m]\u001b[0m\u001b[1;33m.\u001b[0m\u001b[0mto_numpy\u001b[0m\u001b[1;33m(\u001b[0m\u001b[1;33m)\u001b[0m\u001b[1;33m.\u001b[0m\u001b[0mdot\u001b[0m\u001b[1;33m(\u001b[0m\u001b[0mreduced_dimension\u001b[0m\u001b[1;33m)\u001b[0m\u001b[1;33m\u001b[0m\u001b[1;33m\u001b[0m\u001b[0m\n\u001b[1;32m----> 3\u001b[1;33m \u001b[0mprojected_dataframe\u001b[0m \u001b[1;33m=\u001b[0m \u001b[0mpd\u001b[0m\u001b[1;33m.\u001b[0m\u001b[0mDataFrame\u001b[0m\u001b[1;33m(\u001b[0m\u001b[0mprojected_data\u001b[0m\u001b[1;33m,\u001b[0m \u001b[0mcolumns\u001b[0m\u001b[1;33m=\u001b[0m\u001b[1;33m[\u001b[0m\u001b[1;34m'PC1'\u001b[0m\u001b[1;33m,\u001b[0m\u001b[1;34m'PC2'\u001b[0m\u001b[1;33m]\u001b[0m\u001b[1;33m)\u001b[0m\u001b[1;33m\u001b[0m\u001b[1;33m\u001b[0m\u001b[0m\n\u001b[0m\u001b[0;32m      4\u001b[0m \u001b[0mprojected_dataframe_with_class_info\u001b[0m \u001b[1;33m=\u001b[0m \u001b[0mpd\u001b[0m\u001b[1;33m.\u001b[0m\u001b[0mconcat\u001b[0m\u001b[1;33m(\u001b[0m\u001b[1;33m[\u001b[0m\u001b[0mprojected_dataframe\u001b[0m\u001b[1;33m,\u001b[0m \u001b[0mdata\u001b[0m\u001b[1;33m[\u001b[0m\u001b[1;34m'RapidChargeKmH'\u001b[0m\u001b[1;33m]\u001b[0m\u001b[1;33m]\u001b[0m\u001b[1;33m,\u001b[0m\u001b[0maxis\u001b[0m\u001b[1;33m=\u001b[0m\u001b[1;36m1\u001b[0m\u001b[1;33m)\u001b[0m\u001b[1;33m\u001b[0m\u001b[1;33m\u001b[0m\u001b[0m\n",
      "\u001b[1;32mC:\\ProgramData\\Anaconda3\\lib\\site-packages\\pandas\\core\\frame.py\u001b[0m in \u001b[0;36m__init__\u001b[1;34m(self, data, index, columns, dtype, copy)\u001b[0m\n\u001b[0;32m    556\u001b[0m                 \u001b[0mmgr\u001b[0m \u001b[1;33m=\u001b[0m \u001b[0minit_dict\u001b[0m\u001b[1;33m(\u001b[0m\u001b[1;33m{\u001b[0m\u001b[0mdata\u001b[0m\u001b[1;33m.\u001b[0m\u001b[0mname\u001b[0m\u001b[1;33m:\u001b[0m \u001b[0mdata\u001b[0m\u001b[1;33m}\u001b[0m\u001b[1;33m,\u001b[0m \u001b[0mindex\u001b[0m\u001b[1;33m,\u001b[0m \u001b[0mcolumns\u001b[0m\u001b[1;33m,\u001b[0m \u001b[0mdtype\u001b[0m\u001b[1;33m=\u001b[0m\u001b[0mdtype\u001b[0m\u001b[1;33m)\u001b[0m\u001b[1;33m\u001b[0m\u001b[1;33m\u001b[0m\u001b[0m\n\u001b[0;32m    557\u001b[0m             \u001b[1;32melse\u001b[0m\u001b[1;33m:\u001b[0m\u001b[1;33m\u001b[0m\u001b[1;33m\u001b[0m\u001b[0m\n\u001b[1;32m--> 558\u001b[1;33m                 \u001b[0mmgr\u001b[0m \u001b[1;33m=\u001b[0m \u001b[0minit_ndarray\u001b[0m\u001b[1;33m(\u001b[0m\u001b[0mdata\u001b[0m\u001b[1;33m,\u001b[0m \u001b[0mindex\u001b[0m\u001b[1;33m,\u001b[0m \u001b[0mcolumns\u001b[0m\u001b[1;33m,\u001b[0m \u001b[0mdtype\u001b[0m\u001b[1;33m=\u001b[0m\u001b[0mdtype\u001b[0m\u001b[1;33m,\u001b[0m \u001b[0mcopy\u001b[0m\u001b[1;33m=\u001b[0m\u001b[0mcopy\u001b[0m\u001b[1;33m)\u001b[0m\u001b[1;33m\u001b[0m\u001b[1;33m\u001b[0m\u001b[0m\n\u001b[0m\u001b[0;32m    559\u001b[0m \u001b[1;33m\u001b[0m\u001b[0m\n\u001b[0;32m    560\u001b[0m         \u001b[1;31m# For data is list-like, or Iterable (will consume into list)\u001b[0m\u001b[1;33m\u001b[0m\u001b[1;33m\u001b[0m\u001b[1;33m\u001b[0m\u001b[0m\n",
      "\u001b[1;32mC:\\ProgramData\\Anaconda3\\lib\\site-packages\\pandas\\core\\internals\\construction.py\u001b[0m in \u001b[0;36minit_ndarray\u001b[1;34m(values, index, columns, dtype, copy)\u001b[0m\n\u001b[0;32m    236\u001b[0m         \u001b[0mblock_values\u001b[0m \u001b[1;33m=\u001b[0m \u001b[1;33m[\u001b[0m\u001b[0mvalues\u001b[0m\u001b[1;33m]\u001b[0m\u001b[1;33m\u001b[0m\u001b[1;33m\u001b[0m\u001b[0m\n\u001b[0;32m    237\u001b[0m \u001b[1;33m\u001b[0m\u001b[0m\n\u001b[1;32m--> 238\u001b[1;33m     \u001b[1;32mreturn\u001b[0m \u001b[0mcreate_block_manager_from_blocks\u001b[0m\u001b[1;33m(\u001b[0m\u001b[0mblock_values\u001b[0m\u001b[1;33m,\u001b[0m \u001b[1;33m[\u001b[0m\u001b[0mcolumns\u001b[0m\u001b[1;33m,\u001b[0m \u001b[0mindex\u001b[0m\u001b[1;33m]\u001b[0m\u001b[1;33m)\u001b[0m\u001b[1;33m\u001b[0m\u001b[1;33m\u001b[0m\u001b[0m\n\u001b[0m\u001b[0;32m    239\u001b[0m \u001b[1;33m\u001b[0m\u001b[0m\n\u001b[0;32m    240\u001b[0m \u001b[1;33m\u001b[0m\u001b[0m\n",
      "\u001b[1;32mC:\\ProgramData\\Anaconda3\\lib\\site-packages\\pandas\\core\\internals\\managers.py\u001b[0m in \u001b[0;36mcreate_block_manager_from_blocks\u001b[1;34m(blocks, axes)\u001b[0m\n\u001b[0;32m   1685\u001b[0m         \u001b[0mblocks\u001b[0m \u001b[1;33m=\u001b[0m \u001b[1;33m[\u001b[0m\u001b[0mgetattr\u001b[0m\u001b[1;33m(\u001b[0m\u001b[0mb\u001b[0m\u001b[1;33m,\u001b[0m \u001b[1;34m\"values\"\u001b[0m\u001b[1;33m,\u001b[0m \u001b[0mb\u001b[0m\u001b[1;33m)\u001b[0m \u001b[1;32mfor\u001b[0m \u001b[0mb\u001b[0m \u001b[1;32min\u001b[0m \u001b[0mblocks\u001b[0m\u001b[1;33m]\u001b[0m\u001b[1;33m\u001b[0m\u001b[1;33m\u001b[0m\u001b[0m\n\u001b[0;32m   1686\u001b[0m         \u001b[0mtot_items\u001b[0m \u001b[1;33m=\u001b[0m \u001b[0msum\u001b[0m\u001b[1;33m(\u001b[0m\u001b[0mb\u001b[0m\u001b[1;33m.\u001b[0m\u001b[0mshape\u001b[0m\u001b[1;33m[\u001b[0m\u001b[1;36m0\u001b[0m\u001b[1;33m]\u001b[0m \u001b[1;32mfor\u001b[0m \u001b[0mb\u001b[0m \u001b[1;32min\u001b[0m \u001b[0mblocks\u001b[0m\u001b[1;33m)\u001b[0m\u001b[1;33m\u001b[0m\u001b[1;33m\u001b[0m\u001b[0m\n\u001b[1;32m-> 1687\u001b[1;33m         \u001b[1;32mraise\u001b[0m \u001b[0mconstruction_error\u001b[0m\u001b[1;33m(\u001b[0m\u001b[0mtot_items\u001b[0m\u001b[1;33m,\u001b[0m \u001b[0mblocks\u001b[0m\u001b[1;33m[\u001b[0m\u001b[1;36m0\u001b[0m\u001b[1;33m]\u001b[0m\u001b[1;33m.\u001b[0m\u001b[0mshape\u001b[0m\u001b[1;33m[\u001b[0m\u001b[1;36m1\u001b[0m\u001b[1;33m:\u001b[0m\u001b[1;33m]\u001b[0m\u001b[1;33m,\u001b[0m \u001b[0maxes\u001b[0m\u001b[1;33m,\u001b[0m \u001b[0me\u001b[0m\u001b[1;33m)\u001b[0m\u001b[1;33m\u001b[0m\u001b[1;33m\u001b[0m\u001b[0m\n\u001b[0m\u001b[0;32m   1688\u001b[0m \u001b[1;33m\u001b[0m\u001b[0m\n\u001b[0;32m   1689\u001b[0m \u001b[1;33m\u001b[0m\u001b[0m\n",
      "\u001b[1;31mValueError\u001b[0m: Shape of passed values is (103, 6), indices imply (103, 2)"
     ]
    }
   ],
   "source": [
    "# Projecting the scale data into reduced space\n",
    "projected_data = data[input_column_list].to_numpy().dot(reduced_dimension)\n",
    "projected_dataframe = pd.DataFrame(projected_data, columns=['PC1','PC2'])\n",
    "projected_dataframe_with_class_info = pd.concat([projected_dataframe, data['RapidChargeKmH']],axis=1)"
   ]
  },
  {
   "cell_type": "code",
   "execution_count": null,
   "id": "fffd4490",
   "metadata": {},
   "outputs": [],
   "source": []
  }
 ],
 "metadata": {
  "kernelspec": {
   "display_name": "Python 3",
   "language": "python",
   "name": "python3"
  },
  "language_info": {
   "codemirror_mode": {
    "name": "ipython",
    "version": 3
   },
   "file_extension": ".py",
   "mimetype": "text/x-python",
   "name": "python",
   "nbconvert_exporter": "python",
   "pygments_lexer": "ipython3",
   "version": "3.8.8"
  }
 },
 "nbformat": 4,
 "nbformat_minor": 5
}
