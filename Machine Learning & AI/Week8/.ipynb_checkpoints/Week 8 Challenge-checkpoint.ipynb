{
 "cells": [
  {
   "cell_type": "code",
   "execution_count": 1,
   "id": "2232aad5",
   "metadata": {},
   "outputs": [],
   "source": [
    "import pandas as pd\n",
    "import numpy as np\n",
    "from sklearn.preprocessing import StandardScaler\n",
    "from sklearn.decomposition import PCA as sklearnPCA\n",
    "import matplotlib.pyplot as plt"
   ]
  },
  {
   "cell_type": "code",
   "execution_count": 2,
   "id": "eeeaf5f0",
   "metadata": {},
   "outputs": [],
   "source": [
    "data = pd.read_csv('.\\electric_motor.csv')"
   ]
  },
  {
   "cell_type": "code",
   "execution_count": 3,
   "id": "96ed9b1d",
   "metadata": {},
   "outputs": [
    {
     "name": "stdout",
     "output_type": "stream",
     "text": [
      "         Brand  AccelSec  TopSpeedKmH  RangeKm  EfficiencyWhKm  FastChargeKmH  \\\n",
      "0       Tesla        4.6          233      450             161          940.0   \n",
      "1  Volkswagen       10.0          160      270             167          250.0   \n",
      "2    Polestar        4.7          210      400             181          620.0   \n",
      "3         BMW        6.8          180      360             206          560.0   \n",
      "4       Honda        9.5          145      170             168          190.0   \n",
      "\n",
      "   Seats  PriceEuro  RapidCharge  \n",
      "0      5      55480            1  \n",
      "1      5      30000            1  \n",
      "2      5      56440            1  \n",
      "3      5      68040            1  \n",
      "4      4      32997            1  \n"
     ]
    }
   ],
   "source": [
    "print(data.head()) #Data information "
   ]
  },
  {
   "cell_type": "code",
   "execution_count": 4,
   "id": "c46f2e95",
   "metadata": {},
   "outputs": [
    {
     "name": "stdout",
     "output_type": "stream",
     "text": [
      "<bound method DataFrame.info of            Brand  AccelSec  TopSpeedKmH  RangeKm  EfficiencyWhKm  \\\n",
      "0         Tesla        4.6          233      450             161   \n",
      "1    Volkswagen       10.0          160      270             167   \n",
      "2      Polestar        4.7          210      400             181   \n",
      "3           BMW        6.8          180      360             206   \n",
      "4         Honda        9.5          145      170             168   \n",
      "..           ...       ...          ...      ...             ...   \n",
      "98       Nissan        7.5          160      330             191   \n",
      "99         Audi        4.5          210      335             258   \n",
      "100      Nissan        5.9          200      325             194   \n",
      "101      Nissan        5.1          200      375             232   \n",
      "102       Byton        7.5          190      400             238   \n",
      "\n",
      "     FastChargeKmH  Seats  PriceEuro  RapidCharge  \n",
      "0            940.0      5      55480            1  \n",
      "1            250.0      5      30000            1  \n",
      "2            620.0      5      56440            1  \n",
      "3            560.0      5      68040            1  \n",
      "4            190.0      4      32997            1  \n",
      "..             ...    ...        ...          ...  \n",
      "98           440.0      5      45000            1  \n",
      "99           540.0      5      96050            1  \n",
      "100          440.0      5      50000            1  \n",
      "101          450.0      5      65000            1  \n",
      "102          480.0      5      62000            1  \n",
      "\n",
      "[103 rows x 9 columns]>\n"
     ]
    }
   ],
   "source": [
    "print(data.info)"
   ]
  },
  {
   "cell_type": "code",
   "execution_count": 6,
   "id": "cd559c71",
   "metadata": {},
   "outputs": [
    {
     "name": "stdout",
     "output_type": "stream",
     "text": [
      "         AccelSec  TopSpeedKmH     RangeKm  EfficiencyWhKm  FastChargeKmH  \\\n",
      "count  103.000000   103.000000  103.000000      103.000000      98.000000   \n",
      "mean     7.396117   179.194175  338.786408      189.165049     456.734694   \n",
      "std      3.017430    43.573030  126.014444       29.566839     201.262897   \n",
      "min      2.100000   123.000000   95.000000      104.000000     170.000000   \n",
      "25%      5.100000   150.000000  250.000000      168.000000     275.000000   \n",
      "50%      7.300000   160.000000  340.000000      180.000000     440.000000   \n",
      "75%      9.000000   200.000000  400.000000      203.000000     560.000000   \n",
      "max     22.400000   410.000000  970.000000      273.000000     940.000000   \n",
      "\n",
      "            Seats      PriceEuro  RapidCharge  \n",
      "count  103.000000     103.000000   103.000000  \n",
      "mean     4.883495   55811.563107     1.048544  \n",
      "std      0.795834   34134.665280     0.215963  \n",
      "min      2.000000   20129.000000     1.000000  \n",
      "25%      5.000000   34429.500000     1.000000  \n",
      "50%      5.000000   45000.000000     1.000000  \n",
      "75%      5.000000   65000.000000     1.000000  \n",
      "max      7.000000  215000.000000     2.000000  \n"
     ]
    }
   ],
   "source": [
    "print(data.describe())"
   ]
  },
  {
   "cell_type": "code",
   "execution_count": 10,
   "id": "9ba58684",
   "metadata": {},
   "outputs": [
    {
     "data": {
      "text/plain": [
       "Index(['Brand', 'AccelSec', 'TopSpeedKmH', 'RangeKm', 'EfficiencyWhKm',\n",
       "       'FastChargeKmH', 'Seats', 'PriceEuro', 'RapidCharge'],\n",
       "      dtype='object')"
      ]
     },
     "execution_count": 10,
     "metadata": {},
     "output_type": "execute_result"
    }
   ],
   "source": [
    "data.columns"
   ]
  },
  {
   "cell_type": "code",
   "execution_count": 12,
   "id": "05f2b75d",
   "metadata": {},
   "outputs": [
    {
     "name": "stdout",
     "output_type": "stream",
     "text": [
      "['Brand', 'AccelSec', 'TopSpeedKmH', 'RangeKm', 'EfficiencyWhKm', 'FastChargeKmH', 'Seats', 'PriceEuro', 'RapidCharge']\n",
      "\n",
      "\n"
     ]
    }
   ],
   "source": [
    "electric_column_data_list = list(data.columns)\n",
    "print(electric_column_data_list)\n",
    "print('\\n')"
   ]
  },
  {
   "cell_type": "code",
   "execution_count": 14,
   "id": "6568298b",
   "metadata": {},
   "outputs": [
    {
     "data": {
      "text/plain": [
       "Brand             False\n",
       "AccelSec          False\n",
       "TopSpeedKmH       False\n",
       "RangeKm           False\n",
       "EfficiencyWhKm    False\n",
       "FastChargeKmH      True\n",
       "Seats             False\n",
       "PriceEuro         False\n",
       "RapidCharge       False\n",
       "dtype: bool"
      ]
     },
     "execution_count": 14,
     "metadata": {},
     "output_type": "execute_result"
    }
   ],
   "source": [
    "# Finding null columns\n",
    "data.isnull().any()"
   ]
  },
  {
   "cell_type": "code",
   "execution_count": 29,
   "id": "1de3964e",
   "metadata": {},
   "outputs": [
    {
     "name": "stdout",
     "output_type": "stream",
     "text": [
      "456.734693877551\n"
     ]
    }
   ],
   "source": [
    "print(data['FastChargeKmH'].mean())\n",
    "#Filling mean value to the missing value \n",
    "data['FastChargeKmH'].fillna(data['FastChargeKmH'].mean(),inplace=True)"
   ]
  },
  {
   "cell_type": "code",
   "execution_count": 30,
   "id": "50e3a8ac",
   "metadata": {},
   "outputs": [
    {
     "data": {
      "text/plain": [
       "False"
      ]
     },
     "execution_count": 30,
     "metadata": {},
     "output_type": "execute_result"
    }
   ],
   "source": [
    "# Is any null value present in column\n",
    "data['FastChargeKmH'].isnull().any()"
   ]
  },
  {
   "cell_type": "code",
   "execution_count": 31,
   "id": "6dc7afe7",
   "metadata": {},
   "outputs": [
    {
     "data": {
      "text/plain": [
       "78     360.000000\n",
       "79     810.000000\n",
       "80     470.000000\n",
       "81     480.000000\n",
       "82     456.734694\n",
       "83     380.000000\n",
       "84     290.000000\n",
       "85     330.000000\n",
       "86     740.000000\n",
       "87     470.000000\n",
       "88     540.000000\n",
       "89     440.000000\n",
       "90     510.000000\n",
       "91     456.734694\n",
       "92     320.000000\n",
       "93     500.000000\n",
       "94     330.000000\n",
       "95     470.000000\n",
       "96     220.000000\n",
       "97     420.000000\n",
       "98     440.000000\n",
       "99     540.000000\n",
       "100    440.000000\n",
       "101    450.000000\n",
       "102    480.000000\n",
       "Name: FastChargeKmH, dtype: float64"
      ]
     },
     "execution_count": 31,
     "metadata": {},
     "output_type": "execute_result"
    }
   ],
   "source": [
    "data['FastChargeKmH'].tail(25)"
   ]
  },
  {
   "cell_type": "code",
   "execution_count": 35,
   "id": "ad464af8",
   "metadata": {},
   "outputs": [],
   "source": [
    "data=data.drop(['Brand'],axis=1)"
   ]
  },
  {
   "cell_type": "code",
   "execution_count": 36,
   "id": "10e97a65",
   "metadata": {},
   "outputs": [
    {
     "data": {
      "text/plain": [
       "Index(['AccelSec', 'TopSpeedKmH', 'RangeKm', 'EfficiencyWhKm', 'FastChargeKmH',\n",
       "       'Seats', 'PriceEuro', 'RapidCharge'],\n",
       "      dtype='object')"
      ]
     },
     "execution_count": 36,
     "metadata": {},
     "output_type": "execute_result"
    }
   ],
   "source": [
    "data.columns"
   ]
  },
  {
   "cell_type": "code",
   "execution_count": 37,
   "id": "1aafb43f",
   "metadata": {},
   "outputs": [
    {
     "data": {
      "text/plain": [
       "False"
      ]
     },
     "execution_count": 37,
     "metadata": {},
     "output_type": "execute_result"
    }
   ],
   "source": [
    "data.columns.isnull().any()"
   ]
  },
  {
   "cell_type": "code",
   "execution_count": 40,
   "id": "fcc5b8f2",
   "metadata": {},
   "outputs": [
    {
     "data": {
      "text/plain": [
       "['Seats',\n",
       " 'AccelSec',\n",
       " 'FastChargeKmH',\n",
       " 'RapidCharge',\n",
       " 'PriceEuro',\n",
       " 'TopSpeedKmH',\n",
       " 'RangeKm',\n",
       " 'EfficiencyWhKm']"
      ]
     },
     "execution_count": 40,
     "metadata": {},
     "output_type": "execute_result"
    }
   ],
   "source": [
    "input_column_list = list(set(electric_column_data_list)-set(['Brand']))\n",
    "input_column_list"
   ]
  },
  {
   "cell_type": "code",
   "execution_count": 41,
   "id": "c26aa80f",
   "metadata": {},
   "outputs": [
    {
     "name": "stdout",
     "output_type": "stream",
     "text": [
      "['RapidCharge']\n"
     ]
    }
   ],
   "source": [
    "output_list = list(['RapidCharge'])\n",
    "print(output_list)"
   ]
  },
  {
   "cell_type": "code",
   "execution_count": 44,
   "id": "f0db512a",
   "metadata": {},
   "outputs": [
    {
     "name": "stdout",
     "output_type": "stream",
     "text": [
      "     AccelSec  TopSpeedKmH  RangeKm  EfficiencyWhKm  FastChargeKmH  Seats  \\\n",
      "0       -0.93         1.24     0.89           -0.96           2.47   0.15   \n",
      "1        0.87        -0.44    -0.55           -0.75          -1.06   0.15   \n",
      "2       -0.90         0.71     0.49           -0.28           0.84   0.15   \n",
      "3       -0.20         0.02     0.17            0.57           0.53   0.15   \n",
      "4        0.70        -0.79    -1.35           -0.72          -1.37  -1.12   \n",
      "..        ...          ...      ...             ...            ...    ...   \n",
      "98       0.03        -0.44    -0.07            0.06          -0.09   0.15   \n",
      "99      -0.96         0.71    -0.03            2.34           0.43   0.15   \n",
      "100     -0.50         0.48    -0.11            0.16          -0.09   0.15   \n",
      "101     -0.76         0.48     0.29            1.46          -0.03   0.15   \n",
      "102      0.03         0.25     0.49            1.66           0.12   0.15   \n",
      "\n",
      "     PriceEuro  RapidCharge  \n",
      "0        -0.01        -0.23  \n",
      "1        -0.76        -0.23  \n",
      "2         0.02        -0.23  \n",
      "3         0.36        -0.23  \n",
      "4        -0.67        -0.23  \n",
      "..         ...          ...  \n",
      "98       -0.32        -0.23  \n",
      "99        1.18        -0.23  \n",
      "100      -0.17        -0.23  \n",
      "101       0.27        -0.23  \n",
      "102       0.18        -0.23  \n",
      "\n",
      "[103 rows x 8 columns]\n"
     ]
    }
   ],
   "source": [
    "scaler = StandardScaler()\n",
    "data[input_column_list]=scaler.fit_transform(data[input_column_list])\n",
    "print(round(data,2))"
   ]
  },
  {
   "cell_type": "code",
   "execution_count": 48,
   "id": "2756b11d",
   "metadata": {},
   "outputs": [
    {
     "name": "stdout",
     "output_type": "stream",
     "text": [
      "                Seats  AccelSec  FastChargeKmH  RapidCharge  PriceEuro  \\\n",
      "Seats            1.01     -0.18           0.08        -0.43       0.02   \n",
      "AccelSec        -0.18      1.01          -0.62         0.52      -0.63   \n",
      "FastChargeKmH    0.08     -0.62           1.01         0.00       0.64   \n",
      "RapidCharge     -0.43      0.52           0.00         1.01      -0.20   \n",
      "PriceEuro        0.02     -0.63           0.64        -0.20       1.01   \n",
      "TopSpeedKmH      0.13     -0.79           0.75        -0.25       0.84   \n",
      "RangeKm          0.30     -0.68           0.64        -0.41       0.68   \n",
      "EfficiencyWhKm   0.30     -0.39           0.31        -0.11       0.40   \n",
      "\n",
      "                TopSpeedKmH  RangeKm  EfficiencyWhKm  \n",
      "Seats                  0.13     0.30            0.30  \n",
      "AccelSec              -0.79    -0.68           -0.39  \n",
      "FastChargeKmH          0.75     0.64            0.31  \n",
      "RapidCharge           -0.25    -0.41           -0.11  \n",
      "PriceEuro              0.84     0.68            0.40  \n",
      "TopSpeedKmH            1.01     0.75            0.36  \n",
      "RangeKm                0.75     1.01            0.32  \n",
      "EfficiencyWhKm         0.36     0.32            1.01  \n"
     ]
    }
   ],
   "source": [
    "# Computing covariance matrix\n",
    "input_data = data[input_column_list]\n",
    "covariance_matrix = input_data.cov()\n",
    "print(round(covariance_matrix,2))"
   ]
  },
  {
   "cell_type": "code",
   "execution_count": 53,
   "id": "d2383f06",
   "metadata": {},
   "outputs": [],
   "source": [
    "# Computing eigen value and eigenvector\n",
    "eig_val,eig_vec = np.linalg.eig(covariance_matrix.to_numpy())\n",
    "len(eig_val)\n",
    "eig_pairs = [(np.abs(eig_val[i]),eig_vec[:,i])for i in range(len(eig_val))]"
   ]
  },
  {
   "cell_type": "code",
   "execution_count": 55,
   "id": "1c6485a6",
   "metadata": {},
   "outputs": [
    {
     "name": "stdout",
     "output_type": "stream",
     "text": [
      "Eigen value in descending order\n",
      "\n",
      "4.235923439548401\n",
      "1.4196853662162119\n",
      "0.913583389364097\n",
      "0.6069057972628527\n",
      "0.3639516500978206\n",
      "0.25971535644721644\n",
      "0.1819772391411559\n",
      "0.0966891344712704\n"
     ]
    }
   ],
   "source": [
    "# Absolute Value\n",
    "eig_pairs.sort(key = lambda x: x[0],reverse=True)\n",
    "print('Eigen value in descending order\\n')\n",
    "for i in eig_pairs:\n",
    "    print(i[0])\n"
   ]
  },
  {
   "cell_type": "code",
   "execution_count": null,
   "id": "22cf2997",
   "metadata": {},
   "outputs": [],
   "source": []
  }
 ],
 "metadata": {
  "kernelspec": {
   "display_name": "Python 3",
   "language": "python",
   "name": "python3"
  },
  "language_info": {
   "codemirror_mode": {
    "name": "ipython",
    "version": 3
   },
   "file_extension": ".py",
   "mimetype": "text/x-python",
   "name": "python",
   "nbconvert_exporter": "python",
   "pygments_lexer": "ipython3",
   "version": "3.8.8"
  }
 },
 "nbformat": 4,
 "nbformat_minor": 5
}
