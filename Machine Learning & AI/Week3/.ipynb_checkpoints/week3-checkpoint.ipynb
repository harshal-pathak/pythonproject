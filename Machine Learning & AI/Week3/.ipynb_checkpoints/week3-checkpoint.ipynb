{
 "cells": [
  {
   "cell_type": "code",
   "execution_count": 1,
   "id": "6a5bf7f3",
   "metadata": {},
   "outputs": [],
   "source": [
    "strsample = 'Welcome to Python Learning'"
   ]
  },
  {
   "cell_type": "code",
   "execution_count": 2,
   "id": "8bedc386",
   "metadata": {},
   "outputs": [
    {
     "data": {
      "text/plain": [
       "'Welcome to Python Learning'"
      ]
     },
     "execution_count": 2,
     "metadata": {},
     "output_type": "execute_result"
    }
   ],
   "source": [
    "strsample"
   ]
  },
  {
   "cell_type": "code",
   "execution_count": 4,
   "id": "a0d762ba",
   "metadata": {},
   "outputs": [],
   "source": [
    "list_id=[1,2,3,4]\n",
    "list_name = [\"Rahul\",\"Akash\",\"Vikas\",\"Shyam\"]\n",
    "lis = [list_id,list_name]"
   ]
  },
  {
   "cell_type": "code",
   "execution_count": 5,
   "id": "67b22491",
   "metadata": {},
   "outputs": [
    {
     "data": {
      "text/plain": [
       "[[1, 2, 3, 4], ['Rahul', 'Akash', 'Vikas', 'Shyam']]"
      ]
     },
     "execution_count": 5,
     "metadata": {},
     "output_type": "execute_result"
    }
   ],
   "source": [
    "lis"
   ]
  },
  {
   "cell_type": "code",
   "execution_count": 6,
   "id": "1a38a902",
   "metadata": {},
   "outputs": [],
   "source": [
    "my_list=[1,2,3,4,5,6]"
   ]
  },
  {
   "cell_type": "code",
   "execution_count": 7,
   "id": "d8efaa6a",
   "metadata": {},
   "outputs": [],
   "source": [
    "import numpy as np"
   ]
  },
  {
   "cell_type": "code",
   "execution_count": 9,
   "id": "9bdc9670",
   "metadata": {},
   "outputs": [],
   "source": [
    "array = np.array(my_list,dtype=int)"
   ]
  },
  {
   "cell_type": "code",
   "execution_count": 10,
   "id": "b838d810",
   "metadata": {},
   "outputs": [
    {
     "data": {
      "text/plain": [
       "array([1, 2, 3, 4, 5, 6])"
      ]
     },
     "execution_count": 10,
     "metadata": {},
     "output_type": "execute_result"
    }
   ],
   "source": [
    "array"
   ]
  },
  {
   "cell_type": "code",
   "execution_count": 14,
   "id": "435c0fff",
   "metadata": {},
   "outputs": [
    {
     "name": "stdout",
     "output_type": "stream",
     "text": [
      "<class 'numpy.ndarray'>\n",
      "1\n",
      "6\n",
      "(6,)\n"
     ]
    }
   ],
   "source": [
    "print(type(array))\n",
    "print(array.ndim)\n",
    "print(len(array))\n",
    "print(array.shape)"
   ]
  },
  {
   "cell_type": "code",
   "execution_count": 16,
   "id": "d33c7c08",
   "metadata": {},
   "outputs": [],
   "source": [
    "array2 =array.reshape(3,2)"
   ]
  },
  {
   "cell_type": "code",
   "execution_count": 19,
   "id": "d9e27c7b",
   "metadata": {},
   "outputs": [
    {
     "name": "stdout",
     "output_type": "stream",
     "text": [
      "[[1 2]\n",
      " [3 4]\n",
      " [5 6]]\n",
      "2\n"
     ]
    }
   ],
   "source": [
    "print(array2)\n",
    "print(array2.ndim)"
   ]
  },
  {
   "cell_type": "code",
   "execution_count": 26,
   "id": "7506c6f2",
   "metadata": {},
   "outputs": [
    {
     "name": "stdout",
     "output_type": "stream",
     "text": [
      "[[ 1  2  3  4  5]\n",
      " [ 1  2  4  5  6]\n",
      " [ 4  5 67 89  6]]\n",
      "<class 'numpy.ndarray'>\n"
     ]
    }
   ],
   "source": [
    "l1=[1,2,3,4,5]\n",
    "l2=[1,2,4,5,6]\n",
    "l3=[4,5,67,89,6]\n",
    "array4 = np.array([l1,l2,l3],dtype=int)\n",
    "print(array4)\n",
    "print(type(array4))"
   ]
  },
  {
   "cell_type": "code",
   "execution_count": 27,
   "id": "14ca6921",
   "metadata": {},
   "outputs": [
    {
     "data": {
      "text/plain": [
       "array([[ 1,  1,  4],\n",
       "       [ 2,  2,  5],\n",
       "       [ 3,  4, 67],\n",
       "       [ 4,  5, 89],\n",
       "       [ 5,  6,  6]])"
      ]
     },
     "execution_count": 27,
     "metadata": {},
     "output_type": "execute_result"
    }
   ],
   "source": [
    "array4.T"
   ]
  },
  {
   "cell_type": "code",
   "execution_count": 29,
   "id": "5c9d3245",
   "metadata": {},
   "outputs": [
    {
     "data": {
      "text/plain": [
       "1"
      ]
     },
     "execution_count": 29,
     "metadata": {},
     "output_type": "execute_result"
    }
   ],
   "source": [
    "array4.max()\n",
    "array4.min()"
   ]
  },
  {
   "cell_type": "code",
   "execution_count": 36,
   "id": "069f0cbe",
   "metadata": {},
   "outputs": [
    {
     "name": "stdout",
     "output_type": "stream",
     "text": [
      "<class 'tuple'>\n"
     ]
    }
   ],
   "source": [
    "\n",
    "typ = (\"Resistor\",\"Inuductor\",\"Capacitor\")\n",
    "cst_price = (345,560,700)\n",
    "Selling_price=(500,690,750)\n",
    "circuit_no = (typ,cst_price,Selling_price)\n",
    "print(type(typ))"
   ]
  },
  {
   "cell_type": "code",
   "execution_count": 44,
   "id": "ac7497cc",
   "metadata": {},
   "outputs": [
    {
     "name": "stdout",
     "output_type": "stream",
     "text": [
      "<class 'list'>\n"
     ]
    }
   ],
   "source": [
    "typ = [\"Resistor\",\"Inuductor\",\"Capacitor\"]\n",
    "cst_price = [345,560,700]\n",
    "Selling_price=[500,690,750]\n",
    "circuit_no = [typ,cst_price,Selling_price]\n",
    "print(type(typ))\n"
   ]
  },
  {
   "cell_type": "code",
   "execution_count": 50,
   "id": "5c9b82fa",
   "metadata": {},
   "outputs": [
    {
     "name": "stdout",
     "output_type": "stream",
     "text": [
      "{'Resistor': (345, 500), 'Inductor': (560, 690), 'Capacitor': (700, 750)}\n"
     ]
    },
    {
     "data": {
      "text/plain": [
       "dict"
      ]
     },
     "execution_count": 50,
     "metadata": {},
     "output_type": "execute_result"
    }
   ],
   "source": [
    "dict1 = {\"Resistor\":(345,500),\"Inductor\":(560,690),\"Capacitor\":(700,750)}\n",
    "print(dict1)\n",
    "type(dict1)"
   ]
  },
  {
   "cell_type": "code",
   "execution_count": 56,
   "id": "38b8a824",
   "metadata": {},
   "outputs": [],
   "source": [
    "lis=[dict1]"
   ]
  },
  {
   "cell_type": "code",
   "execution_count": 57,
   "id": "0ec43bd6",
   "metadata": {},
   "outputs": [
    {
     "data": {
      "text/plain": [
       "[{'Resistor': (345, 500), 'Inductor': (560, 690), 'Capacitor': (700, 750)}]"
      ]
     },
     "execution_count": 57,
     "metadata": {},
     "output_type": "execute_result"
    }
   ],
   "source": [
    "lis"
   ]
  },
  {
   "cell_type": "code",
   "execution_count": 203,
   "id": "fc840b99",
   "metadata": {},
   "outputs": [
    {
     "data": {
      "text/plain": [
       "{'Resistor': (345, 500), 'Inductor': (560, 690), 'Capacitor': (700, 750)}"
      ]
     },
     "execution_count": 203,
     "metadata": {},
     "output_type": "execute_result"
    }
   ],
   "source": [
    "type(lis)\n",
    "lis[0]"
   ]
  },
  {
   "cell_type": "code",
   "execution_count": 70,
   "id": "377a5b76",
   "metadata": {},
   "outputs": [],
   "source": [
    "# A sigmoidal function is given by 𝑠𝑖𝑔𝑚𝑜𝑖𝑑=𝜎(𝑧)= 11+𝑒−𝑧 Define a sigmoidal function in Python. \n",
    "# Now take 𝑧=1,𝑧=−1,𝑧=0 and calculate values of sigmoid function (𝜎(𝑧)) defined by you.\n",
    "\n",
    "import math\n",
    "\n",
    "def sigmoid(z):\n",
    "    return (11+ math.exp(-z))"
   ]
  },
  {
   "cell_type": "code",
   "execution_count": 76,
   "id": "ec630054",
   "metadata": {},
   "outputs": [
    {
     "name": "stdout",
     "output_type": "stream",
     "text": [
      "If z=1 Sigmoid :  11.367879441171443\n",
      "If z=1 Sigmoid :  13.718281828459045\n",
      "If z=1 Sigmoid :  12.0\n"
     ]
    }
   ],
   "source": [
    "\n",
    "print(\"If z=1 Sigmoid : \",sigmoid(1))\n",
    "print(\"If z=1 Sigmoid : \",sigmoid(-1))\n",
    "print(\"If z=1 Sigmoid : \",sigmoid(0))"
   ]
  },
  {
   "cell_type": "code",
   "execution_count": 180,
   "id": "3bb2253b",
   "metadata": {},
   "outputs": [
    {
     "name": "stdout",
     "output_type": "stream",
     "text": [
      "Total current I through parellel circuit :  2.03\n",
      "Voltage flowing throgh 1000Ohm :  2029.01\n"
     ]
    }
   ],
   "source": [
    "v=[100.0,150.0,10.0,35.0,50.0,64.0,35.0,54.0,60.0,70.0]\n",
    "r=[200.0,500.0,250.0,300.0,350.0,450.0,240.0,450.0,350.0,200.0]\n",
    "cur=0 \n",
    "Total_current= 0\n",
    "# Finding current flowing through Parellel circuit by i=v0/r0+...+v9/r9\n",
    "for i in range(0,10):\n",
    "    cur = v[i]/r[i]\n",
    "    Total_current += cur \n",
    "print('Total current I through parellel circuit : ',round(Total_current,2))\n",
    "\n",
    "# For finding voltageacross 1000 Ohm using V=IR(I=2.03,R=1000Ohm)\n",
    "print('Voltage flowing throgh 1000Ohm : ',round((Total_current*1000),2))\n",
    " \n",
    "    "
   ]
  },
  {
   "cell_type": "code",
   "execution_count": 193,
   "id": "f44abf62",
   "metadata": {},
   "outputs": [
    {
     "name": "stdout",
     "output_type": "stream",
     "text": [
      "[100. 150.  10.  35.  50.  64.  35.  54.  60.  70.]\n",
      "<class 'numpy.ndarray'>\n",
      "[200. 500. 250. 300. 350. 450. 240. 450. 350. 200.]\n",
      "<class 'numpy.ndarray'>\n",
      "Finding Current flowing through each resisitor : [0.5        0.3        0.04       0.11666667 0.14285714 0.14222222\n",
      " 0.14583333 0.12       0.17142857 0.35      ]\n",
      "Total Current Flowing throgh circuit 2.03\n",
      "Voltage flowing throgh 1000Ohm :  2029.01\n"
     ]
    }
   ],
   "source": [
    "import numpy as np\n",
    "\n",
    "v=[100.0,150.0,10.0,35.0,50.0,64.0,35.0,54.0,60.0,70.0]\n",
    "r=[200.0,500.0,250.0,300.0,350.0,450.0,240.0,450.0,350.0,200.0]\n",
    "\n",
    "array1 = np.array(v)\n",
    "array2 = np.array(r)\n",
    "\n",
    "print(array1)\n",
    "print(type(array1))\n",
    "\n",
    "print(array2)\n",
    "print(type(array2))\n",
    "\n",
    "array3 = array1/array2\n",
    "# Finding current flowing through Parellel circuit by i=v1/r1+...+v10/r10\n",
    "print('Finding Current flowing through each resisitor :',array3)\n",
    "I=0\n",
    "for i in array3:\n",
    "    I +=i\n",
    "    \n",
    "print('Total Current Flowing throgh circuit',round(I,2))\n",
    "# For finding voltageacross 1000 Ohm using V=IR(I=2.03,R=1000Ohm)\n",
    "print('Voltage flowing throgh 1000Ohm : ',round((I*1000),2))\n",
    "     \n",
    "    "
   ]
  },
  {
   "cell_type": "code",
   "execution_count": 197,
   "id": "282cd26d",
   "metadata": {},
   "outputs": [
    {
     "name": "stdout",
     "output_type": "stream",
     "text": [
      "0.5\n",
      "0.2\n",
      "0.4\n",
      "0.3333333333333333\n",
      "0.2857142857142857\n",
      "0.2222222222222222\n",
      "0.4166666666666667\n",
      "0.2222222222222222\n",
      "0.2857142857142857\n",
      "0.5\n",
      "Total Current Flowing throgh circuit 3.37\n",
      "Voltage flowing throgh 1000Ohm :  3365.87\n"
     ]
    }
   ],
   "source": [
    "import numpy as np\n",
    "\n",
    "r=[200.0,500.0,250.0,300.0,350.0,450.0,240.0,450.0,350.0,200.0]\n",
    "\n",
    "array4 = np.array(r)\n",
    "# v=100v is constantfor the all resisitance.\n",
    "\n",
    "array5 = 100/array4\n",
    "I2=0\n",
    "for i in array5:\n",
    "    print(i)\n",
    "    I2 += i\n",
    "    \n",
    "print('Total Current Flowing throgh circuit',round(I2,2))\n",
    "# For finding voltageacross 1000 Ohm using V=IR(I=5.39,R=1000Ohm)\n",
    "print('Voltage flowing throgh 1000Ohm : ',round((I2*1000),2))\n",
    "    "
   ]
  },
  {
   "cell_type": "code",
   "execution_count": 199,
   "id": "a33ca7c9",
   "metadata": {},
   "outputs": [
    {
     "name": "stdout",
     "output_type": "stream",
     "text": [
      "0.4\n",
      "0.6\n",
      "0.04\n",
      "0.14\n",
      "0.2\n",
      "0.256\n",
      "0.14\n",
      "0.216\n",
      "0.24\n",
      "0.28\n",
      "Total Current Flowing throgh circuit 2.51\n",
      "Voltage flowing throgh 1000Ohm :  2512.0\n"
     ]
    }
   ],
   "source": [
    "import numpy as np\n",
    "\n",
    "v=[100.0,150.0,10.0,35.0,50.0,64.0,35.0,54.0,60.0,70.0]\n",
    "\n",
    "array6 = np.array(v)\n",
    "\n",
    "# r=250 ohm is constant for all the voltages\n",
    "\n",
    "array7 = array6/250\n",
    "I3=0\n",
    "for i in array7:\n",
    "    print(i)\n",
    "    I3 += i\n",
    "    \n",
    "print('Total Current Flowing throgh circuit',round(I3,2))\n",
    "# For finding voltageacross 1000 Ohm using V=IR(I=7.91,R=1000Ohm)\n",
    "print('Voltage flowing throgh 1000Ohm : ',round((I3*1000),2))\n"
   ]
  },
  {
   "cell_type": "code",
   "execution_count": null,
   "id": "e39cb870",
   "metadata": {},
   "outputs": [],
   "source": []
  }
 ],
 "metadata": {
  "kernelspec": {
   "display_name": "Python 3",
   "language": "python",
   "name": "python3"
  },
  "language_info": {
   "codemirror_mode": {
    "name": "ipython",
    "version": 3
   },
   "file_extension": ".py",
   "mimetype": "text/x-python",
   "name": "python",
   "nbconvert_exporter": "python",
   "pygments_lexer": "ipython3",
   "version": "3.8.8"
  }
 },
 "nbformat": 4,
 "nbformat_minor": 5
}
