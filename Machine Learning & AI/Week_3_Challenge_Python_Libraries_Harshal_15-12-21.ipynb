{
 "cells": [
  {
   "cell_type": "code",
   "execution_count": 1,
   "id": "0f12a5d5",
   "metadata": {},
   "outputs": [
    {
     "name": "stdout",
     "output_type": "stream",
     "text": [
      "Total current I through parellel circuit :  2.03\n",
      "Voltage flowing throgh 1000Ohm :  2029.01\n"
     ]
    }
   ],
   "source": [
    "# Q-1. Suppose a network consist of 10 nodes which 10 different resistors as shown and different voltage across them. The voltage = [100,150,10,35,50,64,35,54,60,70] Volts and resistors = [200,500,250,300,350,450,240,450,350,200] ohms, Find the voltage across 1000 ohms resistor using for loop.\n",
    "\n",
    "v=[100.0,150.0,10.0,35.0,50.0,64.0,35.0,54.0,60.0,70.0]\n",
    "r=[200.0,500.0,250.0,300.0,350.0,450.0,240.0,450.0,350.0,200.0]\n",
    "cur=0 \n",
    "Total_current= 0\n",
    "# Finding current flowing through Parellel circuit by i=v0/r0+...+v9/r9\n",
    "for i in range(0,10):\n",
    "    cur = v[i]/r[i]\n",
    "    Total_current += cur \n",
    "print('Total current I through parellel circuit : ',round(Total_current,2))\n",
    "\n",
    "# For finding voltageacross 1000 Ohm using V=IR(I=2.03,R=1000Ohm)\n",
    "print('Voltage flowing throgh 1000Ohm : ',round((Total_current*1000),2))\n",
    " "
   ]
  },
  {
   "cell_type": "code",
   "execution_count": 5,
   "id": "bf06d5b2",
   "metadata": {},
   "outputs": [
    {
     "name": "stdout",
     "output_type": "stream",
     "text": [
      "[100. 150.  10.  35.  50.  64.  35.  54.  60.  70.]\n",
      "<class 'numpy.ndarray'>\n",
      "[200. 500. 250. 300. 350. 450. 240. 450. 350. 200.]\n",
      "<class 'numpy.ndarray'>\n",
      "Finding Current flowing through each resisitor : [0.5        0.3        0.04       0.11666667 0.14285714 0.14222222\n",
      " 0.14583333 0.12       0.17142857 0.35      ]\n",
      "Total Current Flowing throgh circuit 2.03\n",
      "Voltage flowing throgh 1000Ohm :  2029.01\n"
     ]
    }
   ],
   "source": [
    "# Q-2. Suppose a network consist of 10 nodes which 10 different resistors as shown and different voltage across them. The voltage = [100,150,10,35,50,64,35,54,60,70] Volts and resistors = [200,500,250,300,350,450,240,450,350,200] ohms, Find the voltage across 1000 ohms resistor. Use numpy library in python to solve this circuit.\n",
    "\n",
    "import numpy as np\n",
    "\n",
    "v=[100.0,150.0,10.0,35.0,50.0,64.0,35.0,54.0,60.0,70.0]\n",
    "r=[200.0,500.0,250.0,300.0,350.0,450.0,240.0,450.0,350.0,200.0]\n",
    "\n",
    "array1 = np.array(v)\n",
    "array2 = np.array(r)\n",
    "\n",
    "print(array1)\n",
    "print(type(array1))\n",
    "\n",
    "print(array2)\n",
    "print(type(array2))\n",
    "\n",
    "array3 = array1/array2\n",
    "# Finding current flowing through Parellel circuit by i=v1/r1+...+v10/r10\n",
    "print('Finding Current flowing through each resisitor :',array3)\n",
    "I1=0\n",
    "for i in array3:\n",
    "    I1 +=i\n",
    "    \n",
    "print('Total Current Flowing throgh circuit',round(I1,2))\n",
    "# For finding voltageacross 1000 Ohm using V=IR(I=2.03,R=1000Ohm)\n",
    "print('Voltage flowing throgh 1000Ohm : ',round((I1*1000),2))"
   ]
  },
  {
   "cell_type": "code",
   "execution_count": 7,
   "id": "0766fec3",
   "metadata": {},
   "outputs": [
    {
     "name": "stdout",
     "output_type": "stream",
     "text": [
      "Total Current Flowing throgh circuit 3.37\n",
      "Voltage flowing throgh 1000Ohm :  3365.87\n"
     ]
    }
   ],
   "source": [
    "# Q-3. Suppose a network consist of 10 nodes which 10 different resistors as shown and different voltage across them. The voltage = 100 Volts across all resistors and resistors = [200,500,250,300,350,450,240,450,350,200] ohms, Find the voltage across 1000 ohms resistor. Use numpy library in python to solve this circuit.\n",
    "\n",
    "import numpy as np\n",
    "\n",
    "r=[200.0,500.0,250.0,300.0,350.0,450.0,240.0,450.0,350.0,200.0]\n",
    "\n",
    "array4 = np.array(r)\n",
    "# v=100v is constantfor the all resisitance.\n",
    "\n",
    "array5 = 100/array4\n",
    "I2=0\n",
    "for i in array5:\n",
    "    \n",
    "    I2 += i\n",
    "    \n",
    "print('Total Current Flowing throgh circuit',round(I2,2))\n",
    "# For finding voltageacross 1000 Ohm using V=IR(I=3.37,R=1000Ohm)\n",
    "print('Voltage flowing throgh 1000Ohm : ',round((I2*1000),2))"
   ]
  },
  {
   "cell_type": "code",
   "execution_count": 10,
   "id": "84f7e4ef",
   "metadata": {},
   "outputs": [
    {
     "name": "stdout",
     "output_type": "stream",
     "text": [
      "Total Current Flowing throgh circuit 2.51\n",
      "Voltage flowing throgh 1000Ohm :  2512.0\n"
     ]
    }
   ],
   "source": [
    "# Q-4. Suppose a network consist of 10 nodes which 10 different resistors as shown and different voltage across them. The voltage = [100,150,10,35,50,64,35,54,60,70] Volts and resistors = 250 ohms for all resistors, Find the voltage across 1000 ohms resistor. Use numpy library in python to solve this circuit.\n",
    "\n",
    "import numpy as np\n",
    "\n",
    "v=[100.0,150.0,10.0,35.0,50.0,64.0,35.0,54.0,60.0,70.0]\n",
    "\n",
    "array6 = np.array(v)\n",
    "\n",
    "# r=250 ohm is constant for all the voltages\n",
    "\n",
    "array7 = array6/250\n",
    "I3=0\n",
    "for i in array7:\n",
    "    I3 += i\n",
    "    \n",
    "print('Total Current Flowing throgh circuit',round(I3,2))\n",
    "# For finding voltageacross 1000 Ohm using V=IR(I=2.51,R=1000Ohm)\n",
    "print('Voltage flowing throgh 1000Ohm : ',round((I3*1000),2))\n"
   ]
  },
  {
   "cell_type": "code",
   "execution_count": 11,
   "id": "aadc1cf8",
   "metadata": {},
   "outputs": [
    {
     "name": "stdout",
     "output_type": "stream",
     "text": [
      "<class 'tuple'>\n"
     ]
    }
   ],
   "source": [
    "# Q-5. Create a list and tuple of the above table. Now map resistor to 0, inductors to 1 and capacitors to 2 using dictionary\n",
    "\n",
    "typ = (\"Resistor\",\"Inuductor\",\"Capacitor\")\n",
    "cst_price = (345,560,700)\n",
    "Selling_price=(500,690,750)\n",
    "circuit_no = (typ,cst_price,Selling_price)\n",
    "print(type(typ))"
   ]
  },
  {
   "cell_type": "code",
   "execution_count": 12,
   "id": "cd0ab52d",
   "metadata": {},
   "outputs": [
    {
     "name": "stdout",
     "output_type": "stream",
     "text": [
      "<class 'list'>\n"
     ]
    }
   ],
   "source": [
    "typ = [\"Resistor\",\"Inuductor\",\"Capacitor\"]\n",
    "cst_price = [345,560,700]\n",
    "Selling_price=[500,690,750]\n",
    "circuit_no = [typ,cst_price,Selling_price]\n",
    "print(type(typ))\n"
   ]
  },
  {
   "cell_type": "code",
   "execution_count": 13,
   "id": "9f4ebdc2",
   "metadata": {},
   "outputs": [
    {
     "name": "stdout",
     "output_type": "stream",
     "text": [
      "{'Resistor': (345, 500), 'Inductor': (560, 690), 'Capacitor': (700, 750)}\n"
     ]
    },
    {
     "data": {
      "text/plain": [
       "dict"
      ]
     },
     "execution_count": 13,
     "metadata": {},
     "output_type": "execute_result"
    }
   ],
   "source": [
    "dict1 = {\"Resistor\":(345,500),\"Inductor\":(560,690),\"Capacitor\":(700,750)}\n",
    "print(dict1)\n",
    "type(dict1)"
   ]
  },
  {
   "cell_type": "code",
   "execution_count": 14,
   "id": "76da9e61",
   "metadata": {},
   "outputs": [],
   "source": [
    "# Q-6. A sigmoidal function is given by\n",
    "#𝑠𝑖𝑔𝑚𝑜𝑖𝑑=𝜎(𝑧)= 11+𝑒−𝑧\n",
    "#Define a sigmoidal function in Python. Now take 𝑧=1,𝑧=−1,𝑧=0 and calculate values of sigmoid function (𝜎(𝑧)) defined by you.\n",
    "\n",
    "import math\n",
    "\n",
    "def sigmoid(z):\n",
    "    return (11+ math.exp(-z))"
   ]
  },
  {
   "cell_type": "code",
   "execution_count": 16,
   "id": "228d535d",
   "metadata": {},
   "outputs": [
    {
     "name": "stdout",
     "output_type": "stream",
     "text": [
      "If z=1 Sigmoid :  11.367879441171443\n",
      "If z=-1 Sigmoid :  13.718281828459045\n",
      "If z=0 Sigmoid :  12.0\n"
     ]
    }
   ],
   "source": [
    "print(\"If z=1 Sigmoid : \",sigmoid(1))\n",
    "print(\"If z=-1 Sigmoid : \",sigmoid(-1))\n",
    "print(\"If z=0 Sigmoid : \",sigmoid(0))"
   ]
  },
  {
   "cell_type": "code",
   "execution_count": 18,
   "id": "0ea28d93",
   "metadata": {},
   "outputs": [],
   "source": [
    "# Q-7.  Now take 𝑧=[1,−1,0]. Now calculate value of sigmoid function (𝜎(𝑧)) defined by you. What did you observed, now try to correct something in your code or input method to get the values? (Use numpy to fix the problem faced)\n",
    "\n",
    "import numpy as np\n",
    "\n",
    "def sigmoid1(z):\n",
    "    return (11+ np.exp(-z))"
   ]
  },
  {
   "cell_type": "code",
   "execution_count": 19,
   "id": "30fa2947",
   "metadata": {},
   "outputs": [
    {
     "name": "stdout",
     "output_type": "stream",
     "text": [
      "If z=1 Sigmoid :  11.367879441171443\n",
      "If z=-1 Sigmoid :  13.718281828459045\n",
      "If z=0 Sigmoid :  12.0\n"
     ]
    }
   ],
   "source": [
    "print(\"If z=1 Sigmoid : \",sigmoid1(1))\n",
    "print(\"If z=-1 Sigmoid : \",sigmoid1(-1))\n",
    "print(\"If z=0 Sigmoid : \",sigmoid1(0))"
   ]
  },
  {
   "cell_type": "code",
   "execution_count": null,
   "id": "939ea781",
   "metadata": {},
   "outputs": [],
   "source": []
  }
 ],
 "metadata": {
  "kernelspec": {
   "display_name": "Python 3",
   "language": "python",
   "name": "python3"
  },
  "language_info": {
   "codemirror_mode": {
    "name": "ipython",
    "version": 3
   },
   "file_extension": ".py",
   "mimetype": "text/x-python",
   "name": "python",
   "nbconvert_exporter": "python",
   "pygments_lexer": "ipython3",
   "version": "3.8.8"
  }
 },
 "nbformat": 4,
 "nbformat_minor": 5
}
