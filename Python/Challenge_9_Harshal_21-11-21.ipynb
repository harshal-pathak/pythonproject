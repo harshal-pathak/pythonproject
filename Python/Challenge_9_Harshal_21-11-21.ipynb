{
 "cells": [
  {
   "cell_type": "code",
   "execution_count": 1,
   "id": "478fd74c",
   "metadata": {},
   "outputs": [],
   "source": [
    "# Q-1. Create a data frame called DataFrame1. It should contain data about five employees. Each employee data consists of employee number, name, salary, department number and designation.\n",
    "\n",
    "import pandas as pd"
   ]
  },
  {
   "cell_type": "code",
   "execution_count": 15,
   "id": "2334d723",
   "metadata": {},
   "outputs": [],
   "source": [
    "DataFrame=pd.DataFrame([[1,\"Suresh\",30000,\"CE01\",\"SE\"],[2,\"Asif\",31000,\"CE01\",\"JE\"],[3,\"Akshay\",25000,\"CE02\",\"A-SE\"],[4,\"Kalyani\",28000,\"CE02\",\"JE\"],[5,\"Josef\",29000,\"CE01\",\"A-SE\"]],\n",
    "                    columns =[\"Emp_no\",\"Emp_name\",\"Salary\",\"Dept_no\",\"Designation\"])"
   ]
  },
  {
   "cell_type": "code",
   "execution_count": 16,
   "id": "a9e2825c",
   "metadata": {},
   "outputs": [
    {
     "data": {
      "text/html": [
       "<div>\n",
       "<style scoped>\n",
       "    .dataframe tbody tr th:only-of-type {\n",
       "        vertical-align: middle;\n",
       "    }\n",
       "\n",
       "    .dataframe tbody tr th {\n",
       "        vertical-align: top;\n",
       "    }\n",
       "\n",
       "    .dataframe thead th {\n",
       "        text-align: right;\n",
       "    }\n",
       "</style>\n",
       "<table border=\"1\" class=\"dataframe\">\n",
       "  <thead>\n",
       "    <tr style=\"text-align: right;\">\n",
       "      <th></th>\n",
       "      <th>Emp_no</th>\n",
       "      <th>Emp_name</th>\n",
       "      <th>Salary</th>\n",
       "      <th>Dept_no</th>\n",
       "      <th>Designation</th>\n",
       "    </tr>\n",
       "  </thead>\n",
       "  <tbody>\n",
       "    <tr>\n",
       "      <th>0</th>\n",
       "      <td>1</td>\n",
       "      <td>Suresh</td>\n",
       "      <td>30000</td>\n",
       "      <td>CE01</td>\n",
       "      <td>SE</td>\n",
       "    </tr>\n",
       "    <tr>\n",
       "      <th>1</th>\n",
       "      <td>2</td>\n",
       "      <td>Asif</td>\n",
       "      <td>31000</td>\n",
       "      <td>CE01</td>\n",
       "      <td>JE</td>\n",
       "    </tr>\n",
       "    <tr>\n",
       "      <th>2</th>\n",
       "      <td>3</td>\n",
       "      <td>Akshay</td>\n",
       "      <td>25000</td>\n",
       "      <td>CE02</td>\n",
       "      <td>A-SE</td>\n",
       "    </tr>\n",
       "    <tr>\n",
       "      <th>3</th>\n",
       "      <td>4</td>\n",
       "      <td>Kalyani</td>\n",
       "      <td>28000</td>\n",
       "      <td>CE02</td>\n",
       "      <td>JE</td>\n",
       "    </tr>\n",
       "    <tr>\n",
       "      <th>4</th>\n",
       "      <td>5</td>\n",
       "      <td>Josef</td>\n",
       "      <td>29000</td>\n",
       "      <td>CE01</td>\n",
       "      <td>A-SE</td>\n",
       "    </tr>\n",
       "  </tbody>\n",
       "</table>\n",
       "</div>"
      ],
      "text/plain": [
       "   Emp_no Emp_name  Salary Dept_no Designation\n",
       "0       1   Suresh   30000    CE01          SE\n",
       "1       2     Asif   31000    CE01          JE\n",
       "2       3   Akshay   25000    CE02        A-SE\n",
       "3       4  Kalyani   28000    CE02          JE\n",
       "4       5    Josef   29000    CE01        A-SE"
      ]
     },
     "execution_count": 16,
     "metadata": {},
     "output_type": "execute_result"
    }
   ],
   "source": [
    "DataFrame"
   ]
  },
  {
   "cell_type": "code",
   "execution_count": 17,
   "id": "f5c618c3",
   "metadata": {},
   "outputs": [
    {
     "data": {
      "text/plain": [
       "0    30000\n",
       "1    31000\n",
       "2    25000\n",
       "3    28000\n",
       "4    29000\n",
       "Name: Salary, dtype: int64"
      ]
     },
     "execution_count": 17,
     "metadata": {},
     "output_type": "execute_result"
    }
   ],
   "source": [
    "# Q-2. In the DataFrame1 defined in Q.No. 1, add appropriate column names to the columns. Find the mean of the salary in the DataFrame1.\n",
    "\n",
    "DataFrame.Salary"
   ]
  },
  {
   "cell_type": "code",
   "execution_count": 18,
   "id": "2726e08c",
   "metadata": {},
   "outputs": [
    {
     "data": {
      "text/plain": [
       "28600.0"
      ]
     },
     "execution_count": 18,
     "metadata": {},
     "output_type": "execute_result"
    }
   ],
   "source": [
    "DataFrame.Salary.mean()"
   ]
  },
  {
   "cell_type": "code",
   "execution_count": 19,
   "id": "f6016326",
   "metadata": {},
   "outputs": [],
   "source": [
    "# Q-3. Create a dictionary called dept. In this dictionary, the columns are deptno, deptname and location. Create a data frame called DataFrame2 from the dictionary dept.\n",
    "\n",
    "dept = { 'deptno':(1,2,3,4,5,6),\n",
    "        'deptname': (\"Computer Science\",\"Civil\",\"IT\",\"Mechanical\",\"Electronics\",\"Electrical\"),\n",
    "        'location': (\"Pune\",\"Mumbai\",\"Chennai\",\"Banglore\",\"Hyderabad\",\"Ahemdabad\")\n",
    "       }\n"
   ]
  },
  {
   "cell_type": "code",
   "execution_count": 20,
   "id": "86448f5a",
   "metadata": {},
   "outputs": [],
   "source": [
    "DataFrame2 = pd.DataFrame(dept)"
   ]
  },
  {
   "cell_type": "code",
   "execution_count": 21,
   "id": "5abb0460",
   "metadata": {},
   "outputs": [
    {
     "data": {
      "text/html": [
       "<div>\n",
       "<style scoped>\n",
       "    .dataframe tbody tr th:only-of-type {\n",
       "        vertical-align: middle;\n",
       "    }\n",
       "\n",
       "    .dataframe tbody tr th {\n",
       "        vertical-align: top;\n",
       "    }\n",
       "\n",
       "    .dataframe thead th {\n",
       "        text-align: right;\n",
       "    }\n",
       "</style>\n",
       "<table border=\"1\" class=\"dataframe\">\n",
       "  <thead>\n",
       "    <tr style=\"text-align: right;\">\n",
       "      <th></th>\n",
       "      <th>deptno</th>\n",
       "      <th>deptname</th>\n",
       "      <th>location</th>\n",
       "    </tr>\n",
       "  </thead>\n",
       "  <tbody>\n",
       "    <tr>\n",
       "      <th>0</th>\n",
       "      <td>1</td>\n",
       "      <td>Computer Science</td>\n",
       "      <td>Pune</td>\n",
       "    </tr>\n",
       "    <tr>\n",
       "      <th>1</th>\n",
       "      <td>2</td>\n",
       "      <td>Civil</td>\n",
       "      <td>Mumbai</td>\n",
       "    </tr>\n",
       "    <tr>\n",
       "      <th>2</th>\n",
       "      <td>3</td>\n",
       "      <td>IT</td>\n",
       "      <td>Chennai</td>\n",
       "    </tr>\n",
       "    <tr>\n",
       "      <th>3</th>\n",
       "      <td>4</td>\n",
       "      <td>Mechanical</td>\n",
       "      <td>Banglore</td>\n",
       "    </tr>\n",
       "    <tr>\n",
       "      <th>4</th>\n",
       "      <td>5</td>\n",
       "      <td>Electronics</td>\n",
       "      <td>Hyderabad</td>\n",
       "    </tr>\n",
       "    <tr>\n",
       "      <th>5</th>\n",
       "      <td>6</td>\n",
       "      <td>Electrical</td>\n",
       "      <td>Ahemdabad</td>\n",
       "    </tr>\n",
       "  </tbody>\n",
       "</table>\n",
       "</div>"
      ],
      "text/plain": [
       "   deptno          deptname   location\n",
       "0       1  Computer Science       Pune\n",
       "1       2             Civil     Mumbai\n",
       "2       3                IT    Chennai\n",
       "3       4        Mechanical   Banglore\n",
       "4       5       Electronics  Hyderabad\n",
       "5       6        Electrical  Ahemdabad"
      ]
     },
     "execution_count": 21,
     "metadata": {},
     "output_type": "execute_result"
    }
   ],
   "source": [
    "DataFrame2"
   ]
  },
  {
   "cell_type": "code",
   "execution_count": 26,
   "id": "b91799ac",
   "metadata": {},
   "outputs": [],
   "source": [
    "# Q-4. The data represents salesman name and sales in three regions: region1, region2 and region3. Load sles.csv into a data frame called DataFrame3. Give appropriate column names to the columns in DataFrame3. Display the contents of DataFrame3.\n",
    "\n",
    "DataFrame3 = pd.read_csv('.\\pan\\Sales.txt',header=None, names=['Salesman_Name','Sales_region1','Sales_region2','Sales_region3'])"
   ]
  },
  {
   "cell_type": "code",
   "execution_count": 27,
   "id": "1fea96fe",
   "metadata": {},
   "outputs": [
    {
     "data": {
      "text/html": [
       "<div>\n",
       "<style scoped>\n",
       "    .dataframe tbody tr th:only-of-type {\n",
       "        vertical-align: middle;\n",
       "    }\n",
       "\n",
       "    .dataframe tbody tr th {\n",
       "        vertical-align: top;\n",
       "    }\n",
       "\n",
       "    .dataframe thead th {\n",
       "        text-align: right;\n",
       "    }\n",
       "</style>\n",
       "<table border=\"1\" class=\"dataframe\">\n",
       "  <thead>\n",
       "    <tr style=\"text-align: right;\">\n",
       "      <th></th>\n",
       "      <th>Salesman_Name</th>\n",
       "      <th>Sales_region1</th>\n",
       "      <th>Sales_region2</th>\n",
       "      <th>Sales_region3</th>\n",
       "    </tr>\n",
       "  </thead>\n",
       "  <tbody>\n",
       "    <tr>\n",
       "      <th>0</th>\n",
       "      <td>Dinesh</td>\n",
       "      <td>7800</td>\n",
       "      <td>6500.0</td>\n",
       "      <td>4590.0</td>\n",
       "    </tr>\n",
       "    <tr>\n",
       "      <th>1</th>\n",
       "      <td>Mahesh</td>\n",
       "      <td>8900</td>\n",
       "      <td>NaN</td>\n",
       "      <td>3790.0</td>\n",
       "    </tr>\n",
       "    <tr>\n",
       "      <th>2</th>\n",
       "      <td>Ramesh</td>\n",
       "      <td>10800</td>\n",
       "      <td>2300.0</td>\n",
       "      <td>NaN</td>\n",
       "    </tr>\n",
       "    <tr>\n",
       "      <th>3</th>\n",
       "      <td>Suresh</td>\n",
       "      <td>5600</td>\n",
       "      <td>6790.0</td>\n",
       "      <td>2300.0</td>\n",
       "    </tr>\n",
       "    <tr>\n",
       "      <th>4</th>\n",
       "      <td>Basha</td>\n",
       "      <td>7600</td>\n",
       "      <td>2300.0</td>\n",
       "      <td>2400.0</td>\n",
       "    </tr>\n",
       "  </tbody>\n",
       "</table>\n",
       "</div>"
      ],
      "text/plain": [
       "  Salesman_Name  Sales_region1  Sales_region2  Sales_region3\n",
       "0        Dinesh           7800         6500.0         4590.0\n",
       "1        Mahesh           8900            NaN         3790.0\n",
       "2        Ramesh          10800         2300.0            NaN\n",
       "3        Suresh           5600         6790.0         2300.0\n",
       "4         Basha           7600         2300.0         2400.0"
      ]
     },
     "execution_count": 27,
     "metadata": {},
     "output_type": "execute_result"
    }
   ],
   "source": [
    "DataFrame3"
   ]
  },
  {
   "cell_type": "code",
   "execution_count": 28,
   "id": "01793a08",
   "metadata": {},
   "outputs": [
    {
     "data": {
      "text/html": [
       "<div>\n",
       "<style scoped>\n",
       "    .dataframe tbody tr th:only-of-type {\n",
       "        vertical-align: middle;\n",
       "    }\n",
       "\n",
       "    .dataframe tbody tr th {\n",
       "        vertical-align: top;\n",
       "    }\n",
       "\n",
       "    .dataframe thead th {\n",
       "        text-align: right;\n",
       "    }\n",
       "</style>\n",
       "<table border=\"1\" class=\"dataframe\">\n",
       "  <thead>\n",
       "    <tr style=\"text-align: right;\">\n",
       "      <th></th>\n",
       "      <th>Salesman_Name</th>\n",
       "      <th>Sales_region1</th>\n",
       "      <th>Sales_region2</th>\n",
       "      <th>Sales_region3</th>\n",
       "    </tr>\n",
       "  </thead>\n",
       "  <tbody>\n",
       "    <tr>\n",
       "      <th>0</th>\n",
       "      <td>Dinesh</td>\n",
       "      <td>7800</td>\n",
       "      <td>6500.0</td>\n",
       "      <td>4590.0</td>\n",
       "    </tr>\n",
       "    <tr>\n",
       "      <th>1</th>\n",
       "      <td>Mahesh</td>\n",
       "      <td>8900</td>\n",
       "      <td>0.0</td>\n",
       "      <td>3790.0</td>\n",
       "    </tr>\n",
       "    <tr>\n",
       "      <th>2</th>\n",
       "      <td>Ramesh</td>\n",
       "      <td>10800</td>\n",
       "      <td>2300.0</td>\n",
       "      <td>0.0</td>\n",
       "    </tr>\n",
       "    <tr>\n",
       "      <th>3</th>\n",
       "      <td>Suresh</td>\n",
       "      <td>5600</td>\n",
       "      <td>6790.0</td>\n",
       "      <td>2300.0</td>\n",
       "    </tr>\n",
       "    <tr>\n",
       "      <th>4</th>\n",
       "      <td>Basha</td>\n",
       "      <td>7600</td>\n",
       "      <td>2300.0</td>\n",
       "      <td>2400.0</td>\n",
       "    </tr>\n",
       "  </tbody>\n",
       "</table>\n",
       "</div>"
      ],
      "text/plain": [
       "  Salesman_Name  Sales_region1  Sales_region2  Sales_region3\n",
       "0        Dinesh           7800         6500.0         4590.0\n",
       "1        Mahesh           8900            0.0         3790.0\n",
       "2        Ramesh          10800         2300.0            0.0\n",
       "3        Suresh           5600         6790.0         2300.0\n",
       "4         Basha           7600         2300.0         2400.0"
      ]
     },
     "execution_count": 28,
     "metadata": {},
     "output_type": "execute_result"
    }
   ],
   "source": [
    "# Q-5. In this exercise, demonstrate different methods of handling missing data in data frames. For reference, consider the DataFrame3 created in Q.No. 4. In DataFrame3, do the following: fill missing values with zeroes, fill missing values with the mean of their respective column, drop the rows containing missing values, drop the columns containing missing values.\n",
    "# Filling missing value with Zero\n",
    "DataFrame3.fillna(0)"
   ]
  },
  {
   "cell_type": "code",
   "execution_count": 43,
   "id": "08bb01f6",
   "metadata": {},
   "outputs": [
    {
     "data": {
      "text/plain": [
       "0    6500.0\n",
       "1    4472.5\n",
       "2    2300.0\n",
       "3    6790.0\n",
       "4    2300.0\n",
       "Name: Sales_region2, dtype: float64"
      ]
     },
     "execution_count": 43,
     "metadata": {},
     "output_type": "execute_result"
    }
   ],
   "source": [
    "# Filling mean of the column\n",
    "DataFrame3['Sales_region2'].fillna(DataFrame3['Sales_region2'].mean())\n"
   ]
  },
  {
   "cell_type": "code",
   "execution_count": 44,
   "id": "48e123fc",
   "metadata": {},
   "outputs": [
    {
     "data": {
      "text/plain": [
       "0    4590.0\n",
       "1    3790.0\n",
       "2    3270.0\n",
       "3    2300.0\n",
       "4    2400.0\n",
       "Name: Sales_region3, dtype: float64"
      ]
     },
     "execution_count": 44,
     "metadata": {},
     "output_type": "execute_result"
    }
   ],
   "source": [
    "DataFrame3['Sales_region3'].fillna(DataFrame3['Sales_region3'].mean())"
   ]
  },
  {
   "cell_type": "code",
   "execution_count": 41,
   "id": "e458f7ce",
   "metadata": {},
   "outputs": [
    {
     "data": {
      "text/html": [
       "<div>\n",
       "<style scoped>\n",
       "    .dataframe tbody tr th:only-of-type {\n",
       "        vertical-align: middle;\n",
       "    }\n",
       "\n",
       "    .dataframe tbody tr th {\n",
       "        vertical-align: top;\n",
       "    }\n",
       "\n",
       "    .dataframe thead th {\n",
       "        text-align: right;\n",
       "    }\n",
       "</style>\n",
       "<table border=\"1\" class=\"dataframe\">\n",
       "  <thead>\n",
       "    <tr style=\"text-align: right;\">\n",
       "      <th></th>\n",
       "      <th>Salesman_Name</th>\n",
       "      <th>Sales_region1</th>\n",
       "      <th>Sales_region2</th>\n",
       "      <th>Sales_region3</th>\n",
       "    </tr>\n",
       "  </thead>\n",
       "  <tbody>\n",
       "    <tr>\n",
       "      <th>0</th>\n",
       "      <td>Dinesh</td>\n",
       "      <td>7800</td>\n",
       "      <td>6500.0</td>\n",
       "      <td>4590.0</td>\n",
       "    </tr>\n",
       "    <tr>\n",
       "      <th>3</th>\n",
       "      <td>Suresh</td>\n",
       "      <td>5600</td>\n",
       "      <td>6790.0</td>\n",
       "      <td>2300.0</td>\n",
       "    </tr>\n",
       "    <tr>\n",
       "      <th>4</th>\n",
       "      <td>Basha</td>\n",
       "      <td>7600</td>\n",
       "      <td>2300.0</td>\n",
       "      <td>2400.0</td>\n",
       "    </tr>\n",
       "  </tbody>\n",
       "</table>\n",
       "</div>"
      ],
      "text/plain": [
       "  Salesman_Name  Sales_region1  Sales_region2  Sales_region3\n",
       "0        Dinesh           7800         6500.0         4590.0\n",
       "3        Suresh           5600         6790.0         2300.0\n",
       "4         Basha           7600         2300.0         2400.0"
      ]
     },
     "execution_count": 41,
     "metadata": {},
     "output_type": "execute_result"
    }
   ],
   "source": [
    "DataFrame3.dropna()"
   ]
  },
  {
   "cell_type": "code",
   "execution_count": 42,
   "id": "2a390b63",
   "metadata": {},
   "outputs": [
    {
     "data": {
      "text/html": [
       "<div>\n",
       "<style scoped>\n",
       "    .dataframe tbody tr th:only-of-type {\n",
       "        vertical-align: middle;\n",
       "    }\n",
       "\n",
       "    .dataframe tbody tr th {\n",
       "        vertical-align: top;\n",
       "    }\n",
       "\n",
       "    .dataframe thead th {\n",
       "        text-align: right;\n",
       "    }\n",
       "</style>\n",
       "<table border=\"1\" class=\"dataframe\">\n",
       "  <thead>\n",
       "    <tr style=\"text-align: right;\">\n",
       "      <th></th>\n",
       "      <th>Salesman_Name</th>\n",
       "      <th>Sales_region1</th>\n",
       "    </tr>\n",
       "  </thead>\n",
       "  <tbody>\n",
       "    <tr>\n",
       "      <th>0</th>\n",
       "      <td>Dinesh</td>\n",
       "      <td>7800</td>\n",
       "    </tr>\n",
       "    <tr>\n",
       "      <th>1</th>\n",
       "      <td>Mahesh</td>\n",
       "      <td>8900</td>\n",
       "    </tr>\n",
       "    <tr>\n",
       "      <th>2</th>\n",
       "      <td>Ramesh</td>\n",
       "      <td>10800</td>\n",
       "    </tr>\n",
       "    <tr>\n",
       "      <th>3</th>\n",
       "      <td>Suresh</td>\n",
       "      <td>5600</td>\n",
       "    </tr>\n",
       "    <tr>\n",
       "      <th>4</th>\n",
       "      <td>Basha</td>\n",
       "      <td>7600</td>\n",
       "    </tr>\n",
       "  </tbody>\n",
       "</table>\n",
       "</div>"
      ],
      "text/plain": [
       "  Salesman_Name  Sales_region1\n",
       "0        Dinesh           7800\n",
       "1        Mahesh           8900\n",
       "2        Ramesh          10800\n",
       "3        Suresh           5600\n",
       "4         Basha           7600"
      ]
     },
     "execution_count": 42,
     "metadata": {},
     "output_type": "execute_result"
    }
   ],
   "source": [
    "DataFrame3.dropna(axis=1)"
   ]
  },
  {
   "cell_type": "code",
   "execution_count": 45,
   "id": "61bfdc17",
   "metadata": {},
   "outputs": [],
   "source": [
    "# Q-6. From DataFrame1 create a new data frame called DataFrame4. In DataFrame4, set the employee number as in-place index. Display data from 3rd row and 4th column using label-based, integer-based indexing and combination of label and integer indexing methods.\n",
    "\n",
    "DataFrame4 = DataFrame\n"
   ]
  },
  {
   "cell_type": "code",
   "execution_count": 46,
   "id": "fb232991",
   "metadata": {},
   "outputs": [
    {
     "data": {
      "text/html": [
       "<div>\n",
       "<style scoped>\n",
       "    .dataframe tbody tr th:only-of-type {\n",
       "        vertical-align: middle;\n",
       "    }\n",
       "\n",
       "    .dataframe tbody tr th {\n",
       "        vertical-align: top;\n",
       "    }\n",
       "\n",
       "    .dataframe thead th {\n",
       "        text-align: right;\n",
       "    }\n",
       "</style>\n",
       "<table border=\"1\" class=\"dataframe\">\n",
       "  <thead>\n",
       "    <tr style=\"text-align: right;\">\n",
       "      <th></th>\n",
       "      <th>Emp_no</th>\n",
       "      <th>Emp_name</th>\n",
       "      <th>Salary</th>\n",
       "      <th>Dept_no</th>\n",
       "      <th>Designation</th>\n",
       "    </tr>\n",
       "  </thead>\n",
       "  <tbody>\n",
       "    <tr>\n",
       "      <th>0</th>\n",
       "      <td>1</td>\n",
       "      <td>Suresh</td>\n",
       "      <td>30000</td>\n",
       "      <td>CE01</td>\n",
       "      <td>SE</td>\n",
       "    </tr>\n",
       "    <tr>\n",
       "      <th>1</th>\n",
       "      <td>2</td>\n",
       "      <td>Asif</td>\n",
       "      <td>31000</td>\n",
       "      <td>CE01</td>\n",
       "      <td>JE</td>\n",
       "    </tr>\n",
       "    <tr>\n",
       "      <th>2</th>\n",
       "      <td>3</td>\n",
       "      <td>Akshay</td>\n",
       "      <td>25000</td>\n",
       "      <td>CE02</td>\n",
       "      <td>A-SE</td>\n",
       "    </tr>\n",
       "    <tr>\n",
       "      <th>3</th>\n",
       "      <td>4</td>\n",
       "      <td>Kalyani</td>\n",
       "      <td>28000</td>\n",
       "      <td>CE02</td>\n",
       "      <td>JE</td>\n",
       "    </tr>\n",
       "    <tr>\n",
       "      <th>4</th>\n",
       "      <td>5</td>\n",
       "      <td>Josef</td>\n",
       "      <td>29000</td>\n",
       "      <td>CE01</td>\n",
       "      <td>A-SE</td>\n",
       "    </tr>\n",
       "  </tbody>\n",
       "</table>\n",
       "</div>"
      ],
      "text/plain": [
       "   Emp_no Emp_name  Salary Dept_no Designation\n",
       "0       1   Suresh   30000    CE01          SE\n",
       "1       2     Asif   31000    CE01          JE\n",
       "2       3   Akshay   25000    CE02        A-SE\n",
       "3       4  Kalyani   28000    CE02          JE\n",
       "4       5    Josef   29000    CE01        A-SE"
      ]
     },
     "execution_count": 46,
     "metadata": {},
     "output_type": "execute_result"
    }
   ],
   "source": [
    "DataFrame4"
   ]
  },
  {
   "cell_type": "code",
   "execution_count": 49,
   "id": "3063c801",
   "metadata": {},
   "outputs": [
    {
     "data": {
      "text/plain": [
       "'JE'"
      ]
     },
     "execution_count": 49,
     "metadata": {},
     "output_type": "execute_result"
    }
   ],
   "source": [
    "DataFrame4.iloc[3,4]"
   ]
  },
  {
   "cell_type": "code",
   "execution_count": 51,
   "id": "00cdd58b",
   "metadata": {},
   "outputs": [
    {
     "data": {
      "text/plain": [
       "'JE'"
      ]
     },
     "execution_count": 51,
     "metadata": {},
     "output_type": "execute_result"
    }
   ],
   "source": [
    "DataFrame4.loc[3,'Designation']"
   ]
  },
  {
   "cell_type": "code",
   "execution_count": 52,
   "id": "edbfb79e",
   "metadata": {},
   "outputs": [
    {
     "data": {
      "text/plain": [
       "Emp_no               4\n",
       "Emp_name       Kalyani\n",
       "Salary           28000\n",
       "Dept_no           CE02\n",
       "Designation         JE\n",
       "Name: 3, dtype: object"
      ]
     },
     "execution_count": 52,
     "metadata": {},
     "output_type": "execute_result"
    }
   ],
   "source": [
    "DataFrame4.iloc[3]"
   ]
  },
  {
   "cell_type": "code",
   "execution_count": 53,
   "id": "6c1ed66a",
   "metadata": {},
   "outputs": [
    {
     "data": {
      "text/html": [
       "<div>\n",
       "<style scoped>\n",
       "    .dataframe tbody tr th:only-of-type {\n",
       "        vertical-align: middle;\n",
       "    }\n",
       "\n",
       "    .dataframe tbody tr th {\n",
       "        vertical-align: top;\n",
       "    }\n",
       "\n",
       "    .dataframe thead th {\n",
       "        text-align: right;\n",
       "    }\n",
       "</style>\n",
       "<table border=\"1\" class=\"dataframe\">\n",
       "  <thead>\n",
       "    <tr style=\"text-align: right;\">\n",
       "      <th></th>\n",
       "      <th>Dept_no</th>\n",
       "    </tr>\n",
       "  </thead>\n",
       "  <tbody>\n",
       "    <tr>\n",
       "      <th>3</th>\n",
       "      <td>CE02</td>\n",
       "    </tr>\n",
       "  </tbody>\n",
       "</table>\n",
       "</div>"
      ],
      "text/plain": [
       "  Dept_no\n",
       "3    CE02"
      ]
     },
     "execution_count": 53,
     "metadata": {},
     "output_type": "execute_result"
    }
   ],
   "source": [
    "DataFrame4.iloc[3:4,3:4]"
   ]
  },
  {
   "cell_type": "code",
   "execution_count": 54,
   "id": "0b5f3263",
   "metadata": {},
   "outputs": [
    {
     "data": {
      "text/plain": [
       "0    CE01\n",
       "1    CE01\n",
       "2    CE02\n",
       "3    CE02\n",
       "4    CE01\n",
       "Name: Dept_no, dtype: object"
      ]
     },
     "execution_count": 54,
     "metadata": {},
     "output_type": "execute_result"
    }
   ],
   "source": [
    "DataFrame4.iloc[:,3]"
   ]
  },
  {
   "cell_type": "code",
   "execution_count": 56,
   "id": "69d33f1c",
   "metadata": {},
   "outputs": [
    {
     "data": {
      "text/plain": [
       "Emp_no             5\n",
       "Emp_name       Josef\n",
       "Salary         29000\n",
       "Dept_no         CE01\n",
       "Designation     A-SE\n",
       "Name: 4, dtype: object"
      ]
     },
     "execution_count": 56,
     "metadata": {},
     "output_type": "execute_result"
    }
   ],
   "source": [
    "DataFrame4.iloc[4,:]"
   ]
  },
  {
   "cell_type": "code",
   "execution_count": 58,
   "id": "22205418",
   "metadata": {},
   "outputs": [
    {
     "data": {
      "text/html": [
       "<div>\n",
       "<style scoped>\n",
       "    .dataframe tbody tr th:only-of-type {\n",
       "        vertical-align: middle;\n",
       "    }\n",
       "\n",
       "    .dataframe tbody tr th {\n",
       "        vertical-align: top;\n",
       "    }\n",
       "\n",
       "    .dataframe thead th {\n",
       "        text-align: right;\n",
       "    }\n",
       "</style>\n",
       "<table border=\"1\" class=\"dataframe\">\n",
       "  <thead>\n",
       "    <tr style=\"text-align: right;\">\n",
       "      <th></th>\n",
       "      <th>Salesman_Name</th>\n",
       "      <th>Sales_region1</th>\n",
       "      <th>Sales_region2</th>\n",
       "      <th>Sales_region3</th>\n",
       "    </tr>\n",
       "  </thead>\n",
       "  <tbody>\n",
       "    <tr>\n",
       "      <th>2</th>\n",
       "      <td>Ramesh</td>\n",
       "      <td>10800</td>\n",
       "      <td>2300.0</td>\n",
       "      <td>NaN</td>\n",
       "    </tr>\n",
       "    <tr>\n",
       "      <th>4</th>\n",
       "      <td>Basha</td>\n",
       "      <td>7600</td>\n",
       "      <td>2300.0</td>\n",
       "      <td>2400.0</td>\n",
       "    </tr>\n",
       "  </tbody>\n",
       "</table>\n",
       "</div>"
      ],
      "text/plain": [
       "  Salesman_Name  Sales_region1  Sales_region2  Sales_region3\n",
       "2        Ramesh          10800         2300.0            NaN\n",
       "4         Basha           7600         2300.0         2400.0"
      ]
     },
     "execution_count": 58,
     "metadata": {},
     "output_type": "execute_result"
    }
   ],
   "source": [
    "# Q-7. In DataFrame3 created in Q.No. 5, find the salesmen whose sales are greater than 7000 in region1 but less than 3000 in region2\n",
    "DataFrame3[(DataFrame3['Sales_region1']>7000) & (DataFrame3['Sales_region2']<3000)]"
   ]
  },
  {
   "cell_type": "code",
   "execution_count": 60,
   "id": "bd36f91c",
   "metadata": {},
   "outputs": [
    {
     "data": {
      "text/plain": [
       "Salary\n",
       "25000    CE02\n",
       "28000    CE02\n",
       "29000    CE01\n",
       "30000    CE01\n",
       "31000    CE01\n",
       "Name: Dept_no, dtype: object"
      ]
     },
     "execution_count": 60,
     "metadata": {},
     "output_type": "execute_result"
    }
   ],
   "source": [
    "# Q-8. In DataFrame1 created in Q. No. 1, find the employees with the highest salary in each department. Use the group by clause and the max() function. Similarly, in DataFrame3 created in Q. No. 5, find the salesman with the highest amount of sales for each region.\n",
    "\n",
    "DataFrame.groupby(['Salary']).max()['Dept_no']"
   ]
  },
  {
   "cell_type": "code",
   "execution_count": 63,
   "id": "7f31c76c",
   "metadata": {},
   "outputs": [
    {
     "data": {
      "text/plain": [
       "Sales_region1\n",
       "5600     Suresh\n",
       "7600      Basha\n",
       "7800     Dinesh\n",
       "8900     Mahesh\n",
       "10800    Ramesh\n",
       "Name: Salesman_Name, dtype: object"
      ]
     },
     "execution_count": 63,
     "metadata": {},
     "output_type": "execute_result"
    }
   ],
   "source": [
    "DataFrame3.groupby(['Sales_region1']).max()['Salesman_Name']"
   ]
  },
  {
   "cell_type": "code",
   "execution_count": 65,
   "id": "36995b2b",
   "metadata": {},
   "outputs": [
    {
     "data": {
      "text/plain": [
       "Sales_region2\n",
       "2300.0    Ramesh\n",
       "6500.0    Dinesh\n",
       "6790.0    Suresh\n",
       "Name: Salesman_Name, dtype: object"
      ]
     },
     "execution_count": 65,
     "metadata": {},
     "output_type": "execute_result"
    }
   ],
   "source": [
    "DataFrame3.groupby(['Sales_region2']).max()['Salesman_Name']"
   ]
  },
  {
   "cell_type": "code",
   "execution_count": 66,
   "id": "0c0b89b0",
   "metadata": {},
   "outputs": [
    {
     "data": {
      "text/plain": [
       "Sales_region3\n",
       "2300.0    Suresh\n",
       "2400.0     Basha\n",
       "3790.0    Mahesh\n",
       "4590.0    Dinesh\n",
       "Name: Salesman_Name, dtype: object"
      ]
     },
     "execution_count": 66,
     "metadata": {},
     "output_type": "execute_result"
    }
   ],
   "source": [
    "DataFrame3.groupby(['Sales_region3']).max()['Salesman_Name']"
   ]
  },
  {
   "cell_type": "code",
   "execution_count": 67,
   "id": "e1c33085",
   "metadata": {},
   "outputs": [],
   "source": [
    "# Q-9. In DataFrame1 created in Q. No. 1, add a new column called Address. In this new column, set the value as ‘Chennai’ for all the existing rows\n",
    "\n",
    "DataFrame['Address'] = DataFrame.shape[0] * ['Chennai']"
   ]
  },
  {
   "cell_type": "code",
   "execution_count": 68,
   "id": "648dd18a",
   "metadata": {},
   "outputs": [
    {
     "data": {
      "text/html": [
       "<div>\n",
       "<style scoped>\n",
       "    .dataframe tbody tr th:only-of-type {\n",
       "        vertical-align: middle;\n",
       "    }\n",
       "\n",
       "    .dataframe tbody tr th {\n",
       "        vertical-align: top;\n",
       "    }\n",
       "\n",
       "    .dataframe thead th {\n",
       "        text-align: right;\n",
       "    }\n",
       "</style>\n",
       "<table border=\"1\" class=\"dataframe\">\n",
       "  <thead>\n",
       "    <tr style=\"text-align: right;\">\n",
       "      <th></th>\n",
       "      <th>Emp_no</th>\n",
       "      <th>Emp_name</th>\n",
       "      <th>Salary</th>\n",
       "      <th>Dept_no</th>\n",
       "      <th>Designation</th>\n",
       "      <th>Address</th>\n",
       "    </tr>\n",
       "  </thead>\n",
       "  <tbody>\n",
       "    <tr>\n",
       "      <th>0</th>\n",
       "      <td>1</td>\n",
       "      <td>Suresh</td>\n",
       "      <td>30000</td>\n",
       "      <td>CE01</td>\n",
       "      <td>SE</td>\n",
       "      <td>Chennai</td>\n",
       "    </tr>\n",
       "    <tr>\n",
       "      <th>1</th>\n",
       "      <td>2</td>\n",
       "      <td>Asif</td>\n",
       "      <td>31000</td>\n",
       "      <td>CE01</td>\n",
       "      <td>JE</td>\n",
       "      <td>Chennai</td>\n",
       "    </tr>\n",
       "    <tr>\n",
       "      <th>2</th>\n",
       "      <td>3</td>\n",
       "      <td>Akshay</td>\n",
       "      <td>25000</td>\n",
       "      <td>CE02</td>\n",
       "      <td>A-SE</td>\n",
       "      <td>Chennai</td>\n",
       "    </tr>\n",
       "    <tr>\n",
       "      <th>3</th>\n",
       "      <td>4</td>\n",
       "      <td>Kalyani</td>\n",
       "      <td>28000</td>\n",
       "      <td>CE02</td>\n",
       "      <td>JE</td>\n",
       "      <td>Chennai</td>\n",
       "    </tr>\n",
       "    <tr>\n",
       "      <th>4</th>\n",
       "      <td>5</td>\n",
       "      <td>Josef</td>\n",
       "      <td>29000</td>\n",
       "      <td>CE01</td>\n",
       "      <td>A-SE</td>\n",
       "      <td>Chennai</td>\n",
       "    </tr>\n",
       "  </tbody>\n",
       "</table>\n",
       "</div>"
      ],
      "text/plain": [
       "   Emp_no Emp_name  Salary Dept_no Designation  Address\n",
       "0       1   Suresh   30000    CE01          SE  Chennai\n",
       "1       2     Asif   31000    CE01          JE  Chennai\n",
       "2       3   Akshay   25000    CE02        A-SE  Chennai\n",
       "3       4  Kalyani   28000    CE02          JE  Chennai\n",
       "4       5    Josef   29000    CE01        A-SE  Chennai"
      ]
     },
     "execution_count": 68,
     "metadata": {},
     "output_type": "execute_result"
    }
   ],
   "source": [
    "DataFrame"
   ]
  },
  {
   "cell_type": "code",
   "execution_count": 69,
   "id": "42b17183",
   "metadata": {},
   "outputs": [],
   "source": [
    "# Q-10. Create a line graph and bar chart to visualize the two data frames, DataFrame1 and DataFrame3.\n",
    "\n",
    "DataFrame_vis = pd.DataFrame(DataFrame.mean())"
   ]
  },
  {
   "cell_type": "code",
   "execution_count": 70,
   "id": "bc498504",
   "metadata": {},
   "outputs": [
    {
     "data": {
      "text/plain": [
       "<AxesSubplot:>"
      ]
     },
     "execution_count": 70,
     "metadata": {},
     "output_type": "execute_result"
    },
    {
     "data": {
      "image/png": "[encoded data removed]",
      "text/plain": [
       "<Figure size 432x288 with 1 Axes>"
      ]
     },
     "metadata": {
      "needs_background": "light"
     },
     "output_type": "display_data"
    }
   ],
   "source": [
    "DataFrame_vis.plot()"
   ]
  },
  {
   "cell_type": "code",
   "execution_count": 71,
   "id": "042f243d",
   "metadata": {},
   "outputs": [
    {
     "data": {
      "text/plain": [
       "<AxesSubplot:>"
      ]
     },
     "execution_count": 71,
     "metadata": {},
     "output_type": "execute_result"
    },
    {
     "data": {
      "image/png": "[encoded data removed]",
      "text/plain": [
       "<Figure size 432x288 with 1 Axes>"
      ]
     },
     "metadata": {
      "needs_background": "light"
     },
     "output_type": "display_data"
    }
   ],
   "source": [
    "DataFrame_vis.plot.bar()"
   ]
  },
  {
   "cell_type": "code",
   "execution_count": 72,
   "id": "bb65b88c",
   "metadata": {},
   "outputs": [],
   "source": [
    "DataFrame3_vis = pd.DataFrame(DataFrame3.mean())"
   ]
  },
  {
   "cell_type": "code",
   "execution_count": 73,
   "id": "5da8e8ec",
   "metadata": {},
   "outputs": [
    {
     "data": {
      "text/plain": [
       "<AxesSubplot:>"
      ]
     },
     "execution_count": 73,
     "metadata": {},
     "output_type": "execute_result"
    },
    {
     "data": {
      "image/png": "[encoded data removed]",
      "text/plain": [
       "<Figure size 432x288 with 1 Axes>"
      ]
     },
     "metadata": {
      "needs_background": "light"
     },
     "output_type": "display_data"
    }
   ],
   "source": [
    "DataFrame3_vis.plot()"
   ]
  },
  {
   "cell_type": "code",
   "execution_count": 74,
   "id": "077c6cfa",
   "metadata": {},
   "outputs": [
    {
     "data": {
      "text/plain": [
       "<AxesSubplot:>"
      ]
     },
     "execution_count": 74,
     "metadata": {},
     "output_type": "execute_result"
    },
    {
     "data": {
      "image/png": "[encoded data removed]",
      "text/plain": [
       "<Figure size 432x288 with 1 Axes>"
      ]
     },
     "metadata": {
      "needs_background": "light"
     },
     "output_type": "display_data"
    }
   ],
   "source": [
    "DataFrame3_vis.plot.bar()"
   ]
  },
  {
   "cell_type": "code",
   "execution_count": null,
   "id": "a85a82c6",
   "metadata": {},
   "outputs": [],
   "source": []
  }
 ],
 "metadata": {
  "kernelspec": {
   "display_name": "Python 3",
   "language": "python",
   "name": "python3"
  },
  "language_info": {
   "codemirror_mode": {
    "name": "ipython",
    "version": 3
   },
   "file_extension": ".py",
   "mimetype": "text/x-python",
   "name": "python",
   "nbconvert_exporter": "python",
   "pygments_lexer": "ipython3",
   "version": "3.8.8"
  }
 },
 "nbformat": 4,
 "nbformat_minor": 5
}
