{
 "cells": [
  {
   "cell_type": "code",
   "execution_count": 153,
   "id": "9e6098ed",
   "metadata": {},
   "outputs": [],
   "source": [
    "# Q-1. Create a database called temp_db. Open a cursor to this newly created database.\n",
    "\n",
    "import sqlite3\n",
    "\n",
    "con = sqlite3.connect('temp_db.db')\n",
    "cursor = con.cursor()"
   ]
  },
  {
   "cell_type": "code",
   "execution_count": 154,
   "id": "232ee30b",
   "metadata": {},
   "outputs": [],
   "source": [
    "# Q-2. In the database temp_db created in Q.No.1, create a table called emp with the attributes empno, ename, salary and deptno\n",
    "\n",
    "def create_table():\n",
    "    con = sqlite3.connect('temp_db.db')\n",
    "    cur = con.cursor()\n",
    "    cur.execute('CREATE TABLE IF NOT EXISTS employ(eno INTEGER,enam TEXT,sal REAL,dno INTEGER)')\n",
    "    con.commit()\n",
    "    con.close()"
   ]
  },
  {
   "cell_type": "code",
   "execution_count": 155,
   "id": "da756769",
   "metadata": {},
   "outputs": [],
   "source": [
    "create_table()"
   ]
  },
  {
   "cell_type": "code",
   "execution_count": 156,
   "id": "faecd06b",
   "metadata": {},
   "outputs": [],
   "source": [
    "# Q-3. In the emp table created in Q.No. 2, insert any five records.\n",
    "\n",
    "def inserta(eno,enam,sal,dno):\n",
    "    con = sqlite3.connect('temp_db.db')\n",
    "    cur = con.cursor()\n",
    "    cur.execute('INSERT INTO employ values(?,?,?,?)',(eno,enam,sal,dno,))\n",
    "    con.commit()\n",
    "    con.close()"
   ]
  },
  {
   "cell_type": "code",
   "execution_count": 157,
   "id": "e8d9bbf3",
   "metadata": {},
   "outputs": [],
   "source": [
    "inserta(101,\"Akshay\",31000,10)\n",
    "inserta(102,\"Sharkukh\",35000,10)\n",
    "inserta(103,\"Ranbir\",30000,30)\n",
    "inserta(104,\"Salman\",29000,20)\n",
    "inserta(105,\"Hritik\",37000,40)"
   ]
  },
  {
   "cell_type": "code",
   "execution_count": 158,
   "id": "bfb21f2c",
   "metadata": {},
   "outputs": [],
   "source": [
    "# Q-4. From the emp table, display all the records.\n",
    "\n",
    "def display():\n",
    "    con = sqlite3.connect('temp_db.db')\n",
    "    cur = con.cursor()\n",
    "    cur.execute('SELECT * FROM employ')\n",
    "    rows = cur.fetchall()\n",
    "    con.close()\n",
    "    return rows"
   ]
  },
  {
   "cell_type": "code",
   "execution_count": 159,
   "id": "4f76c17d",
   "metadata": {},
   "outputs": [
    {
     "data": {
      "text/plain": [
       "[(101, 'Akshay', 31000.0, 10),\n",
       " (102, 'Sharkukh', 35000.0, 10),\n",
       " (103, 'Ranbir', 30000.0, 30),\n",
       " (104, 'Salman', 29000.0, 20),\n",
       " (105, 'Hritik', 37000.0, 40)]"
      ]
     },
     "execution_count": 159,
     "metadata": {},
     "output_type": "execute_result"
    }
   ],
   "source": [
    "display()"
   ]
  },
  {
   "cell_type": "code",
   "execution_count": 160,
   "id": "16399a03",
   "metadata": {},
   "outputs": [],
   "source": [
    "# Q-5. From the emp table, display the records of only those employees whose salary is greater than 15000 and who belong to deptno 10\n",
    "\n",
    "def display2(dno,sal):\n",
    "    con = sqlite3.connect('temp_db.db')\n",
    "    cur = con.cursor()\n",
    "    cur.execute(\"SELECT * FROM employ where dno = ? and sal > ?\",(dno,sal,))\n",
    "    rows = cur.fetchall()\n",
    "    con.close()\n",
    "    return rows\n",
    "    \n"
   ]
  },
  {
   "cell_type": "code",
   "execution_count": 161,
   "id": "7a259c4c",
   "metadata": {},
   "outputs": [
    {
     "data": {
      "text/plain": [
       "[(101, 'Akshay', 31000.0, 10), (102, 'Sharkukh', 35000.0, 10)]"
      ]
     },
     "execution_count": 161,
     "metadata": {},
     "output_type": "execute_result"
    }
   ],
   "source": [
    "display2(10,15000)\n",
    "\n"
   ]
  },
  {
   "cell_type": "code",
   "execution_count": 162,
   "id": "ff8e9eec",
   "metadata": {},
   "outputs": [
    {
     "data": {
      "text/plain": [
       "[(101, 'Akshay', 31000.0, 10),\n",
       " (102, 'Sharkukh', 35000.0, 10),\n",
       " (103, 'Ranbir', 30000.0, 30),\n",
       " (104, 'Salman', 29000.0, 20),\n",
       " (105, 'Hritik', 37000.0, 40)]"
      ]
     },
     "execution_count": 162,
     "metadata": {},
     "output_type": "execute_result"
    }
   ],
   "source": [
    "display()"
   ]
  },
  {
   "cell_type": "code",
   "execution_count": 164,
   "id": "97ec9885",
   "metadata": {},
   "outputs": [],
   "source": [
    "# Q-6. From the emp table, display the records of only those employees whose salary lies between 20000 and 25000 and who do not belong to the deptno 10\n",
    "\n",
    "def display3(n1,n2,dno):\n",
    "    con = sqlite3.connect('temp_db.db')\n",
    "    cur = con.cursor()\n",
    "    cur.execute(\"SELECT * FROM employ where sal > ? and sal < ? and dno != ?\",(n1,n2,dno,))\n",
    "    rows = cur.fetchall()\n",
    "    con.close()\n",
    "    return rows"
   ]
  },
  {
   "cell_type": "code",
   "execution_count": 165,
   "id": "1598299f",
   "metadata": {},
   "outputs": [
    {
     "data": {
      "text/plain": [
       "[]"
      ]
     },
     "execution_count": 165,
     "metadata": {},
     "output_type": "execute_result"
    }
   ],
   "source": [
    "display3(20000,25000,10)"
   ]
  },
  {
   "cell_type": "code",
   "execution_count": 199,
   "id": "e303b029",
   "metadata": {},
   "outputs": [],
   "source": [
    "# Q-7. From the emp table, display the records of only those employees whose name begins with S.\n",
    "# Will check name starts with \"S\"\n",
    "\n",
    "def display4():\n",
    "    con = sqlite3.connect('temp_db.db')\n",
    "    cur = con.cursor()\n",
    "    cur.execute(\"SELECT * FROM employ where enam LIKE 'S%'\")\n",
    "    rows = cur.fetchall()\n",
    "    con.close()\n",
    "    return rows\n"
   ]
  },
  {
   "cell_type": "code",
   "execution_count": 200,
   "id": "1b62c9f8",
   "metadata": {},
   "outputs": [
    {
     "data": {
      "text/plain": [
       "[(102, 'Sharkukh', 35000.0, 10), (104, 'Salman', 29000.0, 20)]"
      ]
     },
     "execution_count": 200,
     "metadata": {},
     "output_type": "execute_result"
    }
   ],
   "source": [
    "display4()"
   ]
  },
  {
   "cell_type": "code",
   "execution_count": 201,
   "id": "6d26ecc0",
   "metadata": {},
   "outputs": [],
   "source": [
    "# Q-8. In the emp table, delete the records of those employees who belong to deptno 30\n",
    "\n",
    "def delete1(dno):\n",
    "    con = sqlite3.connect('temp_db.db')\n",
    "    cur = con.cursor()\n",
    "    cur.execute('DELETE FROM employ where dno = ?',(dno,))\n",
    "    con.commit()\n",
    "    con.close()\n",
    "    "
   ]
  },
  {
   "cell_type": "code",
   "execution_count": 202,
   "id": "f5fa1059",
   "metadata": {},
   "outputs": [],
   "source": [
    "delete1(30)"
   ]
  },
  {
   "cell_type": "code",
   "execution_count": 203,
   "id": "73a8f059",
   "metadata": {},
   "outputs": [
    {
     "data": {
      "text/plain": [
       "[(101, 'Akshay', 31000.0, 10),\n",
       " (102, 'Sharkukh', 35000.0, 10),\n",
       " (104, 'Salman', 29000.0, 20),\n",
       " (105, 'Hritik', 37000.0, 40)]"
      ]
     },
     "execution_count": 203,
     "metadata": {},
     "output_type": "execute_result"
    }
   ],
   "source": [
    "display()"
   ]
  },
  {
   "cell_type": "code",
   "execution_count": 207,
   "id": "e928555b",
   "metadata": {},
   "outputs": [],
   "source": [
    "# Q-9. In the emp table, update the salary of an employee by 10 % by accepting the empno from the user.\n",
    "\n",
    "def update1():\n",
    "    con = sqlite3.connect('temp_db.db')\n",
    "    cur = con.cursor()\n",
    "    cur.execute('UPDATE employ SET sal = ((sal*10)/100) + sal')\n",
    "    con.commit()\n",
    "    con.close()"
   ]
  },
  {
   "cell_type": "code",
   "execution_count": 208,
   "id": "b9685811",
   "metadata": {},
   "outputs": [],
   "source": [
    "update1()"
   ]
  },
  {
   "cell_type": "code",
   "execution_count": 209,
   "id": "d56e6e9f",
   "metadata": {},
   "outputs": [
    {
     "data": {
      "text/plain": [
       "[(101, 'Akshay', 34100.0, 10),\n",
       " (102, 'Sharkukh', 38500.0, 10),\n",
       " (104, 'Salman', 31900.0, 20),\n",
       " (105, 'Hritik', 40700.0, 40)]"
      ]
     },
     "execution_count": 209,
     "metadata": {},
     "output_type": "execute_result"
    }
   ],
   "source": [
    "display()"
   ]
  },
  {
   "cell_type": "code",
   "execution_count": 210,
   "id": "c82afd9f",
   "metadata": {},
   "outputs": [],
   "source": [
    "# Q-10. Delete the emp table.\n",
    "\n",
    "def delete():\n",
    "    con = sqlite3.connect('temp_db.db')\n",
    "    cur = con.cursor()\n",
    "    cur.execute('DELETE FROM employ')\n",
    "    con.commit()\n",
    "    con.close()"
   ]
  },
  {
   "cell_type": "code",
   "execution_count": 212,
   "id": "ca3285d4",
   "metadata": {},
   "outputs": [],
   "source": [
    "delete()"
   ]
  },
  {
   "cell_type": "code",
   "execution_count": 213,
   "id": "475233de",
   "metadata": {},
   "outputs": [
    {
     "ename": "NameError",
     "evalue": "name 'dispaly' is not defined",
     "output_type": "error",
     "traceback": [
      "\u001b[1;31m---------------------------------------------------------------------------\u001b[0m",
      "\u001b[1;31mNameError\u001b[0m                                 Traceback (most recent call last)",
      "\u001b[1;32m<ipython-input-213-95ea6abc23e3>\u001b[0m in \u001b[0;36m<module>\u001b[1;34m\u001b[0m\n\u001b[1;32m----> 1\u001b[1;33m \u001b[0mdispaly\u001b[0m\u001b[1;33m(\u001b[0m\u001b[1;33m)\u001b[0m\u001b[1;33m\u001b[0m\u001b[1;33m\u001b[0m\u001b[0m\n\u001b[0m",
      "\u001b[1;31mNameError\u001b[0m: name 'dispaly' is not defined"
     ]
    }
   ],
   "source": [
    "dispaly()"
   ]
  },
  {
   "cell_type": "code",
   "execution_count": null,
   "id": "805ceb3d",
   "metadata": {},
   "outputs": [],
   "source": []
  }
 ],
 "metadata": {
  "kernelspec": {
   "display_name": "Python 3",
   "language": "python",
   "name": "python3"
  },
  "language_info": {
   "codemirror_mode": {
    "name": "ipython",
    "version": 3
   },
   "file_extension": ".py",
   "mimetype": "text/x-python",
   "name": "python",
   "nbconvert_exporter": "python",
   "pygments_lexer": "ipython3",
   "version": "3.8.8"
  }
 },
 "nbformat": 4,
 "nbformat_minor": 5
}
