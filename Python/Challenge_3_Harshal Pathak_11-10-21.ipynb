{
 "cells": [
  {
   "cell_type": "markdown",
   "id": "39e5960e",
   "metadata": {},
   "source": [
    "# CHALLENGE 3"
   ]
  },
  {
   "cell_type": "markdown",
   "id": "d7181cad",
   "metadata": {},
   "source": [
    "## 1. Write a program to accept an integer n greater than 10. Then print all the odd numbers from 1 to n."
   ]
  },
  {
   "cell_type": "code",
   "execution_count": 2,
   "id": "7c19bfaa",
   "metadata": {},
   "outputs": [
    {
     "name": "stdout",
     "output_type": "stream",
     "text": [
      "Enter a number 15\n",
      "1\n",
      "3\n",
      "5\n",
      "7\n",
      "9\n",
      "11\n",
      "13\n",
      "15\n"
     ]
    }
   ],
   "source": [
    "n = int(input('Enter a number '))\n",
    "\n",
    "if n > 10:\n",
    "    for i in range(1,n+1):\n",
    "        if i % 2 != 0 :\n",
    "            print(i)\n",
    "            \n",
    "else:\n",
    "    print(' An invalid number ')"
   ]
  },
  {
   "cell_type": "markdown",
   "id": "8e4f6b9d",
   "metadata": {},
   "source": [
    "## 2. Write a program to accept an integer n greater than 10. Then print all the prime numbers from 1 to n."
   ]
  },
  {
   "cell_type": "code",
   "execution_count": null,
   "id": "06072919",
   "metadata": {},
   "outputs": [],
   "source": [
    "n=int(input('Enter the value n = '))\n",
    "if n > 10:\n",
    "    for i in range (1,n):\n",
    "        if (n % i) == 0:\n",
    "            break\n",
    "    else:\n",
    "        print(i)\n",
    "else:\n",
    "    print('An invalid number')"
   ]
  },
  {
   "cell_type": "markdown",
   "id": "4eb231bb",
   "metadata": {},
   "source": [
    "## 3. In this exercise you will create a program that computes the average of a collection of values entered by the user. The user will enter 0 as a sentinel value to indicate that no further values will be provided. Your program should display an appropriate error message if the first value entered by the user is 0."
   ]
  },
  {
   "cell_type": "code",
   "execution_count": 4,
   "id": "b5d67998",
   "metadata": {},
   "outputs": [
    {
     "name": "stdout",
     "output_type": "stream",
     "text": [
      "Enter the valu of no. of avg required  3\n",
      "Enter vale for the value = 5\n",
      "Enter vale for the value = 6\n",
      "Enter vale for the value = 4\n",
      " avg of given number =  5.0\n"
     ]
    }
   ],
   "source": [
    "n= int(input('Enter the valu of no. of avg required  '))\n",
    "if n>0:\n",
    "    sum=0\n",
    "    for i in range (1,n+1):\n",
    "        num=int(input('Enter vale for the value = '))\n",
    "        sum+=num\n",
    "        \n",
    "    avg=sum/n\n",
    "    print(' avg of given number = ',avg)\n",
    "else:\n",
    "    print('Can not calculate the average value as the provided 0 value')"
   ]
  },
  {
   "cell_type": "code",
   "execution_count": 5,
   "id": "52953c99",
   "metadata": {},
   "outputs": [
    {
     "name": "stdout",
     "output_type": "stream",
     "text": [
      "Enter the valu of no. of avg required  0\n",
      "Can not calculate the average value as the provided 0 value\n"
     ]
    }
   ],
   "source": [
    "n= int(input('Enter the valu of no. of avg required  '))\n",
    "if n>0:\n",
    "    sum=0\n",
    "    for i in range (1,n+1):\n",
    "        num=int(input('Enter vale for the value = '))\n",
    "        sum+=num\n",
    "        \n",
    "    avg=sum/n\n",
    "    print(' avg of given number = ',avg)\n",
    "else:\n",
    "    print('Can not calculate the average value as the provided 0 value')"
   ]
  },
  {
   "cell_type": "markdown",
   "id": "8b9a3e28",
   "metadata": {},
   "source": [
    "## 4. Write a program that takes a number as input and prints its multiplication table."
   ]
  },
  {
   "cell_type": "code",
   "execution_count": 6,
   "id": "658459cf",
   "metadata": {},
   "outputs": [
    {
     "name": "stdout",
     "output_type": "stream",
     "text": [
      "Enter the table value = 17\n",
      "17 x 1 = 17\n",
      "17 x 2 = 34\n",
      "17 x 3 = 51\n",
      "17 x 4 = 68\n",
      "17 x 5 = 85\n",
      "17 x 6 = 102\n",
      "17 x 7 = 119\n",
      "17 x 8 = 136\n",
      "17 x 9 = 153\n",
      "17 x 10 = 170\n"
     ]
    }
   ],
   "source": [
    "n= int(input('Enter the table value = '))\n",
    "for i in range (1,11):\n",
    "    print(n,'x',i,'=',n*i)"
   ]
  },
  {
   "cell_type": "markdown",
   "id": "ab33c271",
   "metadata": {},
   "source": [
    "## 5. Write a program that displays a temperature conversion table for degrees Celsius and degrees Fahrenheit. The table should include rows for all temperatures between 0 and 100 degrees Celsius that are multiples of 10 degrees Celsius. Include appropriate headings on your columns."
   ]
  },
  {
   "cell_type": "code",
   "execution_count": 7,
   "id": "95994908",
   "metadata": {},
   "outputs": [
    {
     "name": "stdout",
     "output_type": "stream",
     "text": [
      "Degree    Farhanhite     Celcius\n",
      "10 Deg =   -14.0 F,         -12.22 c\n",
      "20 Deg =   4.0 F,         -6.67 c\n",
      "30 Deg =   22.0 F,         -1.11 c\n",
      "40 Deg =   40.0 F,         4.44 c\n",
      "50 Deg =   58.0 F,         10.0 c\n",
      "60 Deg =   76.0 F,         15.56 c\n",
      "70 Deg =   94.0 F,         21.11 c\n",
      "80 Deg =   112.0 F,         26.67 c\n",
      "90 Deg =   130.0 F,         32.22 c\n",
      "100 Deg =   148.0 F,         37.78 c\n"
     ]
    }
   ],
   "source": [
    "print('Degree    Farhanhite     Celcius')\n",
    "for i in range(10,110,10):    \n",
    "    f=((i*1.8)-32)\n",
    "    c=((i-32)/1.8)\n",
    "    c=round(c,2)\n",
    "    print(i,'Deg =  ', f,'F,        ', c,'c')"
   ]
  },
  {
   "cell_type": "markdown",
   "id": "abcbf0f3",
   "metadata": {},
   "source": [
    "## 6. A string is a palindrome if it is identical forward and backward. For example “anna”, “civic”, “level” and “madam” are all examples of palindrome words. Write a program that reads a string from the user and uses a loop to determine whether or not it is a palindrome. Display the result, including a meaningful output message."
   ]
  },
  {
   "cell_type": "code",
   "execution_count": 8,
   "id": "304080dc",
   "metadata": {},
   "outputs": [
    {
     "name": "stdout",
     "output_type": "stream",
     "text": [
      "Enter the string - madam\n",
      "madam  is the palindrome string\n"
     ]
    }
   ],
   "source": [
    "str1=input('Enter the string - ')\n",
    "rev=str1[::-1]\n",
    "for i in range (len(str1)):\n",
    "    if str1==rev:\n",
    "        print(str1,' is the palindrome string')\n",
    "        break\n",
    "else:\n",
    "    print(str1,' is not Palindrome string')"
   ]
  },
  {
   "cell_type": "code",
   "execution_count": 9,
   "id": "bd53a9bd",
   "metadata": {},
   "outputs": [
    {
     "name": "stdout",
     "output_type": "stream",
     "text": [
      "Enter the string - hello\n",
      "hello  is not Palindrome string\n"
     ]
    }
   ],
   "source": [
    "str1=input('Enter the string - ')\n",
    "rev=str1[::-1]\n",
    "for i in range (len(str1)):\n",
    "    if str1==rev:\n",
    "        print(str1,' is the palindrome string')\n",
    "        break\n",
    "else:\n",
    "    print(str1,' is not Palindrome string')"
   ]
  },
  {
   "cell_type": "markdown",
   "id": "dfc9d7a8",
   "metadata": {},
   "source": [
    "## 7. The greatest common divisor (GCD) of two positive integers, n and m, is the largest number, d, which divides evenly into both n and m. The following algorithm is used to find GCD of n and m :\n",
    "\n",
    "Initialize d to the smaller of m and n.\n",
    "While d does not evenly divide m or d does not evenly divide n do\n",
    "Decrease the value of d by 1\n",
    "Report d as the greatest common divisor of n and m\n",
    "\n",
    "Write a program that reads two positive integers from the user and uses this algorithm to determine and report their greatest common divisor."
   ]
  },
  {
   "cell_type": "code",
   "execution_count": 10,
   "id": "9e99aa06",
   "metadata": {},
   "outputs": [
    {
     "name": "stdout",
     "output_type": "stream",
     "text": [
      "Enter the value of m = 2\n",
      "Enter the value of n = 4\n",
      "GCD is =  2\n"
     ]
    }
   ],
   "source": [
    "m=int(input('Enter the value of m = '))\n",
    "n=int(input('Enter the value of n = '))\n",
    "i=1\n",
    "while(i<=m and i<=n):\n",
    "    if(m%i ==0 and n%i ==0):\n",
    "        gcd=i\n",
    "    i+=1\n",
    "print('GCD is = ',gcd)"
   ]
  },
  {
   "cell_type": "markdown",
   "id": "28364f33",
   "metadata": {},
   "source": [
    "## 8. The prime factorization of an integer, n, can be determined using the following steps:"
   ]
  },
  {
   "cell_type": "code",
   "execution_count": 17,
   "id": "253f3bf4",
   "metadata": {},
   "outputs": [
    {
     "name": "stdout",
     "output_type": "stream",
     "text": [
      "Enter the value of n : 45\n",
      "Factors are: \n",
      "3\n",
      "5\n"
     ]
    }
   ],
   "source": [
    "n = int(input('Enter the value of n : '))\n",
    "print('Factors are: ')\n",
    "i=1\n",
    "while(i<=n):\n",
    "    k=0\n",
    "    if(n%i==0):\n",
    "        j=1\n",
    "        while(j<=i):\n",
    "            if(i%j==0):\n",
    "                k+=1\n",
    "            j+=1\n",
    "        if(k==2):\n",
    "            print(i)\n",
    "    i+=1"
   ]
  },
  {
   "cell_type": "markdown",
   "id": "e7ad7b34",
   "metadata": {},
   "source": [
    "## 9. Write a program that converts a binary (base 2) number to decimal (base 10). Your program should begin by reading the binary number from the user as a string. Then it should compute the equivalent decimal number by processing each digit in the binary number. Finally, your program should display the equivalent decimal number with an appropriate message."
   ]
  },
  {
   "cell_type": "code",
   "execution_count": 15,
   "id": "281aa393",
   "metadata": {},
   "outputs": [
    {
     "name": "stdout",
     "output_type": "stream",
     "text": [
      "Enter the binary number = 100\n",
      "4  is desimal number for  100  binary number\n"
     ]
    }
   ],
   "source": [
    "binary=input('Enter the binary number = ')\n",
    "desimal=0\n",
    "l= len(binary)\n",
    "for i in binary:\n",
    "    l=l-1\n",
    "    desimal += pow(2,l) * int(i)\n",
    "    print(desimal,' is desimal number for ',binary,' binary number')\n",
    "    break\n",
    "    "
   ]
  },
  {
   "cell_type": "markdown",
   "id": "1de54cce",
   "metadata": {},
   "source": [
    "## 10. Demonstrate the formatting capabilities of format function on integers, floats and strings."
   ]
  },
  {
   "cell_type": "code",
   "execution_count": 16,
   "id": "bae7b162",
   "metadata": {},
   "outputs": [
    {
     "name": "stdout",
     "output_type": "stream",
     "text": [
      "age=30 , sal=46600.78, name=Rakesh\n"
     ]
    }
   ],
   "source": [
    "age,sal,name = 30,46600.78,'Rakesh'\n",
    "print('age={0} , sal={1}, name={2}'.format(age,sal,name))"
   ]
  },
  {
   "cell_type": "code",
   "execution_count": null,
   "id": "909f3626",
   "metadata": {},
   "outputs": [],
   "source": []
  }
 ],
 "metadata": {
  "kernelspec": {
   "display_name": "Python 3",
   "language": "python",
   "name": "python3"
  },
  "language_info": {
   "codemirror_mode": {
    "name": "ipython",
    "version": 3
   },
   "file_extension": ".py",
   "mimetype": "text/x-python",
   "name": "python",
   "nbconvert_exporter": "python",
   "pygments_lexer": "ipython3",
   "version": "3.8.8"
  }
 },
 "nbformat": 4,
 "nbformat_minor": 5
}
