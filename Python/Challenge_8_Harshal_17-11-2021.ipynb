{
 "cells": [
  {
   "cell_type": "code",
   "execution_count": 1,
   "id": "5ff065ab",
   "metadata": {},
   "outputs": [],
   "source": [
    "# Q-1. Write a program that accepts two integers and displays the result of dividing the first number by the second number. It should raise ZeroDivisionError if the denominator is zero.\n",
    "\n",
    "def div(a,b):\n",
    "    result=a/b\n",
    "    return result"
   ]
  },
  {
   "cell_type": "code",
   "execution_count": 36,
   "id": "934ab502",
   "metadata": {},
   "outputs": [
    {
     "name": "stdout",
     "output_type": "stream",
     "text": [
      "Enter X:6\n",
      "Enter Y:2\n",
      "The Result is :  3.0\n"
     ]
    }
   ],
   "source": [
    "try:\n",
    "    x=int(input('Enter X:'))\n",
    "    y=int(input('Enter Y:'))\n",
    "    res=div(x,y)\n",
    "    print('The Result is : ',res)\n",
    "except ZeroDivisionError as exp:\n",
    "    print(exp,'DENOMINATOR SHOULD NOT BE ZERO ')"
   ]
  },
  {
   "cell_type": "code",
   "execution_count": 37,
   "id": "e0a49bff",
   "metadata": {},
   "outputs": [
    {
     "name": "stdout",
     "output_type": "stream",
     "text": [
      "Enter X:6\n",
      "Enter Y:0\n",
      "division by zero DENOMINATOR SHOULD NOT BE ZERO \n"
     ]
    }
   ],
   "source": [
    "try:\n",
    "    x=int(input('Enter X:'))\n",
    "    y=int(input('Enter Y:'))\n",
    "    res=div(x,y)\n",
    "    print('The Result is : ',res)\n",
    "except ZeroDivisionError as exp:\n",
    "    print(exp,'DENOMINATOR SHOULD NOT BE ZERO ')"
   ]
  },
  {
   "cell_type": "code",
   "execution_count": 11,
   "id": "a313050b",
   "metadata": {},
   "outputs": [],
   "source": [
    "# Q-2. Implement the above program with the help of Assertion\n",
    "\n",
    "\n",
    "def div(a,b):\n",
    "    result=a/b\n",
    "    return result\n"
   ]
  },
  {
   "cell_type": "code",
   "execution_count": 14,
   "id": "31988075",
   "metadata": {},
   "outputs": [
    {
     "name": "stdout",
     "output_type": "stream",
     "text": [
      "After assert function\n"
     ]
    },
    {
     "data": {
      "text/plain": [
       "2.0"
      ]
     },
     "execution_count": 14,
     "metadata": {},
     "output_type": "execute_result"
    }
   ],
   "source": [
    "a = 8\n",
    "b= 4\n",
    "\n",
    "assert b!= 0, 'Denominator should not equal to 0'\n",
    "print('After assert function')\n",
    "div(a,b)"
   ]
  },
  {
   "cell_type": "code",
   "execution_count": 15,
   "id": "e832c163",
   "metadata": {},
   "outputs": [
    {
     "ename": "AssertionError",
     "evalue": "Denominator should not equal to 0",
     "output_type": "error",
     "traceback": [
      "\u001b[1;31m---------------------------------------------------------------------------\u001b[0m",
      "\u001b[1;31mAssertionError\u001b[0m                            Traceback (most recent call last)",
      "\u001b[1;32m<ipython-input-15-bcf50c8f1d1e>\u001b[0m in \u001b[0;36m<module>\u001b[1;34m\u001b[0m\n\u001b[0;32m      2\u001b[0m \u001b[0mb\u001b[0m \u001b[1;33m=\u001b[0m \u001b[1;36m0\u001b[0m\u001b[1;33m\u001b[0m\u001b[1;33m\u001b[0m\u001b[0m\n\u001b[0;32m      3\u001b[0m \u001b[1;33m\u001b[0m\u001b[0m\n\u001b[1;32m----> 4\u001b[1;33m \u001b[1;32massert\u001b[0m \u001b[0mb\u001b[0m\u001b[1;33m!=\u001b[0m \u001b[1;36m0\u001b[0m\u001b[1;33m,\u001b[0m \u001b[1;34m'Denominator should not equal to 0'\u001b[0m\u001b[1;33m\u001b[0m\u001b[1;33m\u001b[0m\u001b[0m\n\u001b[0m\u001b[0;32m      5\u001b[0m \u001b[0mprint\u001b[0m\u001b[1;33m(\u001b[0m\u001b[1;34m'After assert function'\u001b[0m\u001b[1;33m)\u001b[0m\u001b[1;33m\u001b[0m\u001b[1;33m\u001b[0m\u001b[0m\n\u001b[0;32m      6\u001b[0m \u001b[0mdiv\u001b[0m\u001b[1;33m(\u001b[0m\u001b[0ma\u001b[0m\u001b[1;33m,\u001b[0m\u001b[0mb\u001b[0m\u001b[1;33m)\u001b[0m\u001b[1;33m\u001b[0m\u001b[1;33m\u001b[0m\u001b[0m\n",
      "\u001b[1;31mAssertionError\u001b[0m: Denominator should not equal to 0"
     ]
    }
   ],
   "source": [
    "a = 8\n",
    "b = 0\n",
    "\n",
    "assert b!= 0, 'Denominator should not equal to 0'\n",
    "print('After assert function')\n",
    "div(a,b)"
   ]
  },
  {
   "cell_type": "code",
   "execution_count": 16,
   "id": "37f26780",
   "metadata": {},
   "outputs": [],
   "source": [
    "# Q-3. Write a program that accepts n positive integers as input and prints their square. If a negative number is entered, then raise ValueError exception and display a relevant error message and make an exit.\n",
    "\n",
    "class Square:\n",
    "    def __init__(self,l):\n",
    "        self._limit = l\n",
    "        self._val = 1\n",
    "    def __iter__(self):\n",
    "        return self\n",
    "    def __next__(self):\n",
    "        if self._val > self._limit :\n",
    "            raise StopIteration\n",
    "        else:\n",
    "            return_val = self._val * self._val\n",
    "            self._val += 1\n",
    "        return return_val"
   ]
  },
  {
   "cell_type": "code",
   "execution_count": 17,
   "id": "c13d6071",
   "metadata": {},
   "outputs": [
    {
     "name": "stdout",
     "output_type": "stream",
     "text": [
      "Starting......\n",
      "Enter the value of the n: 7\n",
      "1\n",
      "4\n",
      "9\n",
      "16\n",
      "25\n",
      "36\n",
      "49\n",
      "End....\n"
     ]
    }
   ],
   "source": [
    "print('Starting......')\n",
    "n = int(input('Enter the value of the n: '))\n",
    "try:\n",
    "    if n < 0:\n",
    "        raise ValueError()\n",
    "except ValueError:\n",
    "    print('Please enter the positive value of n')\n",
    "for i in Square(n):\n",
    "    print(i,end='\\n')\n",
    "    \n",
    "print('End....')"
   ]
  },
  {
   "cell_type": "code",
   "execution_count": 20,
   "id": "98b35119",
   "metadata": {},
   "outputs": [
    {
     "name": "stdout",
     "output_type": "stream",
     "text": [
      "Starting......\n",
      "Enter the value of the n: -8\n",
      "Please enter the positive value of n\n",
      "End....\n"
     ]
    }
   ],
   "source": [
    "print('Starting......')\n",
    "n = int(input('Enter the value of the n: '))\n",
    "try:\n",
    "    if n < 0:\n",
    "        raise ValueError()\n",
    "except ValueError:\n",
    "    print('Please enter the positive value of n')\n",
    "for i in Square(n):\n",
    "    print(i,end='\\n')\n",
    "    \n",
    "print('End....')"
   ]
  },
  {
   "cell_type": "code",
   "execution_count": 21,
   "id": "9c1d4e70",
   "metadata": {},
   "outputs": [],
   "source": [
    "# Q-4. Write a program that receives an integer as input and finds its factorial. If a non-integer input is entered, then report an error and accept the input again. Continue this process until correct input is entered.\n",
    "\n",
    "def factorial(n):\n",
    "    fact = 1\n",
    "    for i in range(n):\n",
    "        fact = fact * (i+1)\n",
    "    return fact\n"
   ]
  },
  {
   "cell_type": "code",
   "execution_count": 35,
   "id": "0410da10",
   "metadata": {},
   "outputs": [
    {
     "name": "stdout",
     "output_type": "stream",
     "text": [
      "Please enter an integer: 1.3\n",
      "No valid integer! Please try again ...\n",
      "Please enter an integer: 2.2\n",
      "No valid integer! Please try again ...\n",
      "Please enter an integer: 6.6\n",
      "No valid integer! Please try again ...\n",
      "Please enter an integer: 5\n",
      "Factorial of the  5  :  120\n"
     ]
    }
   ],
   "source": [
    "while True:\n",
    "    try:\n",
    "        n = input(\"Please enter an integer: \")\n",
    "        n = int(n)\n",
    "        break\n",
    "    except ValueError:\n",
    "        print(\"No valid integer! Please try again ...\")\n",
    "    \n",
    "\n",
    "print('Factorial of the ', n,' : ',factorial(n))"
   ]
  },
  {
   "cell_type": "code",
   "execution_count": 42,
   "id": "a80948b8",
   "metadata": {},
   "outputs": [],
   "source": [
    "# Q-5. Create an iterator that returns numbers, starting with 1, and each sequence will increase by one (returning 1,2,3,4,5 etc.):\n",
    "\n",
    "class Sequence:\n",
    "    \n",
    "    def __init__(self,l):\n",
    "        self._limit = l\n",
    "        self._val =1\n",
    "        \n",
    "    def __iter__(self):\n",
    "        return self\n",
    "    \n",
    "    def __next__(self):\n",
    "        if self._val > self._limit:\n",
    "            raise StopIteration\n",
    "        else:\n",
    "            return_val = self._val\n",
    "            self._val += 1\n",
    "            \n",
    "        return return_val"
   ]
  },
  {
   "cell_type": "code",
   "execution_count": 47,
   "id": "9516695a",
   "metadata": {},
   "outputs": [
    {
     "name": "stdout",
     "output_type": "stream",
     "text": [
      "Enter the value of the n for sequence : 7\n",
      "1\t2\t3\t4\t5\t6\t7\t\n",
      "End of the iteration\n"
     ]
    }
   ],
   "source": [
    "n = int(input('Enter the value of the n for sequence : '))\n",
    "for i in Sequence(n):\n",
    "    print(i,end='\\t')\n",
    "print('\\nEnd of the iteration')"
   ]
  },
  {
   "cell_type": "code",
   "execution_count": 48,
   "id": "d9134f53",
   "metadata": {},
   "outputs": [],
   "source": [
    "# Q-6. Write a program that implements iterator class called Prime and which prints prime numbers up to n.\n",
    "\n",
    "class Primeno:\n",
    "    \n",
    "    def __init__(self,l):\n",
    "        self._limit = l\n",
    "        self._val = 1\n",
    "        \n",
    "    def __iter__(self):\n",
    "        return self\n",
    "    \n",
    "    def prime(self, num):\n",
    "        for i in range(1,n+1):\n",
    "            for j in range(2,i):\n",
    "                if(i%j == 0):\n",
    "                    break\n",
    "            else:\n",
    "                print(i)\n",
    "                    \n",
    "       \n",
    "    def __next__(self):\n",
    "        if self._val > self._limit:\n",
    "            raise StopIteration\n",
    "        else:\n",
    "            return_val = self.prime(self._val)\n",
    "            self._val += 1\n",
    "            return return_val\n",
    "                    \n",
    "        \n",
    "            "
   ]
  },
  {
   "cell_type": "code",
   "execution_count": 52,
   "id": "e1f76ecb",
   "metadata": {},
   "outputs": [
    {
     "name": "stdout",
     "output_type": "stream",
     "text": [
      "This is Iteration Method\n",
      "Enter the value of n to print prime number : 51\n",
      "Iteration of Prime number upto  51  -\n",
      "1\n",
      "2\n",
      "3\n",
      "5\n",
      "7\n",
      "11\n",
      "13\n",
      "17\n",
      "19\n",
      "23\n",
      "29\n",
      "31\n",
      "37\n",
      "41\n",
      "43\n",
      "47\n",
      "End of Iteration\n"
     ]
    }
   ],
   "source": [
    "print('This is Iteration Method')\n",
    "\n",
    "n = int(input('Enter the value of n to print prime number : '))\n",
    "\n",
    "print('Iteration of Prime number upto ',n,' -')\n",
    "\n",
    "for i in Primeno(1):\n",
    "    \n",
    "    print('End of Iteration')\n",
    "    \n",
    "    "
   ]
  },
  {
   "cell_type": "code",
   "execution_count": 53,
   "id": "65c0db7e",
   "metadata": {},
   "outputs": [],
   "source": [
    "# Q-7. Define a class, Circle, which takes two arguments when defined — a sequence and a number. The idea is that the object will then return elements the defined number of times. If the number is greater than the number of elements, then the sequence repeats as necessary.\n",
    "\n",
    "class CircleIterator():\n",
    "    def __init__(self, data, max_times):\n",
    "        self.data = data\n",
    "        self.max_times = max_times\n",
    "        self.index = 0\n",
    "\n",
    "    def __next__(self):\n",
    "        if self.index >= self.max_times:\n",
    "            raise StopIteration\n",
    "        value = self.data[self.index % len(self.data)]\n",
    "        self.index += 1\n",
    "        return value\n",
    "\n",
    "class Circle():\n",
    "    def __init__(self, data, max_times):\n",
    "        self.data = data\n",
    "        self.max_times = max_times\n",
    "\n",
    "    def __iter__(self):\n",
    "        return CircleIterator(self.data, self.max_times)\n"
   ]
  },
  {
   "cell_type": "code",
   "execution_count": 54,
   "id": "0dcfe597",
   "metadata": {},
   "outputs": [
    {
     "name": "stdout",
     "output_type": "stream",
     "text": [
      "['a', 'b', 'c', 'a', 'b', 'c', 'a']\n"
     ]
    }
   ],
   "source": [
    "c = Circle('abc', 7)\n",
    "print(list(c))    "
   ]
  },
  {
   "cell_type": "code",
   "execution_count": 56,
   "id": "989f6e8a",
   "metadata": {},
   "outputs": [],
   "source": [
    "# Q-8. Write a Python program to demonstrate working of iterators using an example type that iterates from 10 to given value\n",
    "\n",
    "class Test:\n",
    "\n",
    "    def __init__(self, limit):\n",
    "        self.limit = limit\n",
    "\n",
    "    def __iter__(self):\n",
    "        self.x = 10\n",
    "        return self\n",
    "\n",
    "    def __next__(self):\n",
    "        x = self.x\n",
    "        if x > self.limit:\n",
    "            raise StopIteration\n",
    "        self.x = x + 1;\n",
    "        return x\n"
   ]
  },
  {
   "cell_type": "code",
   "execution_count": 57,
   "id": "b501d8f4",
   "metadata": {},
   "outputs": [
    {
     "name": "stdout",
     "output_type": "stream",
     "text": [
      "Enter the value of n: 25\n",
      "10\n",
      "11\n",
      "12\n",
      "13\n",
      "14\n",
      "15\n",
      "16\n",
      "17\n",
      "18\n",
      "19\n",
      "20\n",
      "21\n",
      "22\n",
      "23\n",
      "24\n",
      "25\n"
     ]
    }
   ],
   "source": [
    "n= int(input('Enter the value of n: '))\n",
    "for i in Test(n):\n",
    "\n",
    "    print(i)"
   ]
  },
  {
   "cell_type": "code",
   "execution_count": 58,
   "id": "31b5acf4",
   "metadata": {},
   "outputs": [],
   "source": [
    "# Q-9. Write a program to illustrate the concept of multiple decorators\n",
    "\n",
    "def star(fun):\n",
    "    def internal(*arg,**kwarg):\n",
    "        print('*'*55)\n",
    "        fun(*arg,**kwarg)\n",
    "        print('*'*55)\n",
    "    return internal\n",
    "\n",
    "def has(fun):\n",
    "    def internal(*arg,**kwarg):\n",
    "        print('#'*55)\n",
    "        fun(*arg,**kwarg)\n",
    "        print('#'*55)\n",
    "    return internal"
   ]
  },
  {
   "cell_type": "code",
   "execution_count": 59,
   "id": "8b5f8fc0",
   "metadata": {},
   "outputs": [],
   "source": [
    "@star\n",
    "@has\n",
    "def printer(msg):\n",
    "    print(msg)"
   ]
  },
  {
   "cell_type": "code",
   "execution_count": 60,
   "id": "e21ae949",
   "metadata": {},
   "outputs": [
    {
     "name": "stdout",
     "output_type": "stream",
     "text": [
      "*******************************************************\n",
      "#######################################################\n",
      "Welcome to the world of Python\n",
      "#######################################################\n",
      "*******************************************************\n"
     ]
    }
   ],
   "source": [
    "printer('Welcome to the world of Python')"
   ]
  },
  {
   "cell_type": "code",
   "execution_count": 61,
   "id": "bb3bee8b",
   "metadata": {},
   "outputs": [],
   "source": [
    "# Q-10.  Write a decorator called timer that calculates the time required to execute a function. Its wrapper function called calculates should take all the parameters that are passed to the decorated function.\n",
    "\n",
    "import time\n",
    "def timer(function):\n",
    "    def calculator(*arg,**kwargs):\n",
    "        start_time = time.perf_counter()\n",
    "        val = function(*arg,**kwargs)\n",
    "        end_time = time.perf_counter()\n",
    "        run_time = end_time - start_time\n",
    "        print('Time perform for the activity is :::{0:0.20f}'.format(run_time))\n",
    "        return val\n",
    "    return calculator"
   ]
  },
  {
   "cell_type": "code",
   "execution_count": 62,
   "id": "6db2b45d",
   "metadata": {},
   "outputs": [],
   "source": [
    "@timer\n",
    "def printer(msg):\n",
    "    print(msg)"
   ]
  },
  {
   "cell_type": "code",
   "execution_count": 63,
   "id": "7f2a36e1",
   "metadata": {},
   "outputs": [
    {
     "name": "stdout",
     "output_type": "stream",
     "text": [
      "Welcome to the world of the Python\n",
      "Time perform for the activity is :::0.00022380000154953450\n"
     ]
    }
   ],
   "source": [
    "printer('Welcome to the world of the Python')"
   ]
  },
  {
   "cell_type": "code",
   "execution_count": null,
   "id": "87dd2b98",
   "metadata": {},
   "outputs": [],
   "source": []
  }
 ],
 "metadata": {
  "kernelspec": {
   "display_name": "Python 3",
   "language": "python",
   "name": "python3"
  },
  "language_info": {
   "codemirror_mode": {
    "name": "ipython",
    "version": 3
   },
   "file_extension": ".py",
   "mimetype": "text/x-python",
   "name": "python",
   "nbconvert_exporter": "python",
   "pygments_lexer": "ipython3",
   "version": "3.8.8"
  }
 },
 "nbformat": 4,
 "nbformat_minor": 5
}
