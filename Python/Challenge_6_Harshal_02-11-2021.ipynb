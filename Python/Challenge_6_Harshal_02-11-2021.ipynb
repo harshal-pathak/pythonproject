{
 "cells": [
  {
   "cell_type": "markdown",
   "id": "6beceb90",
   "metadata": {},
   "source": [
    "# Challenge 6"
   ]
  },
  {
   "cell_type": "code",
   "execution_count": 34,
   "id": "53196ec4",
   "metadata": {},
   "outputs": [
    {
     "name": "stdout",
     "output_type": "stream",
     "text": [
      "T\n",
      "h\n",
      "i\n",
      "s\n",
      " \n",
      "i\n",
      "s\n",
      " \n",
      "n\n",
      "e\n",
      "w\n",
      " \n",
      "t\n",
      "e\n",
      "x\n",
      "t\n",
      " \n",
      "f\n",
      "i\n",
      "l\n",
      "e\n",
      " \n",
      "m\n",
      "e\n",
      "s\n",
      "s\n",
      "a\n",
      "g\n",
      "e\n",
      "\n",
      "\n",
      "w\n",
      "e\n",
      "l\n",
      "c\n",
      "o\n",
      "m\n",
      "e\n",
      " \n",
      "t\n",
      "o\n",
      " \n",
      "p\n",
      "y\n",
      "t\n",
      "h\n",
      "o\n",
      "n\n",
      "\n",
      "\n"
     ]
    }
   ],
   "source": [
    "# Q-1. Write a program that read contents of the file ‘messages’ one character at a time and prints each character that is read.\n",
    "\n",
    "f = open('message.txt','r')\n",
    "\n",
    "while True:\n",
    "        char=f.read(1)\n",
    "        if not char:\n",
    "            break\n",
    "        print(char)\n",
    "        \n",
    "f.close()\n",
    "    \n",
    "        "
   ]
  },
  {
   "cell_type": "code",
   "execution_count": 4,
   "id": "30caa91f",
   "metadata": {},
   "outputs": [
    {
     "name": "stdout",
     "output_type": "stream",
     "text": [
      "Enter the file name to find the size of file: mymath.py\n",
      "The size of file is:  (252, 'byte')\n"
     ]
    }
   ],
   "source": [
    "# Q-2. Write a Python program that searches for a file, obtains its size and reports the size in bytes/ KB/ MB as appropriate\n",
    "\n",
    "import myfolder.folder_size_application as fsz\n",
    "\n",
    "file_name = input('Enter the file name to find the size of file: ')\n",
    "print('The size of file is: ',fsz.file_size(file_name))\n"
   ]
  },
  {
   "cell_type": "code",
   "execution_count": 35,
   "id": "8afda495",
   "metadata": {},
   "outputs": [
    {
     "name": "stdout",
     "output_type": "stream",
     "text": [
      "Enter the name of the source file : message1\n"
     ]
    }
   ],
   "source": [
    "# Q-3. Write a program to accept a filename from the user, create a file with that name(if it does not exist) and write some content into the file\n",
    "\n",
    "source_file = input ('Enter the name of the source file : ')\n",
    "\n",
    "f1 = open(source_file,'w')\n",
    "f1.write('\\nAdding something')\n",
    "f1.write('\\nThis is third line')\n",
    "\n",
    "\n",
    "f1.close()"
   ]
  },
  {
   "cell_type": "code",
   "execution_count": 43,
   "id": "339238ba",
   "metadata": {},
   "outputs": [
    {
     "name": "stdout",
     "output_type": "stream",
     "text": [
      "\n",
      "Adding something\n",
      "This is third line"
     ]
    }
   ],
   "source": [
    "f3 = open('message1','r')\n",
    "lines=f3.readlines()\n",
    "for i in lines:\n",
    "    print(i,end='')\n",
    "f3.close()"
   ]
  },
  {
   "cell_type": "code",
   "execution_count": 45,
   "id": "520b3137",
   "metadata": {},
   "outputs": [
    {
     "name": "stdout",
     "output_type": "stream",
     "text": [
      "1 \n",
      "2 Adding something\n",
      "3 This is third line"
     ]
    }
   ],
   "source": [
    "# Q-4. Write a program to read a file and display its contents along with line numbers before each line\n",
    "\n",
    "f3 = open('message1','r')\n",
    "lines=f3.readlines()\n",
    "c=1\n",
    "for i in lines:\n",
    "    print(c,i,end='')\n",
    "    c+=1\n",
    "f3.close()\n",
    "\n"
   ]
  },
  {
   "cell_type": "code",
   "execution_count": 48,
   "id": "2eb804d3",
   "metadata": {},
   "outputs": [
    {
     "name": "stdout",
     "output_type": "stream",
     "text": [
      "Enter the source file name: my-new-file.txt\n",
      "Enter the destination file name(To be copy here): my-new-file1.txt\n"
     ]
    }
   ],
   "source": [
    "# Q-5. Write a program to copy the contents of one file into another\n",
    "\n",
    "source_file = input('Enter the source file name: ')\n",
    "\n",
    "destination_file = input('Enter the destination file name(To be copy here): ')\n",
    "\n",
    "fi1 = open (source_file,'r')\n",
    "\n",
    "fi2 = open (destination_file,'w')\n",
    "\n",
    "while True:\n",
    "    data = fi1.read(1)\n",
    "    if data == '':\n",
    "        break\n",
    "    fi2.write(data)\n",
    "    \n",
    "fi1.close()\n",
    "fi2.close()\n",
    "\n"
   ]
  },
  {
   "cell_type": "code",
   "execution_count": 50,
   "id": "bf240220",
   "metadata": {},
   "outputs": [
    {
     "name": "stdout",
     "output_type": "stream",
     "text": [
      "Enter the source file name: my-new-file.txt\n",
      "Enter the destination file name(to be copied here): my-new-file1.txt\n"
     ]
    }
   ],
   "source": [
    "# Q-6. Write a program to append the contents of one file into another\n",
    "\n",
    "source_file = input('Enter the source file name: ')\n",
    "\n",
    "destination_file = input ('Enter the destination file name(to be copied here): ')\n",
    "\n",
    "p1 = open (source_file,'r')\n",
    "\n",
    "p2 = open (destination_file,'a')\n",
    "\n",
    "while True:\n",
    "    data = p1.read(1)\n",
    "    if data == '':\n",
    "        break\n",
    "    p2.write(data)\n",
    "p1.close()\n",
    "p2.close()"
   ]
  },
  {
   "cell_type": "code",
   "execution_count": 55,
   "id": "7ee1a3a0",
   "metadata": {},
   "outputs": [],
   "source": [
    "# Q-7. Suppose a file contains student records, with each record containing name and age of student. Write a program to read these records and display them in sorted order by name\n",
    "\n",
    "import json\n",
    "f=open('student_data','w')\n",
    "student = [('Suresh',25),('Bhavesh',30),('Rakesh',34),('Aasif',35)]\n",
    "json.dump(student,f)\n",
    "f.close()"
   ]
  },
  {
   "cell_type": "code",
   "execution_count": 56,
   "id": "69e5bad9",
   "metadata": {},
   "outputs": [
    {
     "name": "stdout",
     "output_type": "stream",
     "text": [
      "The student data : [('Aasif', 35), ('Bhavesh', 30), ('Rakesh', 34), ('Suresh', 25)]\n"
     ]
    }
   ],
   "source": [
    "import json\n",
    "\n",
    "f=open('student_data','r')\n",
    "json.load(f)\n",
    "print('The student data :',sorted(student))"
   ]
  },
  {
   "cell_type": "code",
   "execution_count": 1,
   "id": "19934f1a",
   "metadata": {},
   "outputs": [
    {
     "name": "stdout",
     "output_type": "stream",
     "text": [
      "Enter the first int: 9\n",
      "Enter the second int: 5\n",
      "Addition of the 9 and 5 are:  14\n",
      "Subtarction of the 9 and 5 are:  4\n",
      "Subtarction of the 9 and 5 are:  45\n",
      "Subtarction of the 9 and 5 are:  1.8\n",
      "Subtarction of the 9 and 5 are:  4\n",
      "Enter the string : malayalam\n",
      "The length of string is:  9\n",
      "The reverse of the string is :  malayalam\n"
     ]
    }
   ],
   "source": [
    "# Q-8. Suppose there are three modules m1.py, m2.py and m3.py containing functions f1(), f2() and f3() respectively. Write a program to use these functions\n",
    "\n",
    "import myfolder.m1 as mo\n",
    "import myfolder.m2 as mt\n",
    "import myfolder.m3 as mth\n",
    "\n",
    "a= int (input('Enter the first int: ') )\n",
    "\n",
    "b= int (input('Enter the second int: ') )\n",
    "\n",
    "print('Addition of the',a,'and',b,'are: ',mo.add(a,b))\n",
    "print('Subtarction of the',a,'and',b,'are: ',mo.sub(a,b))\n",
    "print('Subtarction of the',a,'and',b,'are: ',mt.mult(a,b))\n",
    "print('Subtarction of the',a,'and',b,'are: ',mt.div(a,b))\n",
    "print('Subtarction of the',a,'and',b,'are: ',mt.mod(a,b))\n",
    "\n",
    "str1= input('Enter the string : ')\n",
    "\n",
    "print('The length of string is: ',mth.ln(str1))\n",
    "print('The reverse of the string is : ',mth.rev(str1))\n",
    "\n"
   ]
  },
  {
   "cell_type": "code",
   "execution_count": 9,
   "id": "658036f1",
   "metadata": {},
   "outputs": [
    {
     "name": "stdout",
     "output_type": "stream",
     "text": [
      "Enter a string : Hello\n",
      "Enter another string : World\n",
      "The length of the  Hello  is:  5\n",
      "The length of the   World  is:  5\n",
      "The result of comparision is:  False\n",
      "The result of concatinantion is:  HelloWorld\n"
     ]
    }
   ],
   "source": [
    "# Q-9. Write a program containing functions fun1(), fun2() and fun3() and some statements. Add suitable code to the program such that you can use it as a module or a normal program\n",
    "\n",
    "import myfolder.mystr as mst\n",
    "\n",
    "str1 = input ('Enter a string : ')\n",
    "\n",
    "str2 = input ('Enter another string : ')\n",
    "\n",
    "print('The length of the ',str1,' is: ',mst.str_len(str1))\n",
    "\n",
    "print('The length of the  ',str2,' is: ',mst.str_len(str2))\n",
    "\n",
    "print('The result of comparision is: ',mst.str_cmp(str1,str2))\n",
    "\n",
    "print('The result of concatinantion is: ',mst.str_cat(str1,str2))\n",
    "\n",
    "\n"
   ]
  },
  {
   "cell_type": "code",
   "execution_count": 6,
   "id": "ef11c8e3",
   "metadata": {},
   "outputs": [
    {
     "name": "stdout",
     "output_type": "stream",
     "text": [
      "Enter the value of x: 5\n",
      "enter the value of y: 8\n",
      "The Addition of 5 and 8 is :  13\n",
      "The Subtraction of 5 and 8 is :  -3\n",
      "The Multiplication of 5 and 8 is :  40\n",
      "The Division of 5 and 8 is :  0.625\n",
      "Mod of 5 and 8 is :  5\n"
     ]
    }
   ],
   "source": [
    "# Q-10. Suppose a module called mod.py contains functions f1(), f2() and f3(). Write three forms of import statements to use these functions in your program\n",
    "\n",
    "import myfolder.mod as m\n",
    "\n",
    "x = int(input('Enter the value of x: '))\n",
    "\n",
    "y = int(input ('enter the value of y: '))\n",
    "\n",
    "print('The Addition of',x,'and',y,'is : ',m.add(x,y))\n",
    "\n",
    "print('The Subtraction of',x,'and',y,'is : ',m.sub(x,y))\n",
    "\n",
    "print('The Multiplication of', x,'and',y,'is : ',m.mul(x,y))\n",
    "\n",
    "print('The Division of',x,'and',y,'is : ',m.div(x,y))\n",
    "\n",
    "print('Mod of',x,'and',y,'is : ',m.mod(x,y))"
   ]
  },
  {
   "cell_type": "code",
   "execution_count": null,
   "id": "64ab3a73",
   "metadata": {},
   "outputs": [],
   "source": []
  }
 ],
 "metadata": {
  "kernelspec": {
   "display_name": "Python 3",
   "language": "python",
   "name": "python3"
  },
  "language_info": {
   "codemirror_mode": {
    "name": "ipython",
    "version": 3
   },
   "file_extension": ".py",
   "mimetype": "text/x-python",
   "name": "python",
   "nbconvert_exporter": "python",
   "pygments_lexer": "ipython3",
   "version": "3.8.8"
  }
 },
 "nbformat": 4,
 "nbformat_minor": 5
}
