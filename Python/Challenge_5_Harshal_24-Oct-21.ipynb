{
 "cells": [
  {
   "cell_type": "markdown",
   "id": "e9482545",
   "metadata": {},
   "source": [
    "# Challenge_5"
   ]
  },
  {
   "cell_type": "code",
   "execution_count": 8,
   "id": "7e008059",
   "metadata": {},
   "outputs": [
    {
     "name": "stdout",
     "output_type": "stream",
     "text": [
      "Enter the Length of side AB: 15\n",
      "Enter the Length of side  BC: 20\n",
      "The Length of side AC(hypotenus) is:  25.0\n"
     ]
    }
   ],
   "source": [
    "# 1. Write a function that takes the lengths of the two shorter sides of a right triangle as its parameters. Return the hypotenuse of the triangle, computed using Pythagorean theorem, as the function’s result.\n",
    "\n",
    "AB = int(input('Enter the Length of side AB: '))\n",
    "BC =int(input('Enter the Length of side  BC: '))\n",
    "import math\n",
    "AC=math.sqrt((AB** 2)+(BC** 2))\n",
    "print('The Length of side AC(hypotenus) is: ',AC)"
   ]
  },
  {
   "cell_type": "code",
   "execution_count": 12,
   "id": "c827ee0f",
   "metadata": {},
   "outputs": [
    {
     "name": "stdout",
     "output_type": "stream",
     "text": [
      "Enter the number of item ordered and shipping required : 5\n",
      "The shipping charges for 5  iteams delivary is:  22.75\n"
     ]
    }
   ],
   "source": [
    "# 2. An online retailer provides express shipping for many of its items at a rate of $10.95 for the first item, and $2.95 for each subsequent item. Write a function that takes the number of items in the order as its only parameter. Return the shipping charge for the order as the function’s result. Include a main program that reads the number of items purchased from the user and displays the shipping charge.\n",
    "\n",
    "n=int(input('Enter the number of item ordered and shipping required : '))\n",
    "Deli= 10.95 + ((n-1)*2.95)\n",
    "print('The shipping charges for',n,' iteams delivary is: ',Deli)\n",
    "\n"
   ]
  },
  {
   "cell_type": "code",
   "execution_count": 15,
   "id": "edf51e00",
   "metadata": {},
   "outputs": [
    {
     "name": "stdout",
     "output_type": "stream",
     "text": [
      "Enter the number x: 45\n",
      "Enter the number y: 69\n",
      "Enter the number z: -4\n",
      "The median number from 45 , 69 , -4 is :  45\n"
     ]
    }
   ],
   "source": [
    "# 3. Write a function that takes three numbers as parameters, and returns the median value of those parameters as its result. Include a main program that reads three values from the user and displays their median.\n",
    "\n",
    "x = int(input('Enter the number x: '))\n",
    "y = int(input('Enter the number y: '))\n",
    "z = int(input('Enter the number z: '))\n",
    "\n",
    "def middle(x,y,z):\n",
    "    if (x > y and x < z) or (x > z and x < y):\n",
    "        return x\n",
    "    elif (y > z and y < x) or (y > x and y < z):\n",
    "        return y\n",
    "    elif (z > x and z < y) or (z > y and z < X):\n",
    "        return z\n",
    "    else:\n",
    "        return False\n",
    "middle(x,y,z)\n",
    "\n",
    "print('The median number from',x,',',y,',' ,z ,'is : ',middle(x,y,z))"
   ]
  },
  {
   "cell_type": "code",
   "execution_count": 24,
   "id": "d9e34dc3",
   "metadata": {},
   "outputs": [
    {
     "name": "stdout",
     "output_type": "stream",
     "text": [
      "Enter a value: 2\n",
      "Enter b value: 4\n",
      "Enter c value: 8\n",
      "False\n"
     ]
    }
   ],
   "source": [
    "# 4. Write a function that determines whether or not three lengths can form a triangle. The function will take 3 parameters and return a Boolean result. In addition, write a program that reads 3 lengths from the user and demonstrates the behavior of this function. In general, if any one length is greater than or equal to the sum of the other two then the lengths cannot be used to form a triangle. Otherwise they can form a triangle.\n",
    "\n",
    "a= int(input('Enter a value: '))\n",
    "b= int(input('Enter b value: '))\n",
    "c= int(input('Enter c value: '))\n",
    "\n",
    "def is_triangle(a, b, c):\n",
    "    if (a > b + c) or (b > a + c) or (c > a + b):\n",
    "        print('False')\n",
    "    else:\n",
    "        print ('True')\n",
    "is_triangle(a,b,c)\n"
   ]
  },
  {
   "cell_type": "code",
   "execution_count": 25,
   "id": "f6b5e4eb",
   "metadata": {},
   "outputs": [
    {
     "name": "stdout",
     "output_type": "stream",
     "text": [
      "Input a string: python\n",
      "The string is not an integer.\n"
     ]
    }
   ],
   "source": [
    "# 5. In this exercise you will write a function named isInteger that determines whether or not the characters in a string represent a valid integer. When determining if a string represents an integer you should ignore any leading or trailing white space. Once this white space is ignored, a string represents an integer if its length is at least 1 and it only contains digits, or if its first character is either + or - and the first character is followed by one or more characters, all of which are digits. Write a main program that reads a string from the user and reports whether or not it represents an integer.\n",
    "\n",
    "text = input(\"Input a string: \")\n",
    "text = text.strip()\n",
    "if len(text) < 1:\n",
    "    print(\"Input a valid text\")\n",
    "else:\n",
    "    if all(text[i] in \"0123456789\" for i in range(len(text))):\n",
    "        print(\"The string is an integer.\")\n",
    "    elif (text[0] in \"+-\") and \\\n",
    "         all(text[i] in \"0123456789\" for i in range(1,len(text))):\n",
    "         print(\"The string is an integer.\")\n",
    "    else:\n",
    "        print(\"The string is not an integer.\") \n"
   ]
  },
  {
   "cell_type": "code",
   "execution_count": 26,
   "id": "4cf9f9cd",
   "metadata": {},
   "outputs": [
    {
     "name": "stdout",
     "output_type": "stream",
     "text": [
      "Input a string: -9\n",
      "The string is an integer.\n"
     ]
    }
   ],
   "source": [
    "text = input(\"Input a string: \")\n",
    "text = text.strip()\n",
    "if len(text) < 1:\n",
    "    print(\"Input a valid text\")\n",
    "else:\n",
    "    if all(text[i] in \"0123456789\" for i in range(len(text))):\n",
    "        print(\"The string is an integer.\")\n",
    "    elif (text[0] in \"+-\") and \\\n",
    "         all(text[i] in \"0123456789\" for i in range(1,len(text))):\n",
    "         print(\"The string is an integer.\")\n",
    "    else:\n",
    "        print(\"The string is not an integer.\") "
   ]
  },
  {
   "cell_type": "code",
   "execution_count": 23,
   "id": "44190111",
   "metadata": {},
   "outputs": [
    {
     "name": "stdout",
     "output_type": "stream",
     "text": [
      "Enter the number n : 11\n",
      "True\n"
     ]
    }
   ],
   "source": [
    "# 6. In this exercise you will create a function named nextPrime that finds and returns the first prime number larger than some integer, n. The value of n will be passed to the function as its only parameter. Include a main program that reads an integer from the user and displays the first prime number larger than the entered value.\n",
    "\n",
    "def test_prime(n):\n",
    "    if (n==1):\n",
    "        return False\n",
    "    elif (n==2):\n",
    "        return True;\n",
    "    else:\n",
    "        for x in range(2,n):\n",
    "            if(n % x==0):\n",
    "                return False\n",
    "        return True \n",
    "n=int(input('Enter the number n : '))\n",
    "print(test_prime(n))"
   ]
  },
  {
   "cell_type": "code",
   "execution_count": 17,
   "id": "83a8a337",
   "metadata": {},
   "outputs": [
    {
     "name": "stdout",
     "output_type": "stream",
     "text": [
      "Enter a password to check good or not good : Harshal007\n",
      "That is a good password.\n"
     ]
    }
   ],
   "source": [
    "# 7. In this exercise you will write a function that determines whether or not a password is good. We will define a good password to be a one that is at least 8 characters long and contains at least one uppercase letter, at least one lowercase letter, and at least one number. Your function should return true if the password passed to it as its only parameter is good. Otherwise it should return false. Include a main program that reads a password from the user and reports whether or not it is good.\n",
    "\n",
    "def check_password(password):\n",
    "    has_upper = False\n",
    "    has_lower = False\n",
    "    has_num = False\n",
    "    \n",
    "    for ch in password:\n",
    " \n",
    "        if  ch  >=  'A' and ch <= 'Z':\n",
    "            has_upper = True\n",
    "        elif ch  >=  'a' and ch <= 'z':\n",
    "            has_lower = True\n",
    "        elif ch  >=  '0' and ch <= '9':\n",
    "            has_num  = True\n",
    "        \n",
    "    if len(password) >= 8 and has_upper and has_lower and has_num :\n",
    "        return True\n",
    "\n",
    "    return False\n",
    "\n",
    "def   main():\n",
    "    p  = input ('Enter a password to check good or not good : ')\n",
    "    if  check_password(p):\n",
    "        print ('That is a good password.')\n",
    "    else :\n",
    "        print ('That is not a good password.')\n",
    "\n",
    "if __name__ == '__main__':\n",
    "    main()"
   ]
  },
  {
   "cell_type": "code",
   "execution_count": 18,
   "id": "1c6ec801",
   "metadata": {},
   "outputs": [
    {
     "name": "stdout",
     "output_type": "stream",
     "text": [
      "Enter a password to check good or not good : harshal\n",
      "That is not a good password.\n"
     ]
    }
   ],
   "source": [
    "def check_password(password):\n",
    "    has_upper = False\n",
    "    has_lower = False\n",
    "    has_num = False\n",
    "    \n",
    "    for ch in password:\n",
    " \n",
    "        if  ch  >=  'A' and ch <= 'Z':\n",
    "            has_upper = True\n",
    "        elif ch  >=  'a' and ch <= 'z':\n",
    "            has_lower = True\n",
    "        elif ch  >=  '0' and ch <= '9':\n",
    "            has_num  = True\n",
    "        \n",
    "    if len(password) >= 8 and has_upper and has_lower and has_num :\n",
    "        return True\n",
    "\n",
    "    return False\n",
    "\n",
    "def   main():\n",
    "    p  = input ('Enter a password to check good or not good : ')\n",
    "    if  check_password(p):\n",
    "        print ('That is a good password.')\n",
    "    else :\n",
    "        print ('That is not a good password.')\n",
    "\n",
    "if __name__ == '__main__':\n",
    "    main()"
   ]
  },
  {
   "cell_type": "code",
   "execution_count": 19,
   "id": "5d4fa8e5",
   "metadata": {},
   "outputs": [
    {
     "name": "stdout",
     "output_type": "stream",
     "text": [
      "Enter the number: 10\n",
      "Enter the number: 20\n",
      "Enter the number: 30\n",
      "Enter the number: 0\n",
      "The sum of number is:  60\n"
     ]
    }
   ],
   "source": [
    "# 8. Write a program that reads values from the user until a blank line is entered. Display the total of all of the values entered by the user (or 0.0 if the first value entered is a blank line). Complete this task using recursion. Your program may not use any loops. The body of your recursive function will need to read one value from the user, and then determine whether or not to make a recursive call. Your function does not need to take any parameters, but it will need to return a numeric result.\n",
    "\n",
    "def recur():\n",
    "    num = int(input('Enter the number: '))\n",
    "    if num == 0:\n",
    "        return 0\n",
    "    else:\n",
    "        return recur() + num\n",
    "print('The sum of number is: ',recur())\n",
    "\n"
   ]
  },
  {
   "cell_type": "code",
   "execution_count": 20,
   "id": "458370af",
   "metadata": {},
   "outputs": [
    {
     "name": "stdout",
     "output_type": "stream",
     "text": [
      "Enter string: malayalam\n",
      "String is a palindrome!\n"
     ]
    }
   ],
   "source": [
    "# 9. In this exercise you will write a recursive function that determines whether or not a string is a palindrome. The empty string is a palindrome, as is any string containing only one character. Any longer string is a palindrome if its first and last characters match, and if the string formed by removing the first and last characters is also a palindrome. Write a main program that reads a string from the user. Use your recursive function to determine whether or not the string is a palindrome. Then display an appropriate message for the user.\n",
    "\n",
    "def palindrome(s):\n",
    "    if len(s) < 1:\n",
    "        return True\n",
    "    else:\n",
    "        if s[0] == s[-1]:\n",
    "            return palindrome(s[1:-1])\n",
    "        else:\n",
    "            return False\n",
    "str1=str(input('Enter string: '))\n",
    "if(palindrome(str1)==True):\n",
    "    print('String is a palindrome!')\n",
    "else:\n",
    "    print('String is not a palindrome!')\n",
    "    \n",
    "    "
   ]
  },
  {
   "cell_type": "code",
   "execution_count": 27,
   "id": "8e7d024e",
   "metadata": {},
   "outputs": [
    {
     "name": "stdout",
     "output_type": "stream",
     "text": [
      "Enter the name:  ['apples', 'orange', 'bananana', 'lemon']\n",
      "Formatted string:  apples, orange, bananana, and lemon\n"
     ]
    }
   ],
   "source": [
    "# 10. Write a function that takes a list of strings as its only parameter. Your function should return a string that contains all of the items in the list formatted in the manner described previously as its only result. While the examples shown previously only include lists containing four elements or less, your function should behave correctly for lists of any length. Include a main program that reads several items from the user, formats them by calling your function, and then displays the result returned by the function. Consider the following four lists:\n",
    "\n",
    "def getList(list):\n",
    "    value = ''\n",
    "    for i in range(len(list)):\n",
    "        if i == len(list) - 1:\n",
    "            value += 'and '+list[i]\n",
    "        else:\n",
    "            value += list[i] + ', '\n",
    "    return value\n",
    "\n",
    "spam = ['apples', 'orange', 'bananana', 'lemon']\n",
    "\n",
    "print('Enter the name: ',spam)\n",
    "print('Formatted string: ',getList(spam))"
   ]
  },
  {
   "cell_type": "code",
   "execution_count": null,
   "id": "8f2365d3",
   "metadata": {},
   "outputs": [],
   "source": []
  }
 ],
 "metadata": {
  "kernelspec": {
   "display_name": "Python 3",
   "language": "python",
   "name": "python3"
  },
  "language_info": {
   "codemirror_mode": {
    "name": "ipython",
    "version": 3
   },
   "file_extension": ".py",
   "mimetype": "text/x-python",
   "name": "python",
   "nbconvert_exporter": "python",
   "pygments_lexer": "ipython3",
   "version": "3.8.8"
  }
 },
 "nbformat": 4,
 "nbformat_minor": 5
}
