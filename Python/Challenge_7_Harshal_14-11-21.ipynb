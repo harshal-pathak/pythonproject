{
 "cells": [
  {
   "cell_type": "markdown",
   "id": "abc0f38a",
   "metadata": {},
   "source": [
    "# Challenge_7"
   ]
  },
  {
   "cell_type": "code",
   "execution_count": 1,
   "id": "f6706b6e",
   "metadata": {},
   "outputs": [],
   "source": [
    "# Q-1. Create a class called number which contains an integer. It should contain various methods to set the value of the integer, return the integer value, print the integer value, check whether the integer is negative.\n",
    "\n",
    "class Number:\n",
    "    def set_number(self,n):\n",
    "        self._num = n\n",
    "    def get_number(self):\n",
    "        return self._num\n",
    "    def print_number(self):\n",
    "        print('Number: ',self._num)\n",
    "    def negative_number(self):\n",
    "        if self._num < 0:\n",
    "            return 'Negative number'\n",
    "        else:\n",
    "            return 'Positive number'"
   ]
  },
  {
   "cell_type": "code",
   "execution_count": 2,
   "id": "a0c23563",
   "metadata": {},
   "outputs": [
    {
     "name": "stdout",
     "output_type": "stream",
     "text": [
      "Number:  -777\n"
     ]
    },
    {
     "data": {
      "text/plain": [
       "'Negative number'"
      ]
     },
     "execution_count": 2,
     "metadata": {},
     "output_type": "execute_result"
    }
   ],
   "source": [
    "x= Number()\n",
    "x.set_number(-777)\n",
    "x.print_number()\n",
    "x.negative_number()"
   ]
  },
  {
   "cell_type": "code",
   "execution_count": 3,
   "id": "746d3ea4",
   "metadata": {},
   "outputs": [
    {
     "name": "stdout",
     "output_type": "stream",
     "text": [
      "Number:  777\n"
     ]
    },
    {
     "data": {
      "text/plain": [
       "'Positive number'"
      ]
     },
     "execution_count": 3,
     "metadata": {},
     "output_type": "execute_result"
    }
   ],
   "source": [
    "x= Number()\n",
    "x.set_number(777)\n",
    "x.print_number()\n",
    "x.negative_number()"
   ]
  },
  {
   "cell_type": "code",
   "execution_count": 6,
   "id": "dff19e73",
   "metadata": {},
   "outputs": [],
   "source": [
    "# Q-2. Create a class that can calculate the perimeter/ circumference and area of a regular shape. The class should also have a provision to accept the data relevant to the shape.\n",
    "\n",
    "class Area:\n",
    "    def __init__(self,v=0):\n",
    "        self._value = v\n",
    "    def __mul__(self,other):\n",
    "        ar_rec = self._value * other._value\n",
    "        return Area(ar_rec)\n",
    "    def __pow__(self,other):\n",
    "        ar_cir = self._value ** other._value\n",
    "        return (ar_cir*3.14)\n",
    "    def __add__(self,other):\n",
    "        pr_rec = other._value + self._value \n",
    "        return Area(pr_rec)\n",
    "    def __str__(self):\n",
    "        return str(self._value)"
   ]
  },
  {
   "cell_type": "code",
   "execution_count": 7,
   "id": "c5188ece",
   "metadata": {},
   "outputs": [
    {
     "name": "stdout",
     "output_type": "stream",
     "text": [
      "1. Area of Rectangle\n",
      "2. Area of circle \n",
      "3. perimeter of the rectangle\n",
      "*****************************************************************\n",
      "Select the number of choice of shape : 1\n",
      "-----------------------------------------------------------------\n",
      "1. Area of Rectangle\n",
      "-----------------------------------------------------------------\n",
      "Enter the one side of rectangle: 2\n",
      "Enter the another side of rectangle: 3\n",
      "The area of the square are:  6\n"
     ]
    }
   ],
   "source": [
    "print('1. Area of Rectangle')\n",
    "print('2. Area of circle ')\n",
    "print('3. perimeter of the rectangle')\n",
    "print('*'*65)\n",
    "n= int(input('Select the number of choice of shape : '))\n",
    "print('-'*65)\n",
    "while n != 0:\n",
    "    if n == 1:\n",
    "        print('1. Area of Rectangle')\n",
    "        print('-'*65)\n",
    "        a = int(input('Enter the one side of rectangle: '))\n",
    "        b = int(input('Enter the another side of rectangle: '))\n",
    "        a = Area(a)\n",
    "        b = Area (b)\n",
    "        ar_rec =Area()\n",
    "        ar_rec = a * b\n",
    "        print('The area of the square are: ',ar_rec)\n",
    "        break\n",
    "    elif n == 2:\n",
    "        print('2. Area of circle ')\n",
    "        print('-'*65)\n",
    "        r = int(input('Enter the radius of the circle: '))\n",
    "        e = 2\n",
    "        r = Area(r)\n",
    "        e = Area(2)\n",
    "        ar_cir =Area()\n",
    "        ar_cir =  r ** e\n",
    "        print('The area of the circle: ',ar_cir)\n",
    "        break\n",
    "    elif n == 3 :\n",
    "        print('3. perimeter of the retcnagle')\n",
    "        print('-'*65)\n",
    "        x = int(input('Enter the one side of rectangle: '))\n",
    "        y = int(input('Enter the another side of rectangle: '))\n",
    "        x = Area(x)\n",
    "        y = Area (y)\n",
    "        pr_rec = Area()\n",
    "        pr_rec = x + y + x + y\n",
    "        print('The perimeter of the rectangle are: ',pr_rec)\n",
    "        break\n",
    "    else:\n",
    "        print('An Invalid option')\n",
    "        print('-'*65)\n",
    "        break\n",
    " "
   ]
  },
  {
   "cell_type": "code",
   "execution_count": 8,
   "id": "cd8b2b45",
   "metadata": {},
   "outputs": [
    {
     "name": "stdout",
     "output_type": "stream",
     "text": [
      "1. Area of Rectangle\n",
      "2. Area of circle \n",
      "3. perimeter of the rectangle\n",
      "*****************************************************************\n",
      "Select the number of choice of shape : 2\n",
      "-----------------------------------------------------------------\n",
      "2. Area of circle \n",
      "-----------------------------------------------------------------\n",
      "Enter the radius of the circle: 2\n",
      "The area of the circle:  12.56\n"
     ]
    }
   ],
   "source": [
    "print('1. Area of Rectangle')\n",
    "print('2. Area of circle ')\n",
    "print('3. perimeter of the rectangle')\n",
    "print('*'*65)\n",
    "n= int(input('Select the number of choice of shape : '))\n",
    "print('-'*65)\n",
    "while n != 0:\n",
    "    if n == 1:\n",
    "        print('1. Area of Rectangle')\n",
    "        print('-'*65)\n",
    "        a = int(input('Enter the one side of rectangle: '))\n",
    "        b = int(input('Enter the another side of rectangle: '))\n",
    "        a = Area(a)\n",
    "        b = Area (b)\n",
    "        ar_rec =Area()\n",
    "        ar_rec = a * b\n",
    "        print('The area of the square are: ',ar_rec)\n",
    "        break\n",
    "    elif n == 2:\n",
    "        print('2. Area of circle ')\n",
    "        print('-'*65)\n",
    "        r = int(input('Enter the radius of the circle: '))\n",
    "        e = 2\n",
    "        r = Area(r)\n",
    "        e = Area(2)\n",
    "        ar_cir =Area()\n",
    "        ar_cir =  r ** e\n",
    "        print('The area of the circle: ',ar_cir)\n",
    "        break\n",
    "    elif n == 3 :\n",
    "        print('3. perimeter of the retcnagle')\n",
    "        print('-'*65)\n",
    "        x = int(input('Enter the one side of rectangle: '))\n",
    "        y = int(input('Enter the another side of rectangle: '))\n",
    "        x = Area(x)\n",
    "        y = Area (y)\n",
    "        pr_rec = Area()\n",
    "        pr_rec = x + y + x + y\n",
    "        print('The perimeter of the rectangle are: ',pr_rec)\n",
    "        break\n",
    "    else:\n",
    "        print('An Invalid option')\n",
    "        print('-'*65)\n",
    "        break\n",
    " "
   ]
  },
  {
   "cell_type": "code",
   "execution_count": 9,
   "id": "1bc580bf",
   "metadata": {},
   "outputs": [
    {
     "name": "stdout",
     "output_type": "stream",
     "text": [
      "1. Area of Rectangle\n",
      "2. Area of circle \n",
      "3. perimeter of the rectangle\n",
      "*****************************************************************\n",
      "Select the number of choice of shape : 3\n",
      "-----------------------------------------------------------------\n",
      "3. perimeter of the retcnagle\n",
      "-----------------------------------------------------------------\n",
      "Enter the one side of rectangle: 2\n",
      "Enter the another side of rectangle: 3\n",
      "The perimeter of the rectangle are:  10\n"
     ]
    }
   ],
   "source": [
    "print('1. Area of Rectangle')\n",
    "print('2. Area of circle ')\n",
    "print('3. perimeter of the rectangle')\n",
    "print('*'*65)\n",
    "n= int(input('Select the number of choice of shape : '))\n",
    "print('-'*65)\n",
    "while n != 0:\n",
    "    if n == 1:\n",
    "        print('1. Area of Rectangle')\n",
    "        print('-'*65)\n",
    "        a = int(input('Enter the one side of rectangle: '))\n",
    "        b = int(input('Enter the another side of rectangle: '))\n",
    "        a = Area(a)\n",
    "        b = Area (b)\n",
    "        ar_rec =Area()\n",
    "        ar_rec = a * b\n",
    "        print('The area of the square are: ',ar_rec)\n",
    "        break\n",
    "    elif n == 2:\n",
    "        print('2. Area of circle ')\n",
    "        print('-'*65)\n",
    "        r = int(input('Enter the radius of the circle: '))\n",
    "        e = 2\n",
    "        r = Area(r)\n",
    "        e = Area(2)\n",
    "        ar_cir =Area()\n",
    "        ar_cir =  r ** e\n",
    "        print('The area of the circle: ',ar_cir)\n",
    "        break\n",
    "    elif n == 3 :\n",
    "        print('3. perimeter of the retcnagle')\n",
    "        print('-'*65)\n",
    "        x = int(input('Enter the one side of rectangle: '))\n",
    "        y = int(input('Enter the another side of rectangle: '))\n",
    "        x = Area(x)\n",
    "        y = Area (y)\n",
    "        pr_rec = Area()\n",
    "        pr_rec = x + y + x + y\n",
    "        print('The perimeter of the rectangle are: ',pr_rec)\n",
    "        break\n",
    "    else:\n",
    "        print('An Invalid option')\n",
    "        print('-'*65)\n",
    "        break\n",
    " "
   ]
  },
  {
   "cell_type": "code",
   "execution_count": 10,
   "id": "1f78ffe0",
   "metadata": {},
   "outputs": [],
   "source": [
    "# Q-3. Create a class called student which contains the data members called rollno, sname and branch. The class should contain methods to initialize the data members and to set and display data members. Finally, the class should contain the __del__ method to release the memory at the time of object destruction. Test your class with at least two objects of the student class.\n",
    "\n",
    "class Student:\n",
    "    def __init__(self,n='',r=0,b=''):\n",
    "        self._name = n\n",
    "        self._rollno = r\n",
    "        self._branch = b\n",
    "    def set_data(self,n,r,b):\n",
    "        self._name = n\n",
    "        self._rollno = r\n",
    "        self._branch = b\n",
    "    def display_data(self):\n",
    "        print('Name: ',self._name)\n",
    "        print('Roll No.: ',self._rollno)\n",
    "        print('Branch: ',self._branch)\n",
    "    def __del__(self):\n",
    "        print('Deleting the object ',+str(self))\n",
    "    "
   ]
  },
  {
   "cell_type": "code",
   "execution_count": 11,
   "id": "e32b142c",
   "metadata": {},
   "outputs": [
    {
     "name": "stdout",
     "output_type": "stream",
     "text": [
      "Name:  Ramesh\n",
      "Roll No.:  7\n",
      "Branch:  Civil\n",
      "*****************************************************************\n",
      "Name:  Asif\n",
      "Roll No.:  45\n",
      "Branch:  Mechanical\n",
      "*****************************************************************\n",
      "Name:  Mahesh\n",
      "Roll No.:  99\n",
      "Branch:  CSE\n",
      "*****************************************************************\n"
     ]
    }
   ],
   "source": [
    "s1=Student('Ramesh',7,'Civil')\n",
    "s1.display_data()\n",
    "print('*'*65)\n",
    "s2=Student('Asif',45,'Mechanical')\n",
    "s2.display_data()\n",
    "print('*'*65)\n",
    "s3=Student('Mahesh',99,'CSE')\n",
    "s3.display_data()\n",
    "print('*'*65)"
   ]
  },
  {
   "cell_type": "code",
   "execution_count": 12,
   "id": "c29d6d93",
   "metadata": {},
   "outputs": [],
   "source": [
    "# Q-4. Modify the student class defined in Q. No. 1 in so that it now includes a class variable to count the number of student objects created from this class and also add a class function in order to display the value of the class variable. The modified class should be named as student1 class.\n",
    "\n",
    "class Student1:\n",
    "    \n",
    "    instance_count = 0\n",
    "    \n",
    "    def __init__(self,n='',r=0,b=''):\n",
    "        Student1.increment_instance_count()\n",
    "        self._name = n\n",
    "        self._rollno = r\n",
    "        self._branch = b\n",
    "        \n",
    "    def set_data(self,n,r,b):\n",
    "        self._name = n\n",
    "        self._rollno = r\n",
    "        self._branch = b\n",
    "        \n",
    "    def display_data(self):\n",
    "        print('Name: ',self._name)\n",
    "        print('Roll No.: ',self._rollno)\n",
    "        print('Branch: ',self._branch)\n",
    "    @classmethod    \n",
    "    def increment_instance_count(cls):\n",
    "        cls.instance_count += 1"
   ]
  },
  {
   "cell_type": "code",
   "execution_count": 15,
   "id": "fb77f8a7",
   "metadata": {},
   "outputs": [
    {
     "name": "stdout",
     "output_type": "stream",
     "text": [
      "Name:  Ramesh\n",
      "Roll No.:  7\n",
      "Branch:  Civil\n",
      "Name:  Asif\n",
      "Roll No.:  45\n",
      "Branch:  Mechanical\n",
      "Name:  Mahesh\n",
      "Roll No.:  99\n",
      "Branch:  CSE\n",
      "*****************************************************************\n",
      "Number of Student created:  9\n"
     ]
    }
   ],
   "source": [
    "st1= Student1('Ramesh',7,'Civil')\n",
    "st1.display_data()\n",
    "st2= Student1('Asif',45,'Mechanical')\n",
    "st2.display_data()\n",
    "st3= Student1('Mahesh',99,'CSE')\n",
    "st3.display_data()\n",
    "print('*'*65)\n",
    "print('Number of Student created: ',Student1.instance_count)"
   ]
  },
  {
   "cell_type": "code",
   "execution_count": 16,
   "id": "d0916f59",
   "metadata": {},
   "outputs": [
    {
     "data": {
      "text/plain": [
       "mappingproxy({'__module__': '__main__',\n",
       "              'instance_count': 9,\n",
       "              '__init__': <function __main__.Student1.__init__(self, n='', r=0, b='')>,\n",
       "              'set_data': <function __main__.Student1.set_data(self, n, r, b)>,\n",
       "              'display_data': <function __main__.Student1.display_data(self)>,\n",
       "              'increment_instance_count': <classmethod at 0x174f30f5a30>,\n",
       "              '__dict__': <attribute '__dict__' of 'Student1' objects>,\n",
       "              '__weakref__': <attribute '__weakref__' of 'Student1' objects>,\n",
       "              '__doc__': None})"
      ]
     },
     "execution_count": 16,
     "metadata": {},
     "output_type": "execute_result"
    }
   ],
   "source": [
    "# Q-5. Apply the vars() and dir() global function on student and student1 classes\n",
    "\n",
    "vars(Student1)"
   ]
  },
  {
   "cell_type": "code",
   "execution_count": 17,
   "id": "5913894d",
   "metadata": {},
   "outputs": [
    {
     "data": {
      "text/plain": [
       "['__class__',\n",
       " '__delattr__',\n",
       " '__dict__',\n",
       " '__dir__',\n",
       " '__doc__',\n",
       " '__eq__',\n",
       " '__format__',\n",
       " '__ge__',\n",
       " '__getattribute__',\n",
       " '__gt__',\n",
       " '__hash__',\n",
       " '__init__',\n",
       " '__init_subclass__',\n",
       " '__le__',\n",
       " '__lt__',\n",
       " '__module__',\n",
       " '__ne__',\n",
       " '__new__',\n",
       " '__reduce__',\n",
       " '__reduce_ex__',\n",
       " '__repr__',\n",
       " '__setattr__',\n",
       " '__sizeof__',\n",
       " '__str__',\n",
       " '__subclasshook__',\n",
       " '__weakref__',\n",
       " 'display_data',\n",
       " 'increment_instance_count',\n",
       " 'instance_count',\n",
       " 'set_data']"
      ]
     },
     "execution_count": 17,
     "metadata": {},
     "output_type": "execute_result"
    }
   ],
   "source": [
    "dir(Student1)"
   ]
  },
  {
   "cell_type": "code",
   "execution_count": 18,
   "id": "37f6cb71",
   "metadata": {},
   "outputs": [],
   "source": [
    "# Q-6. Create a class called Date. It should contain data members day, month and year. It should also contain functions to set and display date, as well as function to initialize date objects. Overload the == operator to check if two dates are equal\n",
    "\n",
    "class Date:\n",
    "    def __init__(self,d,m,y):\n",
    "        self._day = d\n",
    "        self._month = m\n",
    "        self._year = y\n",
    "    def __eq__(self,other):\n",
    "        if self._day == other._day and self._month == other._month and self._year == other._year:\n",
    "            return 'Date are equal'\n",
    "        else:\n",
    "            return 'Date are not equal'\n",
    "    def __str__(self):\n",
    "        return str(self._day) + '-' + str(self._month) + '-' + str(self._year)\n",
    "        \n",
    "    \n",
    "    "
   ]
  },
  {
   "cell_type": "code",
   "execution_count": 19,
   "id": "e45a1d61",
   "metadata": {},
   "outputs": [
    {
     "name": "stdout",
     "output_type": "stream",
     "text": [
      "d1 :  13-11-2021\n",
      "d2 :  13-11-2021\n",
      "d3 :  14-11-2021\n",
      "d1 Date & d2 Date :  Date are equal\n",
      "d1 date & d3 Date :  Date are not equal\n"
     ]
    }
   ],
   "source": [
    "d1 = Date(13,11,2021)\n",
    "d2 = Date(13,11,2021)\n",
    "d3 = Date(14,11,2021)\n",
    "print('d1 : ',d1)\n",
    "print('d2 : ',d2)\n",
    "print('d3 : ',d3)\n",
    "print('d1 Date & d2 Date : ',d1 == d2)\n",
    "print('d1 date & d3 Date : ',d1 == d3)"
   ]
  },
  {
   "cell_type": "code",
   "execution_count": 20,
   "id": "e715f9f3",
   "metadata": {},
   "outputs": [],
   "source": [
    "# Q-7. Create a class called weather that has a list containing weather parameters. Overload the in operator that checks whether an item is present in the list or not.\n",
    "\n",
    "class Weather:\n",
    "    def __init__(self):\n",
    "        self._parameter = ['Temp','Humid','Cloud','Windy','Cool','Hot']\n",
    "    def __contains__(self,p):\n",
    "        return True if p in self._parameter else False"
   ]
  },
  {
   "cell_type": "code",
   "execution_count": 21,
   "id": "1783f48e",
   "metadata": {},
   "outputs": [
    {
     "name": "stdout",
     "output_type": "stream",
     "text": [
      "Valid weather parameter\n"
     ]
    }
   ],
   "source": [
    "w = Weather()\n",
    "if 'Hot' in w:\n",
    "    print('Valid weather parameter')\n",
    "else:\n",
    "    print('Invalid weather parameter')"
   ]
  },
  {
   "cell_type": "code",
   "execution_count": 22,
   "id": "e6dbc71a",
   "metadata": {},
   "outputs": [],
   "source": [
    "# Q-8. Create a class called complex containing real and imaginary parts and then use it to check whether two objects are of the same type, whether their attributes are same and whether they are pointing to the same object\n",
    "\n",
    "class Complex:\n",
    "    def __init__(self,r=0.0,i=0.0):\n",
    "        self._real = r\n",
    "        self._imaginary = i   \n",
    "    def __eq__(self,other):\n",
    "        if self._real == other._real and self._imaginary == other._imaginary :\n",
    "            return True\n",
    "        else:\n",
    "            return False\n",
    "    def __str__(self):\n",
    "        return str(self._real) + ' + ' + str(self._imaginary)"
   ]
  },
  {
   "cell_type": "code",
   "execution_count": 23,
   "id": "55614309",
   "metadata": {},
   "outputs": [
    {
     "name": "stdout",
     "output_type": "stream",
     "text": [
      "c1:  7.7 + 0.7\n",
      "C2:  7.7 + 0.7\n",
      "C3:  -8.7 + 0.8\n",
      "C1 & C2 are of same type\n",
      "C1 & C3 are not same type\n"
     ]
    }
   ],
   "source": [
    "c1 = Complex(7.7,0.7)\n",
    "c2 = Complex(7.7,0.7)\n",
    "c3 = Complex(-8.7,0.8)\n",
    "print('c1: ',c1)\n",
    "print('C2: ',c2)\n",
    "print('C3: ',c3)\n",
    "if c1 == c2:\n",
    "    print('C1 & C2 are of same type')\n",
    "else:\n",
    "    print('C1 & C2 are not same type')\n",
    "if c1 == c3:\n",
    "    print('C1 & C3 are of same type ')\n",
    "else:\n",
    "    print('C1 & C3 are not same type')"
   ]
  },
  {
   "cell_type": "code",
   "execution_count": 24,
   "id": "1c558a68",
   "metadata": {},
   "outputs": [],
   "source": [
    "# Q-9. Create a class called department with the attributes deptname and deptid. Modify the student class defined in Q.No. 3 such that it contains an object of department class. Name the new modified student class as student2.\n",
    "\n",
    "class Department:\n",
    "    def set_department(self):\n",
    "        self._dept = input('Enter the Name of the Department: ')\n",
    "        self._name = input ('Enter the department ID: ')\n",
    "    def display_department(self):\n",
    "        print('Department Name : ',self._name)\n",
    "        print('Department ID : ',self._dept)\n",
    "class Student2 :\n",
    "    def set_student(self):\n",
    "        self._name= input('Enter the name of the Student: ')\n",
    "        self._rollno = input('Enter the roll no of Student : ')\n",
    "        self._branch = input('Enter the Branch of the Student: ')\n",
    "        self._dept = Department()\n",
    "        self._dept.set_department()\n",
    "    def display_student(self):\n",
    "        print('Student Roll No.: ',self._rollno)\n",
    "        print('Student Name: ',self._name)\n",
    "        self._dept.display_department()"
   ]
  },
  {
   "cell_type": "code",
   "execution_count": 25,
   "id": "17685231",
   "metadata": {},
   "outputs": [
    {
     "name": "stdout",
     "output_type": "stream",
     "text": [
      "Enter the name of the Student: Asif\n",
      "Enter the roll no of Student : 87\n",
      "Enter the Branch of the Student: Science\n",
      "Enter the Name of the Department: Civil Engineering\n",
      "Enter the department ID: 05\n",
      "-----------------------------------------------------------------\n",
      "Student Roll No.:  87\n",
      "Student Name:  Asif\n",
      "Department Name :  05\n",
      "Department ID :  Civil Engineering\n"
     ]
    }
   ],
   "source": [
    "st = Student2()\n",
    "st.set_student()\n",
    "print('-'*65)\n",
    "st.display_student()"
   ]
  },
  {
   "cell_type": "code",
   "execution_count": 26,
   "id": "79d2e103",
   "metadata": {},
   "outputs": [],
   "source": [
    "# Q-10. Create a class called Person. From this class, inherit another class called student. Assume suitable data members and member functions for these two classes. In both the classes, define the __str__ function and demonstrate method overriding.  \n",
    "\n",
    "class Person:\n",
    "    def __init__(self,n,r,a):\n",
    "        self._name = n\n",
    "        self._rollno = r\n",
    "        self._age = a\n",
    "    def birthday(self):\n",
    "        print('Happy Birthday you were : ',self._age)\n",
    "        self._age +=1\n",
    "        print('Now Your Age were : ',self._age)\n",
    "    def __str__(self):\n",
    "        return self._name + ' is ' + str(self._age) + ' Years old ' + ' and the roll no. of the (student) ' + self._name + ' is ' + str(self._rollno)"
   ]
  },
  {
   "cell_type": "code",
   "execution_count": 27,
   "id": "b9ff669d",
   "metadata": {},
   "outputs": [],
   "source": [
    "class Student3 (Person):\n",
    "    def __init__(self,n,r,a,):\n",
    "        super().__init__(n,r,a) \n",
    "         \n",
    "    def calculate_fees(self,calculate_fees):\n",
    "        pay_of_student = 1000\n",
    "        if self._age > 12:\n",
    "            pay_of_student += 1500\n",
    "            return calculate_fees * pay_of_student"
   ]
  },
  {
   "cell_type": "code",
   "execution_count": 28,
   "id": "dc97bc90",
   "metadata": {},
   "outputs": [
    {
     "name": "stdout",
     "output_type": "stream",
     "text": [
      "The person is the only object \n",
      "The person Object P :  Asif is 15 Years old  and the roll no. of the (student) Asif is 55\n",
      "*****************************************************************\n",
      "Student Object: \n",
      "Happy Birthday you were :  15\n",
      "Now Your Age were :  16\n",
      "Asif is 16 Years old  and the roll no. of the (student) Asif is 55  & Fees of the Student is:  40000\n"
     ]
    }
   ],
   "source": [
    "print('The person is the only object ')\n",
    "p = Person('Asif',55,15)\n",
    "print('The person Object P : ',p)\n",
    "print('*'*65)\n",
    "print('Student Object: ')\n",
    "s = Student3('Asif',55,15)\n",
    "s.birthday()\n",
    "print(s,' & Fees of the Student is: ',s.calculate_fees(16))"
   ]
  }
 ],
 "metadata": {
  "kernelspec": {
   "display_name": "Python 3",
   "language": "python",
   "name": "python3"
  },
  "language_info": {
   "codemirror_mode": {
    "name": "ipython",
    "version": 3
   },
   "file_extension": ".py",
   "mimetype": "text/x-python",
   "name": "python",
   "nbconvert_exporter": "python",
   "pygments_lexer": "ipython3",
   "version": "3.8.8"
  }
 },
 "nbformat": 4,
 "nbformat_minor": 5
}
