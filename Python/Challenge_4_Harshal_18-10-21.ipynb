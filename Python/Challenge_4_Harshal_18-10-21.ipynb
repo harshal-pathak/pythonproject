{
 "cells": [
  {
   "cell_type": "markdown",
   "id": "c881e2a7",
   "metadata": {},
   "source": [
    "# Challenge_4"
   ]
  },
  {
   "cell_type": "code",
   "execution_count": 8,
   "id": "87d01478",
   "metadata": {},
   "outputs": [
    {
     "name": "stdout",
     "output_type": "stream",
     "text": [
      "Set1:  {'Bhartish', 'Bhuvan', 'Aditya', 'Akash', 'Bharat', 'Ashish'}\n",
      "Names starts with the A:  ['Aditya', 'Akash', 'Ashish']\n",
      "Names start with the B:  ['Bharat', 'Bhartish', 'Bhuvan']\n",
      "Type:  <class 'set'>\n"
     ]
    }
   ],
   "source": [
    "# 1. A set contains names which begin either with A or with B. Write a program to separate the names into two sets, one containing names beginning with A and the other containing names beginning with B \n",
    "\n",
    "s1={'Ashish','Bharat','Akash','Bhartish','Bhuvan','Aditya'}\n",
    "print('Set1: ',s1)\n",
    "\n",
    "l=list(s1)\n",
    "l.sort()\n",
    "print('Names starts with the A: ',l[:3])\n",
    "print('Names start with the B: ',l[3:])\n",
    "print('Type: ',type(s1))\n",
    "\n"
   ]
  },
  {
   "cell_type": "code",
   "execution_count": 10,
   "id": "c1367e4a",
   "metadata": {},
   "outputs": [
    {
     "name": "stdout",
     "output_type": "stream",
     "text": [
      "Tuple:  ('Sugar = Rs.50.41/-', 'Oil = Rs.80/-', 'Biscuit = Rs.10/-')\n",
      "Sugar = Rs.50.41/-\n",
      "Oil = Rs.80/-\n",
      "Biscuit = Rs.10/-\n"
     ]
    }
   ],
   "source": [
    "# 2. Create a list of tuples. Each tuple should contain an item and its price in float. Write a program to print each item and its price in a proper format\n",
    "\n",
    "tup_1 = ('Sugar = Rs.50.41/-')\n",
    "tup_2 = ('Oil = Rs.80/-')\n",
    "tup_3 = ('Biscuit = Rs.10/-')\n",
    "tup_4 = (tup_1,tup_2,tup_3)\n",
    "\n",
    "print('Tuple: ',tup_4)\n",
    "for i in tup_4:\n",
    "    print(i)\n",
    "    "
   ]
  },
  {
   "cell_type": "code",
   "execution_count": 5,
   "id": "00387ee2",
   "metadata": {},
   "outputs": [
    {
     "name": "stdout",
     "output_type": "stream",
     "text": [
      "Enter a number: 87\n",
      "Enter a number: 66\n",
      "Enter a number: 4\n",
      "Enter a number: 3\n",
      "Enter a number: 6\n",
      "Enter a number: 89\n",
      "Enter a number: 0\n",
      "Sorted numbers: \n",
      "3\n",
      "4\n",
      "6\n",
      "66\n",
      "87\n",
      "89\n"
     ]
    }
   ],
   "source": [
    "# 3. Write a program that reads integers from the user and stores them in a list. Your program should continue reading values until the user enters 0. Then it should display all of the values entered by the user (except for the 0) in order from smallest to largest, with one value appearing on each line. Use either the sort method or the sorted function to sort the list.\n",
    "\n",
    "n=int(input('Enter a number: '))\n",
    "l=[]\n",
    "while n != 0:\n",
    "    l.append(n)\n",
    "    n=int(input('Enter a number: '))\n",
    "l.sort()\n",
    "print('Sorted numbers: ')\n",
    "for i in range(len(l)):\n",
    "    print(l[i])"
   ]
  },
  {
   "cell_type": "code",
   "execution_count": 18,
   "id": "3f4b2d2d",
   "metadata": {},
   "outputs": [
    {
     "name": "stdout",
     "output_type": "stream",
     "text": [
      "Enter the values: 5\n",
      "Enter the elements: 5\n",
      "Enter the elements: 4\n",
      "Enter the elements: 3\n",
      "Enter the elements: 2\n",
      "Enter the elements: 1\n",
      "The sorted list:  [1, 2, 3, 4, 5]\n",
      "Largest number:  5\n",
      "List:  [1, 2, 3, 4]\n",
      "Second largest number:  4\n",
      "List:  [1, 2, 3]\n",
      "Smallest number:  1\n",
      "List:  [2, 3]\n",
      "Second smallest number:  3\n",
      "List:  [3]\n"
     ]
    }
   ],
   "source": [
    "# 4. Write a program to read a list of numbers from the user and remove the two largest and two smallest values from it. Display the list with the values removed, followed by the original list. Your program should generate an appropriate error message if the user enters less than 5 values.\n",
    "\n",
    "l = [] \n",
    "n = int(input(\"Enter the values: \"))\n",
    "if n >= 5:\n",
    "    for i in range(1, n+1): \n",
    "        val = int(input(\"Enter the elements: \")) \n",
    "        l.append(val) \n",
    "    l.sort() \n",
    "    \n",
    "    print('The sorted list: ', l) \n",
    "    print('Largest number: ',l[4])\n",
    "    l.pop()\n",
    "    print('List: ',l)\n",
    "    print('Second largest number: ',l[3])\n",
    "    l.pop()\n",
    "    print('List: ',l)\n",
    "    print('Smallest number: ',l[0])\n",
    "    l.pop(0)\n",
    "    print('List: ',l)\n",
    "    print('Second smallest number: ',l[1])\n",
    "    l.pop(0)\n",
    "    print('List: ',l)\n",
    "else:\n",
    "    print('Inappropriate number please provide atleast 5 numbers')"
   ]
  },
  {
   "cell_type": "code",
   "execution_count": 19,
   "id": "37e00458",
   "metadata": {},
   "outputs": [
    {
     "name": "stdout",
     "output_type": "stream",
     "text": [
      "Enter the values: 2\n",
      "Inappropriate number please provide atleast 5 values\n"
     ]
    }
   ],
   "source": [
    "l = [] \n",
    "n = int(input(\"Enter the values: \"))\n",
    "if n >= 5:\n",
    "    for i in range(1, n+1): \n",
    "        val = int(input(\"Enter the elements: \")) \n",
    "        l.append(val) \n",
    "    l.sort() \n",
    "    \n",
    "    print('The sorted list: ', l) \n",
    "    print('Largest number: ',l[4])\n",
    "    l.pop()\n",
    "    print('List: ',l)\n",
    "    print('Second largest number: ',l[3])\n",
    "    l.pop()\n",
    "    print('List: ',l)\n",
    "    print('Smallest number: ',l[0])\n",
    "    l.pop(0)\n",
    "    print('List: ',l)\n",
    "    print('Second smallest number: ',l[1])\n",
    "    l.pop(0)\n",
    "    print('List: ',l)\n",
    "else:\n",
    "    print('Inappropriate number please provide atleast 5 values')"
   ]
  },
  {
   "cell_type": "code",
   "execution_count": 21,
   "id": "3de4d4d6",
   "metadata": {},
   "outputs": [
    {
     "name": "stdout",
     "output_type": "stream",
     "text": [
      "Enter a word : Welcome\n",
      "Enter a word: To\n",
      "Enter a word: The \n",
      "Enter a word: World\n",
      "Enter a word: Of\n",
      "Enter a word: Pyhton\n",
      "Enter a word:  \n",
      "Welcome\n",
      "To\n",
      "The \n",
      "World\n",
      "Of\n",
      "Pyhton\n"
     ]
    }
   ],
   "source": [
    "# 5. In this exercise, you will create a program that reads words from the user until the user enters a blank line. After the user enters a blank line your program should display each word entered by the user exactly once.\n",
    "\n",
    "words=[]\n",
    "word = input(\"Enter a word : \")\n",
    "while word  != \" \":\n",
    "  \n",
    "   if word not in words:\n",
    "    words.append(word)\n",
    "  \n",
    "   word =input(\"Enter a word: \")\n",
    "\n",
    "for word in words:\n",
    "    print(word)\n"
   ]
  },
  {
   "cell_type": "code",
   "execution_count": 28,
   "id": "99ea85b3",
   "metadata": {},
   "outputs": [
    {
     "name": "stdout",
     "output_type": "stream",
     "text": [
      "Enter the value: 3\n",
      "Enter the value: 4\n",
      "Enter the value: 3\n",
      "Enter the value: 2\n",
      "Enter the value: 0\n",
      "3\n",
      "4\n",
      "2\n",
      "Average of the above numbers are:  3.0\n",
      "The Below Avg Valeus:  2\n"
     ]
    }
   ],
   "source": [
    "# 6. Write a program that reads numbers from the user until a 0 is entered. Your program should display the average of all of the values entered by the user. Then the program should display all of the below average values, followed by all of the average values (if any), followed by all of the above average values. An appropriate label should be displayed before each list of values.\n",
    "\n",
    "n=[]\n",
    "count = 0\n",
    "sum = 0\n",
    "\n",
    "num=int(input('Enter the value: '))\n",
    "while num!= 0:\n",
    "    if num not in n:\n",
    "        n.append(num)\n",
    "    num=int(input('Enter the value: '))\n",
    "for num in n:\n",
    "    print(num)\n",
    "    sum += num\n",
    "    count +=1\n",
    "    avg=sum/count\n",
    "    \n",
    "else:\n",
    "    print(\"Average of the above numbers are: \",avg)\n",
    "    \n",
    "if num > avg:\n",
    "        print('The Above Avg Values: ',num)\n",
    "else:\n",
    "        print('The Below Avg Valeus: ',num)\n"
   ]
  },
  {
   "cell_type": "code",
   "execution_count": 1,
   "id": "40090f5b",
   "metadata": {},
   "outputs": [
    {
     "name": "stdout",
     "output_type": "stream",
     "text": [
      "Enter the sentence : Hi Hero\n",
      "The histogram for sentence is :  {'H': 1, 'i': 1, ' ': 1, 'e': 1, 'r': 1, 'o': 1}\n"
     ]
    }
   ],
   "source": [
    "# 7. Create a program that determines and displays the number of unique characters in a string entered by the user. For example, Hello World! has 9 unique characters while zzz has only one unique character. Use a dictionary to solve this problem.\n",
    "s=input('Enter the sentence : ')\n",
    "d = dict()\n",
    "\n",
    "for i in s:\n",
    "    if i not in d:\n",
    "        d[i] = 1\n",
    "    #else:\n",
    "        #d[i] += 1\n",
    "        \n",
    "print('The histogram for sentence is : ',d)"
   ]
  },
  {
   "cell_type": "code",
   "execution_count": 30,
   "id": "cb31dda2",
   "metadata": {},
   "outputs": [
    {
     "name": "stdout",
     "output_type": "stream",
     "text": [
      "Enter a first word: evil\n",
      "Enter a second word: live\n",
      "Enter word are Anagram\n"
     ]
    }
   ],
   "source": [
    "# 8. Two words are anagrams if they contain all of the same letters, but in a different order. For example, “evil” and “live” are anagrams because each contains one e, one i, one l, and one v. Create a program that reads two strings from the user, determines whether or not they are anagrams, and reports the result.\n",
    "\n",
    "str_1=input('Enter a first word: ')\n",
    "str_2=input('Enter a second word: ')\n",
    "l1=list(str_1)\n",
    "l2=list(str_2)\n",
    "s1=l1.sort()\n",
    "s2=l2.sort()\n",
    "if len(str_1)==len(str_2):\n",
    "    if s1 == s2:\n",
    "        print('Enter word are Anagram')\n",
    "    else:\n",
    "        print('Enter word are not Anagram')\n",
    "else:\n",
    "    print('Enter word in not appropriate')"
   ]
  },
  {
   "cell_type": "code",
   "execution_count": 24,
   "id": "3866d3de",
   "metadata": {},
   "outputs": [
    {
     "name": "stdout",
     "output_type": "stream",
     "text": [
      "Enter number: 55\n",
      "55 is not a Perfect number\n"
     ]
    }
   ],
   "source": [
    "# 9. An integer, n, is said to be perfect when the sum of all of the proper divisors of n is equal to n. For example, 28 is a perfect number because its proper divisors are 1, 2, 4, 7 and 14, and 1 + 2 + 4 + 7 + 14 = 28. Write a program that determines whether or not a positive integer is perfect. Your program will accept a number from the user. If that number is a perfect number then your program will display true. Otherwise it will display false.\n",
    "\n",
    "def is_perfect(n):\n",
    "\n",
    "    perfect_sum = 0\n",
    "    \n",
    "    for i in range(1,n):\n",
    "        if n%i==0:\n",
    "            perfect_sum += i\n",
    "\n",
    "    return perfect_sum == n\n",
    "\n",
    "\n",
    "number = int(input('Enter number: '))\n",
    "\n",
    "\n",
    "if is_perfect(number):\n",
    "    print(number,' is Perfect Number')\n",
    "else:\n",
    "    print(number,'is not a Perfect number')"
   ]
  },
  {
   "cell_type": "code",
   "execution_count": 29,
   "id": "5f30583b",
   "metadata": {},
   "outputs": [
    {
     "name": "stdout",
     "output_type": "stream",
     "text": [
      "Capitals :  {'Telangana': 'Hyderabad', 'Andhra Pradesh': 'Hyderabad', 'Tamil Nadu': 'Chennai', 'Karnataka': 'Bengluru', 'Maharashtra': 'Mumbai'}\n",
      "Telangana:Hyderabad\n",
      "Andhra Pradesh:Hyderabad\n",
      "Tamil Nadu:Chennai\n",
      "Karnataka:Bengluru\n",
      "Maharashtra:Mumbai\n",
      "Enter the Key value & the capital for the same is: Karnataka\n",
      "The capital is:  Bengluru\n"
     ]
    }
   ],
   "source": [
    "# 10. Write a program that finds all of the keys in a dictionary that map to a specific value. The program will take the value to search for as its input. It will display a (possibly empty) list of keys from the dictionary that map to the provided value.\n",
    "\n",
    "capitals={'Telangana':'Hyderabad','Andhra Pradesh':'Hyderabad','Tamil Nadu':'Chennai','Karnataka':'Bengluru','Maharashtra':'Mumbai'}\n",
    "print('Capitals : ',capitals)\n",
    "\n",
    "for i in capitals:\n",
    "    print(i,end=(':'))\n",
    "    print(capitals[i])\n",
    "\n",
    "cap=input('Enter the Key value & the capital for the same is: ')\n",
    "print('The capital is: ',capitals[cap])\n",
    "\n"
   ]
  }
 ],
 "metadata": {
  "kernelspec": {
   "display_name": "Python 3",
   "language": "python",
   "name": "python3"
  },
  "language_info": {
   "codemirror_mode": {
    "name": "ipython",
    "version": 3
   },
   "file_extension": ".py",
   "mimetype": "text/x-python",
   "name": "python",
   "nbconvert_exporter": "python",
   "pygments_lexer": "ipython3",
   "version": "3.8.8"
  }
 },
 "nbformat": 4,
 "nbformat_minor": 5
}
