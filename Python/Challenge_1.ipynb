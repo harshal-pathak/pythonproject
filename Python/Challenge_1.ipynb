{
 "cells": [
  {
   "cell_type": "code",
   "execution_count": 2,
   "id": "8ce60266",
   "metadata": {},
   "outputs": [
    {
     "name": "stdout",
     "output_type": "stream",
     "text": [
      "Harshal Pathak\n",
      "harshalravindrapathak@gmail\n",
      "         \n"
     ]
    }
   ],
   "source": [
    "print('''Harshal Pathak\n",
    "harshalravindrapathak@gmail\n",
    "         ''')"
   ]
  },
  {
   "cell_type": "code",
   "execution_count": 1,
   "id": "886a5e9d",
   "metadata": {},
   "outputs": [
    {
     "name": "stdout",
     "output_type": "stream",
     "text": [
      "Enter Your Name Harshal\n",
      "Hello  Harshal\n"
     ]
    }
   ],
   "source": [
    "str=input('Enter Your Name ')\n",
    "print('Hello ',str)\n"
   ]
  },
  {
   "cell_type": "code",
   "execution_count": 2,
   "id": "83bff872",
   "metadata": {},
   "outputs": [
    {
     "name": "stdout",
     "output_type": "stream",
     "text": [
      "Enter radius of cicrcle :2\n",
      "Area of Circle is :  12.56\n",
      "Circumference of circle is :  12.56\n"
     ]
    }
   ],
   "source": [
    "r=float(input('Enter radius of cicrcle :'))\n",
    "a=3.14*r**2\n",
    "c=2*3.14*r\n",
    "print('Area of Circle is : ',a)\n",
    "print('Circumference of circle is : ',c)\n"
   ]
  },
  {
   "cell_type": "code",
   "execution_count": 6,
   "id": "8c4bdb0d",
   "metadata": {},
   "outputs": [
    {
     "name": "stdout",
     "output_type": "stream",
     "text": [
      "Enter length of rectangle 2\n",
      "Enter breadth of rectangle3\n",
      "Area of Rectangle is :  6.0\n",
      "Perimeter of Rectangle is :  10.0\n"
     ]
    }
   ],
   "source": [
    "l=float(input('Enter length of rectangle '))\n",
    "b=float(input('Enter breadth of rectangle'))\n",
    "a=l*b\n",
    "p=(l*2)+(b*2)\n",
    "print('Area of Rectangle is : ',a)\n",
    "print('Perimeter of Rectangle is : ',p)"
   ]
  },
  {
   "cell_type": "code",
   "execution_count": 9,
   "id": "3dbd42a6",
   "metadata": {},
   "outputs": [
    {
     "name": "stdout",
     "output_type": "stream",
     "text": [
      "Enter the side of square 2\n",
      "Area of square is :  4.0\n",
      "Perimeter of square is :  8.0\n"
     ]
    }
   ],
   "source": [
    "s=float(input('Enter the side of square '))\n",
    "a=s*s\n",
    "p=s*4\n",
    "print('Area of square is : ',a)\n",
    "print('Perimeter of square is : ',p)"
   ]
  },
  {
   "cell_type": "code",
   "execution_count": 1,
   "id": "44d9537f",
   "metadata": {},
   "outputs": [
    {
     "name": "stdout",
     "output_type": "stream",
     "text": [
      "Enter a temp in Fahrenheit100\n",
      "Temp is in centigrade is :  37.78\n",
      "Enter a temp in centigrade 37.8\n",
      "Temp is in Farhenheit is :  100.04\n"
     ]
    }
   ],
   "source": [
    "f=float(input('Enter a temp in Fahrenheit'))\n",
    "c=(f-32)/1.8\n",
    "c=round(c,2)\n",
    "print('Temp is in centigrade is : ',c)\n",
    "c=float(input('Enter a temp in centigrade '))\n",
    "f=(c*1.8)+32\n",
    "f=round(f,2)\n",
    "print('Temp is in Farhenheit is : ',f)\n"
   ]
  },
  {
   "cell_type": "code",
   "execution_count": 11,
   "id": "30e49513",
   "metadata": {},
   "outputs": [
    {
     "name": "stdout",
     "output_type": "stream",
     "text": [
      "Enter First complex number 2+3j\n",
      "Enter Second complex number 1+2j\n",
      "Addition of two complex number :  (3+5j)\n",
      "Subtraction of two complex number :  (1+1j)\n",
      "Multiplication of two complex number :  (-4+7j)\n"
     ]
    }
   ],
   "source": [
    "a=complex(input('Enter First complex number '))\n",
    "b=complex(input('Enter Second complex number '))\n",
    "add=a+b\n",
    "sub=a-b\n",
    "mult=a*b\n",
    "print('Addition of two complex number : ',add)\n",
    "print('Subtraction of two complex number : ',sub)\n",
    "print('Multiplication of two complex number : ',mult)"
   ]
  },
  {
   "cell_type": "code",
   "execution_count": 12,
   "id": "6bab2f25",
   "metadata": {},
   "outputs": [
    {
     "name": "stdout",
     "output_type": "stream",
     "text": [
      "Name of employee : Harshal\n",
      "Basic salary of employee : 50000\n",
      "Gross salary of the employee is :  80000.0\n"
     ]
    }
   ],
   "source": [
    "n=input('Name of employee : ')\n",
    "sal=float(input('Basic salary of employee : '))\n",
    "g=sal+(0.4*sal)+(0.2*sal)\n",
    "print('Gross salary of the employee is : ',g)"
   ]
  },
  {
   "cell_type": "code",
   "execution_count": 17,
   "id": "73e15712",
   "metadata": {},
   "outputs": [
    {
     "name": "stdout",
     "output_type": "stream",
     "text": [
      "Enter a positive number: 5\n",
      "The sum of first n positive number is:   15.0\n"
     ]
    }
   ],
   "source": [
    "n=int(input('Enter a positive number: '))\n",
    "s=(((n)*(n+1))/2)\n",
    "print('The sum of first n positive number is:  ',s)"
   ]
  },
  {
   "cell_type": "code",
   "execution_count": 5,
   "id": "8db5ba19",
   "metadata": {},
   "outputs": [
    {
     "name": "stdout",
     "output_type": "stream",
     "text": [
      "Enter the value of a: 7\n",
      "Enter the value of b: 2\n",
      "Sum of a & b is:  9\n",
      "The difference when b subtracted from a is:  -5\n",
      "Product of a & b is:  14\n",
      "Quotient when a divided by b is:  3.5\n",
      "Reminder when a divided by b is:  3\n",
      "The result of a^b is:  49\n"
     ]
    }
   ],
   "source": [
    "a=int(input('Enter the value of a: '))\n",
    "b=int(input('Enter the value of b: '))\n",
    "s=a+b\n",
    "su=b-a\n",
    "pr=a*b\n",
    "qu=a/b\n",
    "re=a//b\n",
    "ex=a**b\n",
    "print('Sum of a & b is: ',s)\n",
    "print('The difference when b subtracted from a is: ',su)\n",
    "print('Product of a & b is: ',pr)\n",
    "print('Quotient when a divided by b is: ',qu)\n",
    "print('Reminder when a divided by b is: ',re)\n",
    "print('The result of a^b is: ',ex)"
   ]
  },
  {
   "cell_type": "code",
   "execution_count": null,
   "id": "63b27372",
   "metadata": {},
   "outputs": [],
   "source": []
  }
 ],
 "metadata": {
  "kernelspec": {
   "display_name": "Python 3",
   "language": "python",
   "name": "python3"
  },
  "language_info": {
   "codemirror_mode": {
    "name": "ipython",
    "version": 3
   },
   "file_extension": ".py",
   "mimetype": "text/x-python",
   "name": "python",
   "nbconvert_exporter": "python",
   "pygments_lexer": "ipython3",
   "version": "3.8.8"
  }
 },
 "nbformat": 4,
 "nbformat_minor": 5
}
