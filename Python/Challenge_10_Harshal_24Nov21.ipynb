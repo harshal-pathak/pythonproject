{
 "cells": [
  {
   "cell_type": "code",
   "execution_count": 1,
   "id": "cc4a6dec",
   "metadata": {},
   "outputs": [],
   "source": [
    "import numpy as np"
   ]
  },
  {
   "cell_type": "code",
   "execution_count": 2,
   "id": "36efefe8",
   "metadata": {},
   "outputs": [
    {
     "name": "stdout",
     "output_type": "stream",
     "text": [
      "[[1. 2. 3. 4. 5. 6.]]\n",
      "float64\n"
     ]
    }
   ],
   "source": [
    "# Q-1. Create two numpy arrays. The first array, called arr1 should be of one dimension and consist of six elements of float type. The second array, called arr2 should be of two dimensions and each sub-array should consist of 5 elements of string type. Display these two numpy arrays.\n",
    "\n",
    "arr1 = np.array([[1.0,2.0,3.0,4.0,5.0,6.0]])\n",
    "print(arr1)\n",
    "print(arr1.dtype)"
   ]
  },
  {
   "cell_type": "code",
   "execution_count": 3,
   "id": "648e0d90",
   "metadata": {},
   "outputs": [
    {
     "name": "stdout",
     "output_type": "stream",
     "text": [
      "[['a' 'b' 'c' 'd' 'e']\n",
      " ['f' 'g' 'h' 'i' 'j']\n",
      " ['k' 'l' 'm' 'n' 'o']]\n",
      "<U1\n"
     ]
    }
   ],
   "source": [
    "arr2 = np.array([['a','b','c','d','e'],['f','g','h','i','j'],['k','l','m','n','o']])\n",
    "print(arr2)\n",
    "print(arr2.dtype)"
   ]
  },
  {
   "cell_type": "code",
   "execution_count": 4,
   "id": "f45613ca",
   "metadata": {},
   "outputs": [
    {
     "name": "stdout",
     "output_type": "stream",
     "text": [
      "float64\n",
      "(1, 6)\n",
      "<U1\n",
      "(3, 5)\n"
     ]
    }
   ],
   "source": [
    "# Q-2. For the arrays arr1 and arr2 created in Q.No.1, display the following properties: data type and dimensions. Reshape arr1 into a two dimensional array of 2 rows and three columns, and display the reshaped array. Similarly, reshape arr2 into a single dimensional array and display the reshaped array.\n",
    "\n",
    "print(arr1.dtype)\n",
    "print(arr1.shape)\n",
    "print(arr2.dtype)\n",
    "print(arr2.shape)"
   ]
  },
  {
   "cell_type": "code",
   "execution_count": 5,
   "id": "227782df",
   "metadata": {},
   "outputs": [
    {
     "name": "stdout",
     "output_type": "stream",
     "text": [
      "[[1. 2. 3.]\n",
      " [4. 5. 6.]]\n"
     ]
    }
   ],
   "source": [
    "arr_td = arr1.reshape(2,3)\n",
    "print(arr_td)"
   ]
  },
  {
   "cell_type": "code",
   "execution_count": 6,
   "id": "7fe83c39",
   "metadata": {},
   "outputs": [
    {
     "name": "stdout",
     "output_type": "stream",
     "text": [
      "[['a' 'b' 'c' 'd' 'e' 'f' 'g' 'h' 'i' 'j' 'k' 'l' 'm' 'n' 'o']]\n"
     ]
    }
   ],
   "source": [
    "arr_sd = arr2.reshape(1,15)\n",
    "print(arr_sd)"
   ]
  },
  {
   "cell_type": "code",
   "execution_count": 7,
   "id": "8f521058",
   "metadata": {},
   "outputs": [
    {
     "name": "stdout",
     "output_type": "stream",
     "text": [
      "[[0. 0. 0. 0.]\n",
      " [0. 0. 0. 0.]\n",
      " [0. 0. 0. 0.]]\n"
     ]
    }
   ],
   "source": [
    "# Q-3. Create a two dimensional array called arr3, of 3 rows and 4 columns which is initialized to zeroes. Create another single dimensional array called arr4, with 6 elements and which is initialized to ones. The type of arr4 is int.\n",
    "\n",
    "arr3 = np.zeros([3,4],dtype=float)\n",
    "print(arr3)"
   ]
  },
  {
   "cell_type": "code",
   "execution_count": 8,
   "id": "3fe8d0ed",
   "metadata": {},
   "outputs": [
    {
     "name": "stdout",
     "output_type": "stream",
     "text": [
      "[[1 1 1 1 1 1]]\n"
     ]
    }
   ],
   "source": [
    "arr4 = np.ones([1,6],dtype=int)\n",
    "print(arr4)"
   ]
  },
  {
   "cell_type": "code",
   "execution_count": 9,
   "id": "3f5a6c05",
   "metadata": {},
   "outputs": [
    {
     "name": "stdout",
     "output_type": "stream",
     "text": [
      "[10, 20, 30, 40, 50]\n",
      "Array using list function\n",
      "[10. 20. 30. 40. 50.]\n"
     ]
    }
   ],
   "source": [
    "# Q-4. Create a list called list1 with the elements 10,20,30,40,50. Now, create a numpy array called arr5 from list1, using the method asarray. The data type of arr5 is float. Similarly, create another array called arr6, from list1, using the method fromiter, whose data type is int. Display arr5 and arr6.\n",
    " \n",
    "lis = [10,20,30,40,50]\n",
    "print(lis)\n",
    "arr5 = np.asarray(lis,dtype=float)\n",
    "print('Array using list function')\n",
    "print(arr5)"
   ]
  },
  {
   "cell_type": "code",
   "execution_count": 10,
   "id": "9d604fd3",
   "metadata": {},
   "outputs": [
    {
     "name": "stdout",
     "output_type": "stream",
     "text": [
      "10\n",
      "20\n",
      "30\n",
      "40\n",
      "50\n",
      "Array using iter function\n",
      "[10 20 30 40 50]\n"
     ]
    }
   ],
   "source": [
    "for i in lis:\n",
    "    print(i)\n",
    "arr6 = np.fromiter(lis,dtype=int)\n",
    "print('Array using iter function')\n",
    "print(arr6)"
   ]
  },
  {
   "cell_type": "code",
   "execution_count": 11,
   "id": "a3354e87",
   "metadata": {},
   "outputs": [
    {
     "name": "stdout",
     "output_type": "stream",
     "text": [
      "[12 15 18 21 24 27 30 33 36 39 42 45 48 51 54 57 60 63 66 69 72 75 78 81\n",
      " 84 87 90 93 96]\n"
     ]
    }
   ],
   "source": [
    "# Q-5. Create a numpy array called arr7 using the method arange. The starting value of this array is 12 and ending value is 99, with a step size of 3. Use the linspace method to create another array called arr8, where the starting value is 12 and ending value is 99 and which contains 50 evenly spaced elements.\n",
    "\n",
    "arr7 = np.arange(12,99,3,dtype=int)\n",
    "print(arr7)\n"
   ]
  },
  {
   "cell_type": "code",
   "execution_count": 12,
   "id": "eaa24607",
   "metadata": {},
   "outputs": [
    {
     "name": "stdout",
     "output_type": "stream",
     "text": [
      "[12.         13.7755102  15.55102041 17.32653061 19.10204082 20.87755102\n",
      " 22.65306122 24.42857143 26.20408163 27.97959184 29.75510204 31.53061224\n",
      " 33.30612245 35.08163265 36.85714286 38.63265306 40.40816327 42.18367347\n",
      " 43.95918367 45.73469388 47.51020408 49.28571429 51.06122449 52.83673469\n",
      " 54.6122449  56.3877551  58.16326531 59.93877551 61.71428571 63.48979592\n",
      " 65.26530612 67.04081633 68.81632653 70.59183673 72.36734694 74.14285714\n",
      " 75.91836735 77.69387755 79.46938776 81.24489796 83.02040816 84.79591837\n",
      " 86.57142857 88.34693878 90.12244898 91.89795918 93.67346939 95.44897959\n",
      " 97.2244898  99.        ]\n"
     ]
    }
   ],
   "source": [
    "arr8 = np.linspace(12,99,50)\n",
    "print(arr8)"
   ]
  },
  {
   "cell_type": "code",
   "execution_count": 13,
   "id": "9d057f79",
   "metadata": {},
   "outputs": [
    {
     "name": "stdout",
     "output_type": "stream",
     "text": [
      "[['a' 'b' 'c' 'd' 'e']\n",
      " ['f' 'g' 'h' 'i' 'j']\n",
      " ['k' 'l' 'm' 'n' 'o']]\n",
      "\n",
      "\n",
      "[['a' 'b' 'c' 'd' 'e']]\n",
      "\n",
      "\n",
      "i\n",
      "\n",
      "\n",
      "['f' 'g' 'h' 'i' 'j']\n"
     ]
    }
   ],
   "source": [
    "# Q-6. In the array arr2 defined in Q.No. 1, what is the output of the following statements: print(arr2), print(arr2[0:1]), print(arr2[1][3]), print (arr2[1])\n",
    "\n",
    "print(arr2)\n",
    "print('\\n')\n",
    "print(arr2[0:1])\n",
    "print('\\n')\n",
    "print(arr2[1][3])\n",
    "print('\\n')\n",
    "print (arr2[1])\n",
    "\n"
   ]
  },
  {
   "cell_type": "code",
   "execution_count": 17,
   "id": "472790ae",
   "metadata": {},
   "outputs": [
    {
     "name": "stdout",
     "output_type": "stream",
     "text": [
      "[[101 322 768]\n",
      " [233 124 390]\n",
      " [534 122 216]]\n",
      "\n",
      " [101 322 390 122]\n"
     ]
    }
   ],
   "source": [
    "# Q-7. Create a two dimensional array called arr9 with the following elements: [101, 322, 768], [233, 124, 390], [534, 122, 216]. From arr9, create an array called arr10 which contains the elements 101, 322, 390, 122 using advanced integer indexing. Create another array called arr11 which contains elements of first and second rows, and second and third columns using slicing operations.\n",
    "\n",
    "arr9 = np.array([[101, 322, 768], [233, 124, 390], [534, 122, 216]])\n",
    "print(arr9)\n",
    "arr10 = arr9[[0,0,1,2],[0,1,2,1]]\n",
    "print('\\n',arr10)"
   ]
  },
  {
   "cell_type": "code",
   "execution_count": 18,
   "id": "2cb86ed9",
   "metadata": {},
   "outputs": [
    {
     "name": "stdout",
     "output_type": "stream",
     "text": [
      "[[322 768]\n",
      " [124 390]]\n"
     ]
    }
   ],
   "source": [
    "arr11 =arr9[0:2,(1,2)]\n",
    "print(arr11)"
   ]
  },
  {
   "cell_type": "code",
   "execution_count": 19,
   "id": "a32f423e",
   "metadata": {
    "scrolled": true
   },
   "outputs": [
    {
     "name": "stdout",
     "output_type": "stream",
     "text": [
      "[[101 322 768]\n",
      " [233 124 390]\n",
      " [534 122 216]]\n",
      "\n",
      " value greater than 200:  [322 768 233 390 534 216]\n"
     ]
    }
   ],
   "source": [
    "# Q-8. From array arr9 created in Q.No. 7, find all elements greater than 200 using boolean indexing, find all non-NaN elements, and find all non-float elements. Find the result of adding arrays arr9 and another array of 3 elements, using the concept of broadcasting.\n",
    "\n",
    "print(arr9)\n",
    "print('\\n value greater than 200: ',arr9[arr9>200])"
   ]
  },
  {
   "cell_type": "code",
   "execution_count": 20,
   "id": "74cb5448",
   "metadata": {},
   "outputs": [
    {
     "name": "stdout",
     "output_type": "stream",
     "text": [
      "All NaN element :  [101 322 768 233 124 390 534 122 216]\n"
     ]
    }
   ],
   "source": [
    "print('All NaN element : ',arr9[~np.isnan(arr9)])"
   ]
  },
  {
   "cell_type": "code",
   "execution_count": 21,
   "id": "d0fcbea1",
   "metadata": {},
   "outputs": [
    {
     "name": "stdout",
     "output_type": "stream",
     "text": [
      "All float type value [[[101 322 768]\n",
      "  [233 124 390]\n",
      "  [534 122 216]]]\n"
     ]
    }
   ],
   "source": [
    "print('All float type value',arr9[arr9.dtype != 'float'])"
   ]
  },
  {
   "cell_type": "code",
   "execution_count": 22,
   "id": "dd46c39a",
   "metadata": {},
   "outputs": [
    {
     "name": "stdout",
     "output_type": "stream",
     "text": [
      "[[101 322 768]\n",
      " [233 124 390]\n",
      " [534 122 216]]\n",
      "\n",
      "\n",
      "[[10 20 30]]\n",
      "\n",
      "\n",
      "Addition of array : \n",
      " [[111 342 798]\n",
      " [243 144 420]\n",
      " [544 142 246]]\n"
     ]
    }
   ],
   "source": [
    "print(arr9)\n",
    "print('\\n')\n",
    "arr12 = np.array([[10,20,30]])\n",
    "print(arr12)\n",
    "print('\\n')\n",
    "print('Addition of array : \\n',arr9+arr12)"
   ]
  },
  {
   "cell_type": "code",
   "execution_count": 23,
   "id": "446a2c72",
   "metadata": {},
   "outputs": [
    {
     "name": "stdout",
     "output_type": "stream",
     "text": [
      "Transpose of array :\n",
      " [[101 233 534]\n",
      " [322 124 122]\n",
      " [768 390 216]]\n"
     ]
    }
   ],
   "source": [
    "# Q-9. For the array arr9, find its transpose. Find the result of joining the arrays arr1 and arr4 along axis 0.\n",
    "\n",
    "print('Transpose of array :\\n',arr9.T)"
   ]
  },
  {
   "cell_type": "code",
   "execution_count": 24,
   "id": "a2923ed1",
   "metadata": {},
   "outputs": [
    {
     "name": "stdout",
     "output_type": "stream",
     "text": [
      "Joining the two arrays arr 1 & arr 4 along with axis 0\n",
      "[[1. 2. 3. 4. 5. 6.]\n",
      " [1. 1. 1. 1. 1. 1.]]\n"
     ]
    }
   ],
   "source": [
    "print('Joining the two arrays arr 1 & arr 4 along with axis 0')\n",
    "print (np.concatenate((arr1,arr4),axis=0))"
   ]
  },
  {
   "cell_type": "code",
   "execution_count": 25,
   "id": "7b8eb759",
   "metadata": {},
   "outputs": [
    {
     "name": "stdout",
     "output_type": "stream",
     "text": [
      "[[1 2]\n",
      " [3 4]]\n"
     ]
    }
   ],
   "source": [
    "# Q-10. Using any two 2-dimensional arrays, demonstrate the working of the methods, hstack, vstack, hsplit and vsplit.\n",
    "\n",
    "arr13 = np.array([[1,2],[3,4]])\n",
    "print(arr13)"
   ]
  },
  {
   "cell_type": "code",
   "execution_count": 26,
   "id": "bf95ec3b",
   "metadata": {},
   "outputs": [
    {
     "name": "stdout",
     "output_type": "stream",
     "text": [
      "[[1 2 1 2]\n",
      " [3 4 3 4]]\n",
      "[[1 2]\n",
      " [3 4]\n",
      " [1 2]\n",
      " [3 4]]\n"
     ]
    }
   ],
   "source": [
    "arr13_hstack = np.hstack((arr13,arr13))\n",
    "print(arr13_hstack)\n",
    "arr13_vstack = np.vstack((arr13,arr13))\n",
    "print(arr13_vstack)"
   ]
  },
  {
   "cell_type": "code",
   "execution_count": 27,
   "id": "15335fd1",
   "metadata": {},
   "outputs": [
    {
     "name": "stdout",
     "output_type": "stream",
     "text": [
      "[array([[1],\n",
      "       [3]]), array([[2],\n",
      "       [4]])]\n",
      "[array([[1, 2]]), array([[3, 4]])]\n"
     ]
    }
   ],
   "source": [
    "arr13_hsplit = np.hsplit(arr13,2)\n",
    "print(arr13_hsplit)\n",
    "arr13_vsplit = np.vsplit(arr13,2)\n",
    "print(arr13_vsplit)"
   ]
  },
  {
   "cell_type": "code",
   "execution_count": null,
   "id": "48c68ed4",
   "metadata": {},
   "outputs": [],
   "source": []
  }
 ],
 "metadata": {
  "kernelspec": {
   "display_name": "Python 3",
   "language": "python",
   "name": "python3"
  },
  "language_info": {
   "codemirror_mode": {
    "name": "ipython",
    "version": 3
   },
   "file_extension": ".py",
   "mimetype": "text/x-python",
   "name": "python",
   "nbconvert_exporter": "python",
   "pygments_lexer": "ipython3",
   "version": "3.8.8"
  }
 },
 "nbformat": 4,
 "nbformat_minor": 5
}
