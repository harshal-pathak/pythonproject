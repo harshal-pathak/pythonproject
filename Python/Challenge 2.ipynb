{
 "cells": [
  {
   "cell_type": "markdown",
   "id": "ac9ea82f",
   "metadata": {},
   "source": [
    "# Challenge - 2"
   ]
  },
  {
   "cell_type": "markdown",
   "id": "42b58cb9",
   "metadata": {},
   "source": [
    "## Q - 1"
   ]
  },
  {
   "cell_type": "code",
   "execution_count": 2,
   "id": "0a25671d",
   "metadata": {},
   "outputs": [
    {
     "name": "stdout",
     "output_type": "stream",
     "text": [
      "The string 1 is :  Hello World\n",
      "The string 2 is :  Hello World !\n",
      "The string 3 is :  \n",
      "Hello World \n",
      "Hello World !\n",
      "\n",
      "The type of sting 1 is :  <class 'str'> The type of string 2 is :  <class 'str'> The type of string 3 is :  <class 'str'>\n"
     ]
    }
   ],
   "source": [
    "str1 = 'Hello World'\n",
    "str2 =\"Hello World !\"\n",
    "str3 = '''\n",
    "Hello World \n",
    "Hello World !\n",
    "'''\n",
    "print('The string 1 is : ',str1)\n",
    "print('The string 2 is : ',str2)\n",
    "print('The string 3 is : ',str3)\n",
    "print('The type of sting 1 is : ',type(str1),'The type of string 2 is : ',type(str2),'The type of string 3 is : ',type(str3))"
   ]
  },
  {
   "cell_type": "markdown",
   "id": "6b8aa95b",
   "metadata": {},
   "source": [
    "## Q - 2"
   ]
  },
  {
   "cell_type": "code",
   "execution_count": 3,
   "id": "37935694",
   "metadata": {},
   "outputs": [
    {
     "name": "stdout",
     "output_type": "stream",
     "text": [
      "Hello World!\n",
      "H W\n",
      "o o\n",
      "llo rld!\n",
      "!dlroW olleH\n",
      " World!\n",
      "Hello\n"
     ]
    }
   ],
   "source": [
    "str='Hello World!'\n",
    "print(str)\n",
    "print(str[0],str[6])\n",
    "print (str[4],str[7])\n",
    "print(str[2:5],str[8:])\n",
    "print(str[::-1])\n",
    "print(str[5:])\n",
    "print(str[:5])"
   ]
  },
  {
   "cell_type": "markdown",
   "id": "9559d122",
   "metadata": {},
   "source": [
    "## Q - 3"
   ]
  },
  {
   "cell_type": "code",
   "execution_count": 4,
   "id": "5c34de28",
   "metadata": {},
   "outputs": [
    {
     "name": "stdout",
     "output_type": "stream",
     "text": [
      "Welcome\n",
      "Hello World!\n",
      "Now is the best time ever!\n",
      "500017\n",
      "IPhone 6\n",
      "Check only alphabets from str1, str2, str3, str4, str5\n",
      "True\n",
      "False\n",
      "False\n",
      "False\n",
      "False\n",
      "Check only digits from str1, str2, str3, str4, str5\n",
      "False\n",
      "False\n",
      "False\n",
      "True\n",
      "False\n",
      "Check only alpha numeric from str1, str2, str3, str4, str5\n",
      "True\n",
      "False\n",
      "False\n",
      "True\n",
      "False\n",
      "Check which are is lowercase from str1, str2, str3,str4, str5\n",
      "False\n",
      "False\n",
      "False\n",
      "False\n",
      "False\n",
      "Check which are uppercase from str1, str2,str3,str4,str5\n",
      "False\n",
      "False\n",
      "False\n",
      "False\n",
      "False\n",
      "str3 begin or ends with \"Now\" str3 : Now is the best time ever!\n",
      "True\n",
      "False\n"
     ]
    }
   ],
   "source": [
    "str1 = 'Welcome'\n",
    "str2 = 'Hello World!'\n",
    "str3 = 'Now is the best time ever!' \n",
    "str4 = '500017'\n",
    "str5 = 'IPhone 6'\n",
    "\n",
    "print(str1)\n",
    "print(str2)\n",
    "print(str3)\n",
    "print(str4)\n",
    "print(str5)\n",
    "\n",
    "print('Check only alphabets from str1, str2, str3, str4, str5')\n",
    "print(str1.isalpha())\n",
    "print(str2.isalpha())\n",
    "print(str3.isalpha())\n",
    "print(str4.isalpha())\n",
    "print(str5.isalpha())\n",
    "\n",
    "print('Check only digits from str1, str2, str3, str4, str5')\n",
    "print(str1.isdigit())\n",
    "print(str2.isdigit())\n",
    "print(str3.isdigit())\n",
    "print(str4.isdigit())\n",
    "print(str5.isdigit())\n",
    "\n",
    "print('Check only alpha numeric from str1, str2, str3, str4, str5')\n",
    "print(str1.isalnum())\n",
    "print(str2.isalnum())\n",
    "print(str3.isalnum())\n",
    "print(str4.isalnum())\n",
    "print(str5.isalnum())\n",
    "\n",
    "print('Check which are is lowercase from str1, str2, str3,str4, str5')\n",
    "print(str1.islower())\n",
    "print(str2.islower())\n",
    "print(str3.islower())\n",
    "print(str4.islower())\n",
    "print(str5.islower())\n",
    "\n",
    "print('Check which are uppercase from str1, str2,str3,str4,str5')\n",
    "print(str1.isupper())\n",
    "print(str2.isupper())\n",
    "print(str3.isupper())\n",
    "print(str4.isupper())\n",
    "print(str5.isupper())\n",
    "\n",
    "print('str3 begin or ends with \"Now\" str3 :',str3)\n",
    "print(str3.startswith('Now'))\n",
    "print(str3.endswith('Now'))\n",
    "\n"
   ]
  },
  {
   "cell_type": "markdown",
   "id": "f5dc137b",
   "metadata": {},
   "source": [
    "## Q - 4"
   ]
  },
  {
   "cell_type": "code",
   "execution_count": 5,
   "id": "5dfc1325",
   "metadata": {},
   "outputs": [
    {
     "name": "stdout",
     "output_type": "stream",
     "text": [
      "Enter your name - welcome harshal\n",
      "Title case  Welcome Harshal\n"
     ]
    }
   ],
   "source": [
    "n=input('Enter your name - ')\n",
    "print('Title case ',n.title())"
   ]
  },
  {
   "cell_type": "markdown",
   "id": "3c154285",
   "metadata": {},
   "source": [
    "## Q - 5 "
   ]
  },
  {
   "cell_type": "code",
   "execution_count": 6,
   "id": "224436d2",
   "metadata": {},
   "outputs": [
    {
     "name": "stdout",
     "output_type": "stream",
     "text": [
      "Enter an int number5\n",
      "Int number is Odd\n"
     ]
    }
   ],
   "source": [
    "num = int(input('Enter an int number'))\n",
    "if num % 2 == 0 :\n",
    "    print('Int number is Even')\n",
    "    \n",
    "else :\n",
    "    print('Int number is Odd')\n"
   ]
  },
  {
   "cell_type": "markdown",
   "id": "c1e18e99",
   "metadata": {},
   "source": [
    "## Q - 6"
   ]
  },
  {
   "cell_type": "code",
   "execution_count": 9,
   "id": "e891a8c1",
   "metadata": {},
   "outputs": [
    {
     "name": "stdout",
     "output_type": "stream",
     "text": [
      "Enter a lettre of Alphabets u\n",
      "Entered letter of alphabets is Vowel\n"
     ]
    }
   ],
   "source": [
    "str7= input('Enter a lettre of Alphabets ')\n",
    "\n",
    "if str7 == 'a' or str7 == 'e' or str7 == 'i' or str7 == 'o' or str7 == 'u':\n",
    "    print ('Entered letter of alphabets is Vowel')\n",
    "    \n",
    "else :\n",
    "    print('Entered letter of alphabet is Consonent')"
   ]
  },
  {
   "cell_type": "markdown",
   "id": "a333597d",
   "metadata": {},
   "source": [
    "## Q - 7"
   ]
  },
  {
   "cell_type": "code",
   "execution_count": 10,
   "id": "eb8a2cfd",
   "metadata": {},
   "outputs": [
    {
     "name": "stdout",
     "output_type": "stream",
     "text": [
      "Enter the name of Month: September\n",
      "The entered month is having 30 days\n"
     ]
    }
   ],
   "source": [
    "mon = input('Enter the name of Month: ')\n",
    "if mon =='January' or mon =='March' or mon =='May' or mon =='July' or mon =='August' or mon =='Octomber' or mon =='December':\n",
    "    print('The entered month is having 31 days')\n",
    "    \n",
    "elif mon =='April' or mon =='June' or mon =='September'or mon =='November':\n",
    "    print('The entered month is having 30 days')\n",
    "    \n",
    "elif mon =='February':\n",
    "    print('February is having 28 or 29 days depens on leap year')"
   ]
  },
  {
   "cell_type": "markdown",
   "id": "2da3e524",
   "metadata": {},
   "source": [
    "## Q - 8"
   ]
  },
  {
   "cell_type": "code",
   "execution_count": 11,
   "id": "39758ee7",
   "metadata": {},
   "outputs": [
    {
     "name": "stdout",
     "output_type": "stream",
     "text": [
      "Enter a side of triangle: 8\n",
      "Enter b side of triangle: 5\n",
      "Enter c side of triangle: 8\n",
      "The given trianle is Isoscale Triangle \n"
     ]
    }
   ],
   "source": [
    "a=int(input('Enter a side of triangle: '))\n",
    "b=int(input('Enter b side of triangle: '))\n",
    "c=int(input('Enter c side of triangle: '))\n",
    "if a == b == c :\n",
    "    print('The given triangle is Equilateral Triangle ')\n",
    "    \n",
    "elif (a == b and b != c) or (a == c and c != b) or (b  == c and c != a):\n",
    "    print ('The given trianle is Isoscale Triangle ')\n",
    "    \n",
    "elif a != b != c :\n",
    "    print('The given triangle is Scalene Triangle ')\n",
    "\n"
   ]
  },
  {
   "cell_type": "markdown",
   "id": "0c03612a",
   "metadata": {},
   "source": [
    "## Q - 9"
   ]
  },
  {
   "cell_type": "code",
   "execution_count": 12,
   "id": "98b4e61d",
   "metadata": {},
   "outputs": [
    {
     "name": "stdout",
     "output_type": "stream",
     "text": [
      "Enter a year: 2022\n",
      "Enterd year is not Leap Year\n"
     ]
    }
   ],
   "source": [
    "yr=int(input('Enter a year: '))\n",
    "if yr % 4 == 0 :\n",
    "    print('Enterd year is Leap Year')\n",
    "else :\n",
    "    print('Enterd year is not Leap Year')"
   ]
  },
  {
   "cell_type": "markdown",
   "id": "72af3fb1",
   "metadata": {},
   "source": [
    "## Q - 10"
   ]
  },
  {
   "cell_type": "code",
   "execution_count": 13,
   "id": "27ac7284",
   "metadata": {},
   "outputs": [
    {
     "name": "stdout",
     "output_type": "stream",
     "text": [
      "Enter the value of a: 2\n",
      "Enter the value of b: -3\n",
      "Enter the value of c: -7\n",
      "Two distinct real roots are:  2.7655644370746373 -1.2655644370746373\n"
     ]
    }
   ],
   "source": [
    "a=float(input('Enter the value of a: '))\n",
    "b=float(input('Enter the value of b: '))\n",
    "c=float(input('Enter the value of c: '))\n",
    "\n",
    "d = (b ** 2)-(4 * a * c)\n",
    "\n",
    "if d > 0 :\n",
    "    import math\n",
    "    d1 =(-b+math.sqrt(d))/(2*a)\n",
    "    \n",
    "    d2 =(-b-math.sqrt(d))/(2*a)\n",
    "    \n",
    "    print('Two distinct real roots are: ', d1, d2)\n",
    "    \n",
    "elif d == 0 :\n",
    "    \n",
    "    d3 = (-b)/(2 * a)\n",
    "    \n",
    "    print ('Two distinct equal and real roots are ', d3,d3)\n",
    "    \n",
    "else :\n",
    "    \n",
    "    print('The values are complex number')"
   ]
  },
  {
   "cell_type": "code",
   "execution_count": null,
   "id": "940c3d2a",
   "metadata": {},
   "outputs": [],
   "source": []
  }
 ],
 "metadata": {
  "kernelspec": {
   "display_name": "Python 3",
   "language": "python",
   "name": "python3"
  },
  "language_info": {
   "codemirror_mode": {
    "name": "ipython",
    "version": 3
   },
   "file_extension": ".py",
   "mimetype": "text/x-python",
   "name": "python",
   "nbconvert_exporter": "python",
   "pygments_lexer": "ipython3",
   "version": "3.8.8"
  }
 },
 "nbformat": 4,
 "nbformat_minor": 5
}
