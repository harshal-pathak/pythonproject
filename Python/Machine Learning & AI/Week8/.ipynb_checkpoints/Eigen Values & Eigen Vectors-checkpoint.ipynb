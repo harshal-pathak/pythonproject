{
 "cells": [
  {
   "cell_type": "code",
   "execution_count": null,
   "id": "bf85811d",
   "metadata": {},
   "outputs": [],
   "source": [
    "# Q-1. Calculate the Eigen value and Eigen vector for the following matrices and sort the Eigen vector in decreasing order of magnitude of Eigen values."
   ]
  },
  {
   "cell_type": "code",
   "execution_count": 1,
   "id": "cf414bde",
   "metadata": {},
   "outputs": [],
   "source": [
    "import numpy as np"
   ]
  },
  {
   "cell_type": "code",
   "execution_count": 9,
   "id": "acdff827",
   "metadata": {},
   "outputs": [],
   "source": [
    "A =np.array([[4,2,5],[2,6,2],[6,1,2]])"
   ]
  },
  {
   "cell_type": "code",
   "execution_count": 10,
   "id": "51ba52fd",
   "metadata": {},
   "outputs": [
    {
     "data": {
      "text/plain": [
       "array([[4, 2, 5],\n",
       "       [2, 6, 2],\n",
       "       [6, 1, 2]])"
      ]
     },
     "execution_count": 10,
     "metadata": {},
     "output_type": "execute_result"
    }
   ],
   "source": [
    "A"
   ]
  },
  {
   "cell_type": "code",
   "execution_count": 45,
   "id": "1895e3fb",
   "metadata": {},
   "outputs": [
    {
     "name": "stdout",
     "output_type": "stream",
     "text": [
      "Eigen Value: -2.538569841896429 Eigen Vectores are:\n",
      " [ 0.59754478  0.04752115 -0.80042612]\n",
      "Eigen Value: 10.086256400566329 Eigen Vectores are:\n",
      " [-0.62581291 -0.56795402 -0.53458996]\n",
      "Eigen Value: 4.452313441330103 Eigen Vectores are:\n",
      " [ 0.3003003  -0.87594531  0.3775441 ]\n"
     ]
    }
   ],
   "source": [
    "Eig_val,Eig_vec = np.linalg.eig(A)\n",
    "\n",
    "print('Eigen Value:',Eig_val[0],'Eigen Vectores are:\\n',Eig_vec[:,0])\n",
    "print('Eigen Value:',Eig_val[1],'Eigen Vectores are:\\n',Eig_vec[:,1])\n",
    "print('Eigen Value:',Eig_val[2],'Eigen Vectores are:\\n',Eig_vec[:,2])"
   ]
  },
  {
   "cell_type": "code",
   "execution_count": 20,
   "id": "0747410c",
   "metadata": {},
   "outputs": [],
   "source": [
    "B=np.array([[4,2,4],[2,6,2],[6,1,2]])"
   ]
  },
  {
   "cell_type": "code",
   "execution_count": 21,
   "id": "21f2d71c",
   "metadata": {},
   "outputs": [
    {
     "data": {
      "text/plain": [
       "array([[4, 2, 4],\n",
       "       [2, 6, 2],\n",
       "       [6, 1, 2]])"
      ]
     },
     "execution_count": 21,
     "metadata": {},
     "output_type": "execute_result"
    }
   ],
   "source": [
    "B"
   ]
  },
  {
   "cell_type": "code",
   "execution_count": 48,
   "id": "165a5490",
   "metadata": {},
   "outputs": [
    {
     "name": "stdout",
     "output_type": "stream",
     "text": [
      "Eigen Value: -1.9452181830875208 Eigen Vectores are:\n",
      " [ 0.53902619  0.07548528 -0.83889972]\n",
      "Eigen Value: 9.709539044358435 Eigen Vectores are:\n",
      " [-0.58779736 -0.60592357 -0.53605121]\n",
      "Eigen Value: 4.235679138729084 Eigen Vectores are:\n",
      " [ 0.30479966 -0.84456255  0.44024001]\n"
     ]
    }
   ],
   "source": [
    "Eig_val_B,Eig_vec_B = np.linalg.eig(B)\n",
    "\n",
    "print('Eigen Value:',Eig_val_B[0],'Eigen Vectores are:\\n',Eig_vec_B[:,0])\n",
    "print('Eigen Value:',Eig_val_B[1],'Eigen Vectores are:\\n',Eig_vec_B[:,1])\n",
    "print('Eigen Value:',Eig_val_B[2],'Eigen Vectores are:\\n',Eig_vec_B[:,2])"
   ]
  },
  {
   "cell_type": "code",
   "execution_count": 49,
   "id": "f4fd2266",
   "metadata": {},
   "outputs": [],
   "source": [
    "C=np.array([[4,2,5],[2,5,2],[6,1,2]])"
   ]
  },
  {
   "cell_type": "code",
   "execution_count": 50,
   "id": "a3f01dac",
   "metadata": {},
   "outputs": [
    {
     "data": {
      "text/plain": [
       "array([[4, 2, 5],\n",
       "       [2, 5, 2],\n",
       "       [6, 1, 2]])"
      ]
     },
     "execution_count": 50,
     "metadata": {},
     "output_type": "execute_result"
    }
   ],
   "source": [
    "C"
   ]
  },
  {
   "cell_type": "code",
   "execution_count": 51,
   "id": "5d7f94c1",
   "metadata": {},
   "outputs": [
    {
     "name": "stdout",
     "output_type": "stream",
     "text": [
      "Eigen Value: -2.5343645200506177 Eigen Vectores are:\n",
      " [ 0.59624933  0.05434002 -0.80095811]\n",
      "Eigen Value: 9.848373993649343 Eigen Vectores are:\n",
      " [-0.65457471 -0.50287543 -0.56448937]\n",
      "Eigen Value: 3.685990526401272 Eigen Vectores are:\n",
      " [ 0.24809842 -0.90472019  0.34630702]\n"
     ]
    }
   ],
   "source": [
    "Eig_val_C,Eig_vec_C = np.linalg.eig(C)\n",
    "\n",
    "print('Eigen Value:',Eig_val_C[0],'Eigen Vectores are:\\n',Eig_vec_C[:,0])\n",
    "print('Eigen Value:',Eig_val_C[1],'Eigen Vectores are:\\n',Eig_vec_C[:,1])\n",
    "print('Eigen Value:',Eig_val_C[2],'Eigen Vectores are:\\n',Eig_vec_C[:,2])"
   ]
  },
  {
   "cell_type": "code",
   "execution_count": null,
   "id": "b48c73c5",
   "metadata": {},
   "outputs": [],
   "source": [
    "# Q-2. Now think it would be better, if you have defined a function for the above operation that takes input as matrix and give the output desired in question 5. Create a function to do that."
   ]
  },
  {
   "cell_type": "code",
   "execution_count": 123,
   "id": "59fc1cd2",
   "metadata": {},
   "outputs": [],
   "source": [
    "def mat(matrix):\n",
    "    row = int(input('Enter the numbers of row: '))\n",
    "    col = int(input('Enter the numbers ofcolumn: '))\n",
    "    matrix=[]\n",
    "    for i in range(row):\n",
    "        loc=[]\n",
    "        for j in range(col):\n",
    "            num = int(input())\n",
    "            loc.append(num)\n",
    "        matrix.append(loc)\n",
    "    print(matrix)\n",
    "    \n",
    "    "
   ]
  },
  {
   "cell_type": "code",
   "execution_count": 132,
   "id": "f8faf794",
   "metadata": {},
   "outputs": [
    {
     "name": "stdout",
     "output_type": "stream",
     "text": [
      "Enter the numbers of row: 2\n",
      "Enter the numbers ofcolumn: 2\n",
      "1\n",
      "2\n",
      "3\n",
      "4\n",
      "[[1, 2], [3, 4]]\n",
      "Enter the numbers of row: 3\n",
      "Enter the numbers ofcolumn: 3\n",
      "1\n",
      "2\n",
      "3\n",
      "4\n",
      "5\n",
      "6\n",
      "7\n",
      "8\n",
      "9\n",
      "[[1, 2, 3], [4, 5, 6], [7, 8, 9]]\n"
     ]
    }
   ],
   "source": [
    "mat(A)\n",
    "mat(B)"
   ]
  },
  {
   "cell_type": "code",
   "execution_count": null,
   "id": "0ec8fcf5",
   "metadata": {},
   "outputs": [],
   "source": []
  },
  {
   "cell_type": "code",
   "execution_count": null,
   "id": "b5bf6dcc",
   "metadata": {},
   "outputs": [],
   "source": []
  }
 ],
 "metadata": {
  "kernelspec": {
   "display_name": "Python 3",
   "language": "python",
   "name": "python3"
  },
  "language_info": {
   "codemirror_mode": {
    "name": "ipython",
    "version": 3
   },
   "file_extension": ".py",
   "mimetype": "text/x-python",
   "name": "python",
   "nbconvert_exporter": "python",
   "pygments_lexer": "ipython3",
   "version": "3.8.8"
  }
 },
 "nbformat": 4,
 "nbformat_minor": 5
}
